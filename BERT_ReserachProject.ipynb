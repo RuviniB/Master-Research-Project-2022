{
  "cells": [
    {
      "cell_type": "code",
      "source": [
        "\n"
      ],
      "metadata": {
        "id": "diOpxOSf57mx"
      },
      "execution_count": null,
      "outputs": []
    },
    {
      "cell_type": "markdown",
      "source": [
        "# New Section"
      ],
      "metadata": {
        "id": "02NZwImCCgjR"
      }
    },
    {
      "cell_type": "code",
      "execution_count": null,
      "metadata": {
        "colab": {
          "base_uri": "https://localhost:8080/"
        },
        "id": "tlM6itN2e3uX",
        "outputId": "21a734b1-1f18-455e-9c44-8c8ec0ffe064"
      },
      "outputs": [
        {
          "output_type": "stream",
          "name": "stdout",
          "text": [
            "Looking in indexes: https://pypi.org/simple, https://us-python.pkg.dev/colab-wheels/public/simple/\n",
            "Requirement already satisfied: tensorflow in /usr/local/lib/python3.7/dist-packages (2.8.2+zzzcolab20220719082949)\n",
            "Requirement already satisfied: tensorboard<2.9,>=2.8 in /usr/local/lib/python3.7/dist-packages (from tensorflow) (2.8.0)\n",
            "Requirement already satisfied: keras-preprocessing>=1.1.1 in /usr/local/lib/python3.7/dist-packages (from tensorflow) (1.1.2)\n",
            "Requirement already satisfied: termcolor>=1.1.0 in /usr/local/lib/python3.7/dist-packages (from tensorflow) (1.1.0)\n",
            "Requirement already satisfied: grpcio<2.0,>=1.24.3 in /usr/local/lib/python3.7/dist-packages (from tensorflow) (1.47.0)\n",
            "Requirement already satisfied: setuptools in /usr/local/lib/python3.7/dist-packages (from tensorflow) (57.4.0)\n",
            "Requirement already satisfied: libclang>=9.0.1 in /usr/local/lib/python3.7/dist-packages (from tensorflow) (14.0.6)\n",
            "Requirement already satisfied: six>=1.12.0 in /usr/local/lib/python3.7/dist-packages (from tensorflow) (1.15.0)\n",
            "Requirement already satisfied: numpy>=1.20 in /usr/local/lib/python3.7/dist-packages (from tensorflow) (1.21.6)\n",
            "Requirement already satisfied: flatbuffers>=1.12 in /usr/local/lib/python3.7/dist-packages (from tensorflow) (2.0)\n",
            "Requirement already satisfied: gast>=0.2.1 in /usr/local/lib/python3.7/dist-packages (from tensorflow) (0.5.3)\n",
            "Requirement already satisfied: tensorflow-io-gcs-filesystem>=0.23.1 in /usr/local/lib/python3.7/dist-packages (from tensorflow) (0.26.0)\n",
            "Requirement already satisfied: wrapt>=1.11.0 in /usr/local/lib/python3.7/dist-packages (from tensorflow) (1.14.1)\n",
            "Requirement already satisfied: keras<2.9,>=2.8.0rc0 in /usr/local/lib/python3.7/dist-packages (from tensorflow) (2.8.0)\n",
            "Requirement already satisfied: astunparse>=1.6.0 in /usr/local/lib/python3.7/dist-packages (from tensorflow) (1.6.3)\n",
            "Requirement already satisfied: absl-py>=0.4.0 in /usr/local/lib/python3.7/dist-packages (from tensorflow) (1.2.0)\n",
            "Requirement already satisfied: h5py>=2.9.0 in /usr/local/lib/python3.7/dist-packages (from tensorflow) (3.1.0)\n",
            "Requirement already satisfied: tensorflow-estimator<2.9,>=2.8 in /usr/local/lib/python3.7/dist-packages (from tensorflow) (2.8.0)\n",
            "Requirement already satisfied: typing-extensions>=3.6.6 in /usr/local/lib/python3.7/dist-packages (from tensorflow) (4.1.1)\n",
            "Requirement already satisfied: opt-einsum>=2.3.2 in /usr/local/lib/python3.7/dist-packages (from tensorflow) (3.3.0)\n",
            "Requirement already satisfied: google-pasta>=0.1.1 in /usr/local/lib/python3.7/dist-packages (from tensorflow) (0.2.0)\n",
            "Requirement already satisfied: protobuf<3.20,>=3.9.2 in /usr/local/lib/python3.7/dist-packages (from tensorflow) (3.17.3)\n",
            "Requirement already satisfied: wheel<1.0,>=0.23.0 in /usr/local/lib/python3.7/dist-packages (from astunparse>=1.6.0->tensorflow) (0.37.1)\n",
            "Requirement already satisfied: cached-property in /usr/local/lib/python3.7/dist-packages (from h5py>=2.9.0->tensorflow) (1.5.2)\n",
            "Requirement already satisfied: tensorboard-plugin-wit>=1.6.0 in /usr/local/lib/python3.7/dist-packages (from tensorboard<2.9,>=2.8->tensorflow) (1.8.1)\n",
            "Requirement already satisfied: google-auth<3,>=1.6.3 in /usr/local/lib/python3.7/dist-packages (from tensorboard<2.9,>=2.8->tensorflow) (1.35.0)\n",
            "Requirement already satisfied: tensorboard-data-server<0.7.0,>=0.6.0 in /usr/local/lib/python3.7/dist-packages (from tensorboard<2.9,>=2.8->tensorflow) (0.6.1)\n",
            "Requirement already satisfied: google-auth-oauthlib<0.5,>=0.4.1 in /usr/local/lib/python3.7/dist-packages (from tensorboard<2.9,>=2.8->tensorflow) (0.4.6)\n",
            "Requirement already satisfied: requests<3,>=2.21.0 in /usr/local/lib/python3.7/dist-packages (from tensorboard<2.9,>=2.8->tensorflow) (2.23.0)\n",
            "Requirement already satisfied: werkzeug>=0.11.15 in /usr/local/lib/python3.7/dist-packages (from tensorboard<2.9,>=2.8->tensorflow) (1.0.1)\n",
            "Requirement already satisfied: markdown>=2.6.8 in /usr/local/lib/python3.7/dist-packages (from tensorboard<2.9,>=2.8->tensorflow) (3.4.1)\n",
            "Requirement already satisfied: rsa<5,>=3.1.4 in /usr/local/lib/python3.7/dist-packages (from google-auth<3,>=1.6.3->tensorboard<2.9,>=2.8->tensorflow) (4.9)\n",
            "Requirement already satisfied: pyasn1-modules>=0.2.1 in /usr/local/lib/python3.7/dist-packages (from google-auth<3,>=1.6.3->tensorboard<2.9,>=2.8->tensorflow) (0.2.8)\n",
            "Requirement already satisfied: cachetools<5.0,>=2.0.0 in /usr/local/lib/python3.7/dist-packages (from google-auth<3,>=1.6.3->tensorboard<2.9,>=2.8->tensorflow) (4.2.4)\n",
            "Requirement already satisfied: requests-oauthlib>=0.7.0 in /usr/local/lib/python3.7/dist-packages (from google-auth-oauthlib<0.5,>=0.4.1->tensorboard<2.9,>=2.8->tensorflow) (1.3.1)\n",
            "Requirement already satisfied: importlib-metadata>=4.4 in /usr/local/lib/python3.7/dist-packages (from markdown>=2.6.8->tensorboard<2.9,>=2.8->tensorflow) (4.12.0)\n",
            "Requirement already satisfied: zipp>=0.5 in /usr/local/lib/python3.7/dist-packages (from importlib-metadata>=4.4->markdown>=2.6.8->tensorboard<2.9,>=2.8->tensorflow) (3.8.1)\n",
            "Requirement already satisfied: pyasn1<0.5.0,>=0.4.6 in /usr/local/lib/python3.7/dist-packages (from pyasn1-modules>=0.2.1->google-auth<3,>=1.6.3->tensorboard<2.9,>=2.8->tensorflow) (0.4.8)\n",
            "Requirement already satisfied: idna<3,>=2.5 in /usr/local/lib/python3.7/dist-packages (from requests<3,>=2.21.0->tensorboard<2.9,>=2.8->tensorflow) (2.10)\n",
            "Requirement already satisfied: certifi>=2017.4.17 in /usr/local/lib/python3.7/dist-packages (from requests<3,>=2.21.0->tensorboard<2.9,>=2.8->tensorflow) (2022.6.15)\n",
            "Requirement already satisfied: urllib3!=1.25.0,!=1.25.1,<1.26,>=1.21.1 in /usr/local/lib/python3.7/dist-packages (from requests<3,>=2.21.0->tensorboard<2.9,>=2.8->tensorflow) (1.24.3)\n",
            "Requirement already satisfied: chardet<4,>=3.0.2 in /usr/local/lib/python3.7/dist-packages (from requests<3,>=2.21.0->tensorboard<2.9,>=2.8->tensorflow) (3.0.4)\n",
            "Requirement already satisfied: oauthlib>=3.0.0 in /usr/local/lib/python3.7/dist-packages (from requests-oauthlib>=0.7.0->google-auth-oauthlib<0.5,>=0.4.1->tensorboard<2.9,>=2.8->tensorflow) (3.2.0)\n"
          ]
        }
      ],
      "source": [
        "!pip install tensorflow"
      ]
    },
    {
      "cell_type": "code",
      "execution_count": null,
      "metadata": {
        "colab": {
          "base_uri": "https://localhost:8080/"
        },
        "id": "b0GiWCT7e9CG",
        "outputId": "716cf816-dd16-4d89-e64d-734b2007e8cd"
      },
      "outputs": [
        {
          "output_type": "stream",
          "name": "stdout",
          "text": [
            "Looking in indexes: https://pypi.org/simple, https://us-python.pkg.dev/colab-wheels/public/simple/\n",
            "Collecting tensorflow_text\n",
            "  Downloading tensorflow_text-2.9.0-cp37-cp37m-manylinux_2_17_x86_64.manylinux2014_x86_64.whl (4.6 MB)\n",
            "\u001b[K     |████████████████████████████████| 4.6 MB 6.6 MB/s \n",
            "\u001b[?25hCollecting tensorflow<2.10,>=2.9.0\n",
            "  Downloading tensorflow-2.9.1-cp37-cp37m-manylinux_2_17_x86_64.manylinux2014_x86_64.whl (511.7 MB)\n",
            "\u001b[K     |████████████████████████████████| 511.7 MB 5.9 kB/s \n",
            "\u001b[?25hRequirement already satisfied: tensorflow-hub>=0.8.0 in /usr/local/lib/python3.7/dist-packages (from tensorflow_text) (0.12.0)\n",
            "Requirement already satisfied: absl-py>=1.0.0 in /usr/local/lib/python3.7/dist-packages (from tensorflow<2.10,>=2.9.0->tensorflow_text) (1.2.0)\n",
            "Requirement already satisfied: keras-preprocessing>=1.1.1 in /usr/local/lib/python3.7/dist-packages (from tensorflow<2.10,>=2.9.0->tensorflow_text) (1.1.2)\n",
            "Requirement already satisfied: astunparse>=1.6.0 in /usr/local/lib/python3.7/dist-packages (from tensorflow<2.10,>=2.9.0->tensorflow_text) (1.6.3)\n",
            "Requirement already satisfied: packaging in /usr/local/lib/python3.7/dist-packages (from tensorflow<2.10,>=2.9.0->tensorflow_text) (21.3)\n",
            "Collecting keras<2.10.0,>=2.9.0rc0\n",
            "  Downloading keras-2.9.0-py2.py3-none-any.whl (1.6 MB)\n",
            "\u001b[K     |████████████████████████████████| 1.6 MB 54.2 MB/s \n",
            "\u001b[?25hRequirement already satisfied: protobuf<3.20,>=3.9.2 in /usr/local/lib/python3.7/dist-packages (from tensorflow<2.10,>=2.9.0->tensorflow_text) (3.17.3)\n",
            "Requirement already satisfied: h5py>=2.9.0 in /usr/local/lib/python3.7/dist-packages (from tensorflow<2.10,>=2.9.0->tensorflow_text) (3.1.0)\n",
            "Requirement already satisfied: tensorflow-io-gcs-filesystem>=0.23.1 in /usr/local/lib/python3.7/dist-packages (from tensorflow<2.10,>=2.9.0->tensorflow_text) (0.26.0)\n",
            "Requirement already satisfied: six>=1.12.0 in /usr/local/lib/python3.7/dist-packages (from tensorflow<2.10,>=2.9.0->tensorflow_text) (1.15.0)\n",
            "Requirement already satisfied: opt-einsum>=2.3.2 in /usr/local/lib/python3.7/dist-packages (from tensorflow<2.10,>=2.9.0->tensorflow_text) (3.3.0)\n",
            "Requirement already satisfied: termcolor>=1.1.0 in /usr/local/lib/python3.7/dist-packages (from tensorflow<2.10,>=2.9.0->tensorflow_text) (1.1.0)\n",
            "Requirement already satisfied: google-pasta>=0.1.1 in /usr/local/lib/python3.7/dist-packages (from tensorflow<2.10,>=2.9.0->tensorflow_text) (0.2.0)\n",
            "Requirement already satisfied: typing-extensions>=3.6.6 in /usr/local/lib/python3.7/dist-packages (from tensorflow<2.10,>=2.9.0->tensorflow_text) (4.1.1)\n",
            "Collecting gast<=0.4.0,>=0.2.1\n",
            "  Downloading gast-0.4.0-py3-none-any.whl (9.8 kB)\n",
            "Requirement already satisfied: wrapt>=1.11.0 in /usr/local/lib/python3.7/dist-packages (from tensorflow<2.10,>=2.9.0->tensorflow_text) (1.14.1)\n",
            "Collecting tensorboard<2.10,>=2.9\n",
            "  Downloading tensorboard-2.9.1-py3-none-any.whl (5.8 MB)\n",
            "\u001b[K     |████████████████████████████████| 5.8 MB 45.5 MB/s \n",
            "\u001b[?25hRequirement already satisfied: numpy>=1.20 in /usr/local/lib/python3.7/dist-packages (from tensorflow<2.10,>=2.9.0->tensorflow_text) (1.21.6)\n",
            "Requirement already satisfied: setuptools in /usr/local/lib/python3.7/dist-packages (from tensorflow<2.10,>=2.9.0->tensorflow_text) (57.4.0)\n",
            "Requirement already satisfied: libclang>=13.0.0 in /usr/local/lib/python3.7/dist-packages (from tensorflow<2.10,>=2.9.0->tensorflow_text) (14.0.6)\n",
            "Collecting flatbuffers<2,>=1.12\n",
            "  Downloading flatbuffers-1.12-py2.py3-none-any.whl (15 kB)\n",
            "Requirement already satisfied: grpcio<2.0,>=1.24.3 in /usr/local/lib/python3.7/dist-packages (from tensorflow<2.10,>=2.9.0->tensorflow_text) (1.47.0)\n",
            "Collecting tensorflow-estimator<2.10.0,>=2.9.0rc0\n",
            "  Downloading tensorflow_estimator-2.9.0-py2.py3-none-any.whl (438 kB)\n",
            "\u001b[K     |████████████████████████████████| 438 kB 66.9 MB/s \n",
            "\u001b[?25hRequirement already satisfied: wheel<1.0,>=0.23.0 in /usr/local/lib/python3.7/dist-packages (from astunparse>=1.6.0->tensorflow<2.10,>=2.9.0->tensorflow_text) (0.37.1)\n",
            "Requirement already satisfied: cached-property in /usr/local/lib/python3.7/dist-packages (from h5py>=2.9.0->tensorflow<2.10,>=2.9.0->tensorflow_text) (1.5.2)\n",
            "Requirement already satisfied: werkzeug>=1.0.1 in /usr/local/lib/python3.7/dist-packages (from tensorboard<2.10,>=2.9->tensorflow<2.10,>=2.9.0->tensorflow_text) (1.0.1)\n",
            "Requirement already satisfied: requests<3,>=2.21.0 in /usr/local/lib/python3.7/dist-packages (from tensorboard<2.10,>=2.9->tensorflow<2.10,>=2.9.0->tensorflow_text) (2.23.0)\n",
            "Requirement already satisfied: google-auth<3,>=1.6.3 in /usr/local/lib/python3.7/dist-packages (from tensorboard<2.10,>=2.9->tensorflow<2.10,>=2.9.0->tensorflow_text) (1.35.0)\n",
            "Requirement already satisfied: tensorboard-data-server<0.7.0,>=0.6.0 in /usr/local/lib/python3.7/dist-packages (from tensorboard<2.10,>=2.9->tensorflow<2.10,>=2.9.0->tensorflow_text) (0.6.1)\n",
            "Requirement already satisfied: tensorboard-plugin-wit>=1.6.0 in /usr/local/lib/python3.7/dist-packages (from tensorboard<2.10,>=2.9->tensorflow<2.10,>=2.9.0->tensorflow_text) (1.8.1)\n",
            "Requirement already satisfied: google-auth-oauthlib<0.5,>=0.4.1 in /usr/local/lib/python3.7/dist-packages (from tensorboard<2.10,>=2.9->tensorflow<2.10,>=2.9.0->tensorflow_text) (0.4.6)\n",
            "Requirement already satisfied: markdown>=2.6.8 in /usr/local/lib/python3.7/dist-packages (from tensorboard<2.10,>=2.9->tensorflow<2.10,>=2.9.0->tensorflow_text) (3.4.1)\n",
            "Requirement already satisfied: cachetools<5.0,>=2.0.0 in /usr/local/lib/python3.7/dist-packages (from google-auth<3,>=1.6.3->tensorboard<2.10,>=2.9->tensorflow<2.10,>=2.9.0->tensorflow_text) (4.2.4)\n",
            "Requirement already satisfied: rsa<5,>=3.1.4 in /usr/local/lib/python3.7/dist-packages (from google-auth<3,>=1.6.3->tensorboard<2.10,>=2.9->tensorflow<2.10,>=2.9.0->tensorflow_text) (4.9)\n",
            "Requirement already satisfied: pyasn1-modules>=0.2.1 in /usr/local/lib/python3.7/dist-packages (from google-auth<3,>=1.6.3->tensorboard<2.10,>=2.9->tensorflow<2.10,>=2.9.0->tensorflow_text) (0.2.8)\n",
            "Requirement already satisfied: requests-oauthlib>=0.7.0 in /usr/local/lib/python3.7/dist-packages (from google-auth-oauthlib<0.5,>=0.4.1->tensorboard<2.10,>=2.9->tensorflow<2.10,>=2.9.0->tensorflow_text) (1.3.1)\n",
            "Requirement already satisfied: importlib-metadata>=4.4 in /usr/local/lib/python3.7/dist-packages (from markdown>=2.6.8->tensorboard<2.10,>=2.9->tensorflow<2.10,>=2.9.0->tensorflow_text) (4.12.0)\n",
            "Requirement already satisfied: zipp>=0.5 in /usr/local/lib/python3.7/dist-packages (from importlib-metadata>=4.4->markdown>=2.6.8->tensorboard<2.10,>=2.9->tensorflow<2.10,>=2.9.0->tensorflow_text) (3.8.1)\n",
            "Requirement already satisfied: pyasn1<0.5.0,>=0.4.6 in /usr/local/lib/python3.7/dist-packages (from pyasn1-modules>=0.2.1->google-auth<3,>=1.6.3->tensorboard<2.10,>=2.9->tensorflow<2.10,>=2.9.0->tensorflow_text) (0.4.8)\n",
            "Requirement already satisfied: chardet<4,>=3.0.2 in /usr/local/lib/python3.7/dist-packages (from requests<3,>=2.21.0->tensorboard<2.10,>=2.9->tensorflow<2.10,>=2.9.0->tensorflow_text) (3.0.4)\n",
            "Requirement already satisfied: idna<3,>=2.5 in /usr/local/lib/python3.7/dist-packages (from requests<3,>=2.21.0->tensorboard<2.10,>=2.9->tensorflow<2.10,>=2.9.0->tensorflow_text) (2.10)\n",
            "Requirement already satisfied: certifi>=2017.4.17 in /usr/local/lib/python3.7/dist-packages (from requests<3,>=2.21.0->tensorboard<2.10,>=2.9->tensorflow<2.10,>=2.9.0->tensorflow_text) (2022.6.15)\n",
            "Requirement already satisfied: urllib3!=1.25.0,!=1.25.1,<1.26,>=1.21.1 in /usr/local/lib/python3.7/dist-packages (from requests<3,>=2.21.0->tensorboard<2.10,>=2.9->tensorflow<2.10,>=2.9.0->tensorflow_text) (1.24.3)\n",
            "Requirement already satisfied: oauthlib>=3.0.0 in /usr/local/lib/python3.7/dist-packages (from requests-oauthlib>=0.7.0->google-auth-oauthlib<0.5,>=0.4.1->tensorboard<2.10,>=2.9->tensorflow<2.10,>=2.9.0->tensorflow_text) (3.2.0)\n",
            "Requirement already satisfied: pyparsing!=3.0.5,>=2.0.2 in /usr/local/lib/python3.7/dist-packages (from packaging->tensorflow<2.10,>=2.9.0->tensorflow_text) (3.0.9)\n",
            "Installing collected packages: tensorflow-estimator, tensorboard, keras, gast, flatbuffers, tensorflow, tensorflow-text\n",
            "  Attempting uninstall: tensorflow-estimator\n",
            "    Found existing installation: tensorflow-estimator 2.8.0\n",
            "    Uninstalling tensorflow-estimator-2.8.0:\n",
            "      Successfully uninstalled tensorflow-estimator-2.8.0\n",
            "  Attempting uninstall: tensorboard\n",
            "    Found existing installation: tensorboard 2.8.0\n",
            "    Uninstalling tensorboard-2.8.0:\n",
            "      Successfully uninstalled tensorboard-2.8.0\n",
            "  Attempting uninstall: keras\n",
            "    Found existing installation: keras 2.8.0\n",
            "    Uninstalling keras-2.8.0:\n",
            "      Successfully uninstalled keras-2.8.0\n",
            "  Attempting uninstall: gast\n",
            "    Found existing installation: gast 0.5.3\n",
            "    Uninstalling gast-0.5.3:\n",
            "      Successfully uninstalled gast-0.5.3\n",
            "  Attempting uninstall: flatbuffers\n",
            "    Found existing installation: flatbuffers 2.0\n",
            "    Uninstalling flatbuffers-2.0:\n",
            "      Successfully uninstalled flatbuffers-2.0\n",
            "  Attempting uninstall: tensorflow\n",
            "    Found existing installation: tensorflow 2.8.2+zzzcolab20220719082949\n",
            "    Uninstalling tensorflow-2.8.2+zzzcolab20220719082949:\n",
            "      Successfully uninstalled tensorflow-2.8.2+zzzcolab20220719082949\n",
            "Successfully installed flatbuffers-1.12 gast-0.4.0 keras-2.9.0 tensorboard-2.9.1 tensorflow-2.9.1 tensorflow-estimator-2.9.0 tensorflow-text-2.9.0\n"
          ]
        }
      ],
      "source": [
        "!pip install tensorflow_text"
      ]
    },
    {
      "cell_type": "code",
      "execution_count": null,
      "metadata": {
        "id": "ybLyNK-9fFUH"
      },
      "outputs": [],
      "source": [
        "#import Libraries\n",
        "import tensorflow as tf\n",
        "import tensorflow_hub as hub\n",
        "import tensorflow_text as text\n"
      ]
    },
    {
      "cell_type": "code",
      "execution_count": null,
      "metadata": {
        "id": "OWddFn8cr7Hz"
      },
      "outputs": [],
      "source": [
        "#pip install tensorflow_text"
      ]
    },
    {
      "cell_type": "code",
      "execution_count": null,
      "metadata": {
        "colab": {
          "base_uri": "https://localhost:8080/"
        },
        "id": "r7Q3Kz2kffs1",
        "outputId": "e324c2e0-1622-4989-b118-7110ea34209a"
      },
      "outputs": [
        {
          "output_type": "stream",
          "name": "stdout",
          "text": [
            "Looking in indexes: https://pypi.org/simple, https://us-python.pkg.dev/colab-wheels/public/simple/\n",
            "Requirement already satisfied: pandas in /usr/local/lib/python3.7/dist-packages (1.3.5)\n",
            "Requirement already satisfied: python-dateutil>=2.7.3 in /usr/local/lib/python3.7/dist-packages (from pandas) (2.8.2)\n",
            "Requirement already satisfied: numpy>=1.17.3 in /usr/local/lib/python3.7/dist-packages (from pandas) (1.21.6)\n",
            "Requirement already satisfied: pytz>=2017.3 in /usr/local/lib/python3.7/dist-packages (from pandas) (2022.1)\n",
            "Requirement already satisfied: six>=1.5 in /usr/local/lib/python3.7/dist-packages (from python-dateutil>=2.7.3->pandas) (1.15.0)\n"
          ]
        }
      ],
      "source": [
        "!pip install pandas"
      ]
    },
    {
      "cell_type": "code",
      "execution_count": null,
      "metadata": {
        "id": "cYiK_eNVfuz0"
      },
      "outputs": [],
      "source": [
        "#upload the data set\n",
        "URL = \"DATASET_URL\""
      ]
    },
    {
      "cell_type": "code",
      "execution_count": null,
      "metadata": {
        "colab": {
          "base_uri": "https://localhost:8080/",
          "height": 530
        },
        "id": "q2B7fxbCf44O",
        "outputId": "480ec3ab-24d3-465c-e7df-b65ec7a2abcb"
      },
      "outputs": [
        {
          "output_type": "execute_result",
          "data": {
            "text/plain": [
              "      author id                 created_at               geo            id  \\\n",
              "0  8.847627e+07  2021-01-30 23:27:51+00:00  0af014accd6f6e99  1.360000e+18   \n",
              "1  2.212480e+09  2021-01-30 23:22:42+00:00  544762ebf7fda780  1.360000e+18   \n",
              "2  2.180468e+07  2021-01-30 23:21:37+00:00  0282e03e23c71cd9  1.360000e+18   \n",
              "3  3.368075e+09  2021-01-30 23:17:59+00:00  6950c01e141ecebc  1.360000e+18   \n",
              "4  1.170000e+18  2021-01-30 23:11:52+00:00  3e20eaf0dc70acfe  1.360000e+18   \n",
              "\n",
              "  lang  like_count  quote_count  reply_count  retweet_count  \\\n",
              "0   en           2            0            0              0   \n",
              "1   en           0            0            1              0   \n",
              "2   en           0            0            0              0   \n",
              "3   en           2            0            0              0   \n",
              "4   en           0            0            0              0   \n",
              "\n",
              "                source                                              tweet  \\\n",
              "0   Twitter for iPhone   Also, spoongate and highlightergate took me p...   \n",
              "1  Twitter for Android      But spreading the vaccine more thinly acro...   \n",
              "2   Twitter for iPhone                                  You read my mind!   \n",
              "3   Twitter for iPhone  The fact sea shanties are viral on tiktok has ...   \n",
              "4  Twitter for Android      good evening guys Ã¢ÂÂ¤Ã¯Â¸Â I miss you....   \n",
              "\n",
              "  Disease Category                   location  \\\n",
              "0     NaN       no   Scotland, United Kingdom   \n",
              "1     NaN       no          Islington, London   \n",
              "2     NaN       no         Walberton, England   \n",
              "3     NaN       no           Pendeen, England   \n",
              "4     NaN       no  Stockton-on-Tees, England   \n",
              "\n",
              "                                                bbox  \\\n",
              "0  [-7.66085699743185, 54.6336309570711, -0.74002...   \n",
              "1     [-0.1420579, 51.5185518, -0.076305, 51.575301]   \n",
              "2       [-0.649321, 50.842058, -0.613803, 50.857136]   \n",
              "3       [-5.672772, 50.147916, -5.650931, 50.155494]   \n",
              "4      [-1.372296, 54.538762, -1.2717038, 54.600693]   \n",
              "\n",
              "                                    normalized_tweet  \\\n",
              "0  ['spoongate', 'highlightergate', 'took', 'peri...   \n",
              "1  ['bouledenerfs', 'sbarrellkane', 'danieleales'...   \n",
              "2       ['measles', 'britishmuseum', 'read', 'mind']   \n",
              "3  ['sea', 'shanty', 'viral', 'tiktok', 'made', '...   \n",
              "4  ['shanefilan', 'kianeganwl', 'good', 'evening'...   \n",
              "\n",
              "                                  preprocessed_tweet  \n",
              "0   also  spoongate and highlightergate took me p...  \n",
              "1      but spreading the vaccine more thinly acro...  \n",
              "2                                  you read my mind   \n",
              "3  the fact sea shanties are viral on tiktok has ...  \n",
              "4      good evening guys              i miss you ...  "
            ],
            "text/html": [
              "\n",
              "  <div id=\"df-99dc5072-50a9-4dde-9ca1-b0c2bf9feb0f\">\n",
              "    <div class=\"colab-df-container\">\n",
              "      <div>\n",
              "<style scoped>\n",
              "    .dataframe tbody tr th:only-of-type {\n",
              "        vertical-align: middle;\n",
              "    }\n",
              "\n",
              "    .dataframe tbody tr th {\n",
              "        vertical-align: top;\n",
              "    }\n",
              "\n",
              "    .dataframe thead th {\n",
              "        text-align: right;\n",
              "    }\n",
              "</style>\n",
              "<table border=\"1\" class=\"dataframe\">\n",
              "  <thead>\n",
              "    <tr style=\"text-align: right;\">\n",
              "      <th></th>\n",
              "      <th>author id</th>\n",
              "      <th>created_at</th>\n",
              "      <th>geo</th>\n",
              "      <th>id</th>\n",
              "      <th>lang</th>\n",
              "      <th>like_count</th>\n",
              "      <th>quote_count</th>\n",
              "      <th>reply_count</th>\n",
              "      <th>retweet_count</th>\n",
              "      <th>source</th>\n",
              "      <th>tweet</th>\n",
              "      <th>Disease</th>\n",
              "      <th>Category</th>\n",
              "      <th>location</th>\n",
              "      <th>bbox</th>\n",
              "      <th>normalized_tweet</th>\n",
              "      <th>preprocessed_tweet</th>\n",
              "    </tr>\n",
              "  </thead>\n",
              "  <tbody>\n",
              "    <tr>\n",
              "      <th>0</th>\n",
              "      <td>8.847627e+07</td>\n",
              "      <td>2021-01-30 23:27:51+00:00</td>\n",
              "      <td>0af014accd6f6e99</td>\n",
              "      <td>1.360000e+18</td>\n",
              "      <td>en</td>\n",
              "      <td>2</td>\n",
              "      <td>0</td>\n",
              "      <td>0</td>\n",
              "      <td>0</td>\n",
              "      <td>Twitter for iPhone</td>\n",
              "      <td>Also, spoongate and highlightergate took me p...</td>\n",
              "      <td>NaN</td>\n",
              "      <td>no</td>\n",
              "      <td>Scotland, United Kingdom</td>\n",
              "      <td>[-7.66085699743185, 54.6336309570711, -0.74002...</td>\n",
              "      <td>['spoongate', 'highlightergate', 'took', 'peri...</td>\n",
              "      <td>also  spoongate and highlightergate took me p...</td>\n",
              "    </tr>\n",
              "    <tr>\n",
              "      <th>1</th>\n",
              "      <td>2.212480e+09</td>\n",
              "      <td>2021-01-30 23:22:42+00:00</td>\n",
              "      <td>544762ebf7fda780</td>\n",
              "      <td>1.360000e+18</td>\n",
              "      <td>en</td>\n",
              "      <td>0</td>\n",
              "      <td>0</td>\n",
              "      <td>1</td>\n",
              "      <td>0</td>\n",
              "      <td>Twitter for Android</td>\n",
              "      <td>But spreading the vaccine more thinly acro...</td>\n",
              "      <td>NaN</td>\n",
              "      <td>no</td>\n",
              "      <td>Islington, London</td>\n",
              "      <td>[-0.1420579, 51.5185518, -0.076305, 51.575301]</td>\n",
              "      <td>['bouledenerfs', 'sbarrellkane', 'danieleales'...</td>\n",
              "      <td>but spreading the vaccine more thinly acro...</td>\n",
              "    </tr>\n",
              "    <tr>\n",
              "      <th>2</th>\n",
              "      <td>2.180468e+07</td>\n",
              "      <td>2021-01-30 23:21:37+00:00</td>\n",
              "      <td>0282e03e23c71cd9</td>\n",
              "      <td>1.360000e+18</td>\n",
              "      <td>en</td>\n",
              "      <td>0</td>\n",
              "      <td>0</td>\n",
              "      <td>0</td>\n",
              "      <td>0</td>\n",
              "      <td>Twitter for iPhone</td>\n",
              "      <td>You read my mind!</td>\n",
              "      <td>NaN</td>\n",
              "      <td>no</td>\n",
              "      <td>Walberton, England</td>\n",
              "      <td>[-0.649321, 50.842058, -0.613803, 50.857136]</td>\n",
              "      <td>['measles', 'britishmuseum', 'read', 'mind']</td>\n",
              "      <td>you read my mind</td>\n",
              "    </tr>\n",
              "    <tr>\n",
              "      <th>3</th>\n",
              "      <td>3.368075e+09</td>\n",
              "      <td>2021-01-30 23:17:59+00:00</td>\n",
              "      <td>6950c01e141ecebc</td>\n",
              "      <td>1.360000e+18</td>\n",
              "      <td>en</td>\n",
              "      <td>2</td>\n",
              "      <td>0</td>\n",
              "      <td>0</td>\n",
              "      <td>0</td>\n",
              "      <td>Twitter for iPhone</td>\n",
              "      <td>The fact sea shanties are viral on tiktok has ...</td>\n",
              "      <td>NaN</td>\n",
              "      <td>no</td>\n",
              "      <td>Pendeen, England</td>\n",
              "      <td>[-5.672772, 50.147916, -5.650931, 50.155494]</td>\n",
              "      <td>['sea', 'shanty', 'viral', 'tiktok', 'made', '...</td>\n",
              "      <td>the fact sea shanties are viral on tiktok has ...</td>\n",
              "    </tr>\n",
              "    <tr>\n",
              "      <th>4</th>\n",
              "      <td>1.170000e+18</td>\n",
              "      <td>2021-01-30 23:11:52+00:00</td>\n",
              "      <td>3e20eaf0dc70acfe</td>\n",
              "      <td>1.360000e+18</td>\n",
              "      <td>en</td>\n",
              "      <td>0</td>\n",
              "      <td>0</td>\n",
              "      <td>0</td>\n",
              "      <td>0</td>\n",
              "      <td>Twitter for Android</td>\n",
              "      <td>good evening guys Ã¢ÂÂ¤Ã¯Â¸Â I miss you....</td>\n",
              "      <td>NaN</td>\n",
              "      <td>no</td>\n",
              "      <td>Stockton-on-Tees, England</td>\n",
              "      <td>[-1.372296, 54.538762, -1.2717038, 54.600693]</td>\n",
              "      <td>['shanefilan', 'kianeganwl', 'good', 'evening'...</td>\n",
              "      <td>good evening guys              i miss you ...</td>\n",
              "    </tr>\n",
              "  </tbody>\n",
              "</table>\n",
              "</div>\n",
              "      <button class=\"colab-df-convert\" onclick=\"convertToInteractive('df-99dc5072-50a9-4dde-9ca1-b0c2bf9feb0f')\"\n",
              "              title=\"Convert this dataframe to an interactive table.\"\n",
              "              style=\"display:none;\">\n",
              "        \n",
              "  <svg xmlns=\"http://www.w3.org/2000/svg\" height=\"24px\"viewBox=\"0 0 24 24\"\n",
              "       width=\"24px\">\n",
              "    <path d=\"M0 0h24v24H0V0z\" fill=\"none\"/>\n",
              "    <path d=\"M18.56 5.44l.94 2.06.94-2.06 2.06-.94-2.06-.94-.94-2.06-.94 2.06-2.06.94zm-11 1L8.5 8.5l.94-2.06 2.06-.94-2.06-.94L8.5 2.5l-.94 2.06-2.06.94zm10 10l.94 2.06.94-2.06 2.06-.94-2.06-.94-.94-2.06-.94 2.06-2.06.94z\"/><path d=\"M17.41 7.96l-1.37-1.37c-.4-.4-.92-.59-1.43-.59-.52 0-1.04.2-1.43.59L10.3 9.45l-7.72 7.72c-.78.78-.78 2.05 0 2.83L4 21.41c.39.39.9.59 1.41.59.51 0 1.02-.2 1.41-.59l7.78-7.78 2.81-2.81c.8-.78.8-2.07 0-2.86zM5.41 20L4 18.59l7.72-7.72 1.47 1.35L5.41 20z\"/>\n",
              "  </svg>\n",
              "      </button>\n",
              "      \n",
              "  <style>\n",
              "    .colab-df-container {\n",
              "      display:flex;\n",
              "      flex-wrap:wrap;\n",
              "      gap: 12px;\n",
              "    }\n",
              "\n",
              "    .colab-df-convert {\n",
              "      background-color: #E8F0FE;\n",
              "      border: none;\n",
              "      border-radius: 50%;\n",
              "      cursor: pointer;\n",
              "      display: none;\n",
              "      fill: #1967D2;\n",
              "      height: 32px;\n",
              "      padding: 0 0 0 0;\n",
              "      width: 32px;\n",
              "    }\n",
              "\n",
              "    .colab-df-convert:hover {\n",
              "      background-color: #E2EBFA;\n",
              "      box-shadow: 0px 1px 2px rgba(60, 64, 67, 0.3), 0px 1px 3px 1px rgba(60, 64, 67, 0.15);\n",
              "      fill: #174EA6;\n",
              "    }\n",
              "\n",
              "    [theme=dark] .colab-df-convert {\n",
              "      background-color: #3B4455;\n",
              "      fill: #D2E3FC;\n",
              "    }\n",
              "\n",
              "    [theme=dark] .colab-df-convert:hover {\n",
              "      background-color: #434B5C;\n",
              "      box-shadow: 0px 1px 3px 1px rgba(0, 0, 0, 0.15);\n",
              "      filter: drop-shadow(0px 1px 2px rgba(0, 0, 0, 0.3));\n",
              "      fill: #FFFFFF;\n",
              "    }\n",
              "  </style>\n",
              "\n",
              "      <script>\n",
              "        const buttonEl =\n",
              "          document.querySelector('#df-99dc5072-50a9-4dde-9ca1-b0c2bf9feb0f button.colab-df-convert');\n",
              "        buttonEl.style.display =\n",
              "          google.colab.kernel.accessAllowed ? 'block' : 'none';\n",
              "\n",
              "        async function convertToInteractive(key) {\n",
              "          const element = document.querySelector('#df-99dc5072-50a9-4dde-9ca1-b0c2bf9feb0f');\n",
              "          const dataTable =\n",
              "            await google.colab.kernel.invokeFunction('convertToInteractive',\n",
              "                                                     [key], {});\n",
              "          if (!dataTable) return;\n",
              "\n",
              "          const docLinkHtml = 'Like what you see? Visit the ' +\n",
              "            '<a target=\"_blank\" href=https://colab.research.google.com/notebooks/data_table.ipynb>data table notebook</a>'\n",
              "            + ' to learn more about interactive tables.';\n",
              "          element.innerHTML = '';\n",
              "          dataTable['output_type'] = 'display_data';\n",
              "          await google.colab.output.renderOutput(dataTable, element);\n",
              "          const docLink = document.createElement('div');\n",
              "          docLink.innerHTML = docLinkHtml;\n",
              "          element.appendChild(docLink);\n",
              "        }\n",
              "      </script>\n",
              "    </div>\n",
              "  </div>\n",
              "  "
            ]
          },
          "metadata": {},
          "execution_count": 7
        }
      ],
      "source": [
        "#import panda and read data set\n",
        "import pandas as pd\n",
        "\n",
        "df = pd.read_csv(URL)\n",
        "df.head(5)"
      ]
    },
    {
      "cell_type": "code",
      "execution_count": null,
      "metadata": {
        "colab": {
          "base_uri": "https://localhost:8080/",
          "height": 268
        },
        "id": "WGMj4z70L9Rs",
        "outputId": "4fb56c7e-53bb-4c5a-ced9-7b5f308ec2dd"
      },
      "outputs": [
        {
          "output_type": "execute_result",
          "data": {
            "text/plain": [
              "         author id                                                      \\\n",
              "             count          mean           std        min          25%   \n",
              "Category                                                                 \n",
              "no           500.0  3.528740e+17  5.370827e+17   645503.0  148515235.0   \n",
              "yes          496.0  2.742782e+17  4.927095e+17  6091392.0  111879946.5   \n",
              "\n",
              "                                                       id                ...  \\\n",
              "                   50%           75%           max  count          mean  ...   \n",
              "Category                                                                 ...   \n",
              "no        1.062943e+09  8.927500e+17  1.520000e+18  500.0  1.430700e+18  ...   \n",
              "yes       5.369748e+08  4.487835e+09  1.470000e+18  496.0  1.455282e+18  ...   \n",
              "\n",
              "         reply_count       retweet_count                                     \\\n",
              "                 75%   max         count      mean       std  min  25%  50%   \n",
              "Category                                                                      \n",
              "no               1.0  91.0         500.0  0.576000  3.169276  0.0  0.0  0.0   \n",
              "yes              1.0  37.0         496.0  0.377016  1.968693  0.0  0.0  0.0   \n",
              "\n",
              "                     \n",
              "          75%   max  \n",
              "Category             \n",
              "no        0.0  49.0  \n",
              "yes       0.0  24.0  \n",
              "\n",
              "[2 rows x 48 columns]"
            ],
            "text/html": [
              "\n",
              "  <div id=\"df-d8234510-7278-4a46-92aa-095e6e4fe50e\">\n",
              "    <div class=\"colab-df-container\">\n",
              "      <div>\n",
              "<style scoped>\n",
              "    .dataframe tbody tr th:only-of-type {\n",
              "        vertical-align: middle;\n",
              "    }\n",
              "\n",
              "    .dataframe tbody tr th {\n",
              "        vertical-align: top;\n",
              "    }\n",
              "\n",
              "    .dataframe thead tr th {\n",
              "        text-align: left;\n",
              "    }\n",
              "\n",
              "    .dataframe thead tr:last-of-type th {\n",
              "        text-align: right;\n",
              "    }\n",
              "</style>\n",
              "<table border=\"1\" class=\"dataframe\">\n",
              "  <thead>\n",
              "    <tr>\n",
              "      <th></th>\n",
              "      <th colspan=\"8\" halign=\"left\">author id</th>\n",
              "      <th colspan=\"2\" halign=\"left\">id</th>\n",
              "      <th>...</th>\n",
              "      <th colspan=\"2\" halign=\"left\">reply_count</th>\n",
              "      <th colspan=\"8\" halign=\"left\">retweet_count</th>\n",
              "    </tr>\n",
              "    <tr>\n",
              "      <th></th>\n",
              "      <th>count</th>\n",
              "      <th>mean</th>\n",
              "      <th>std</th>\n",
              "      <th>min</th>\n",
              "      <th>25%</th>\n",
              "      <th>50%</th>\n",
              "      <th>75%</th>\n",
              "      <th>max</th>\n",
              "      <th>count</th>\n",
              "      <th>mean</th>\n",
              "      <th>...</th>\n",
              "      <th>75%</th>\n",
              "      <th>max</th>\n",
              "      <th>count</th>\n",
              "      <th>mean</th>\n",
              "      <th>std</th>\n",
              "      <th>min</th>\n",
              "      <th>25%</th>\n",
              "      <th>50%</th>\n",
              "      <th>75%</th>\n",
              "      <th>max</th>\n",
              "    </tr>\n",
              "    <tr>\n",
              "      <th>Category</th>\n",
              "      <th></th>\n",
              "      <th></th>\n",
              "      <th></th>\n",
              "      <th></th>\n",
              "      <th></th>\n",
              "      <th></th>\n",
              "      <th></th>\n",
              "      <th></th>\n",
              "      <th></th>\n",
              "      <th></th>\n",
              "      <th></th>\n",
              "      <th></th>\n",
              "      <th></th>\n",
              "      <th></th>\n",
              "      <th></th>\n",
              "      <th></th>\n",
              "      <th></th>\n",
              "      <th></th>\n",
              "      <th></th>\n",
              "      <th></th>\n",
              "      <th></th>\n",
              "    </tr>\n",
              "  </thead>\n",
              "  <tbody>\n",
              "    <tr>\n",
              "      <th>no</th>\n",
              "      <td>500.0</td>\n",
              "      <td>3.528740e+17</td>\n",
              "      <td>5.370827e+17</td>\n",
              "      <td>645503.0</td>\n",
              "      <td>148515235.0</td>\n",
              "      <td>1.062943e+09</td>\n",
              "      <td>8.927500e+17</td>\n",
              "      <td>1.520000e+18</td>\n",
              "      <td>500.0</td>\n",
              "      <td>1.430700e+18</td>\n",
              "      <td>...</td>\n",
              "      <td>1.0</td>\n",
              "      <td>91.0</td>\n",
              "      <td>500.0</td>\n",
              "      <td>0.576000</td>\n",
              "      <td>3.169276</td>\n",
              "      <td>0.0</td>\n",
              "      <td>0.0</td>\n",
              "      <td>0.0</td>\n",
              "      <td>0.0</td>\n",
              "      <td>49.0</td>\n",
              "    </tr>\n",
              "    <tr>\n",
              "      <th>yes</th>\n",
              "      <td>496.0</td>\n",
              "      <td>2.742782e+17</td>\n",
              "      <td>4.927095e+17</td>\n",
              "      <td>6091392.0</td>\n",
              "      <td>111879946.5</td>\n",
              "      <td>5.369748e+08</td>\n",
              "      <td>4.487835e+09</td>\n",
              "      <td>1.470000e+18</td>\n",
              "      <td>496.0</td>\n",
              "      <td>1.455282e+18</td>\n",
              "      <td>...</td>\n",
              "      <td>1.0</td>\n",
              "      <td>37.0</td>\n",
              "      <td>496.0</td>\n",
              "      <td>0.377016</td>\n",
              "      <td>1.968693</td>\n",
              "      <td>0.0</td>\n",
              "      <td>0.0</td>\n",
              "      <td>0.0</td>\n",
              "      <td>0.0</td>\n",
              "      <td>24.0</td>\n",
              "    </tr>\n",
              "  </tbody>\n",
              "</table>\n",
              "<p>2 rows × 48 columns</p>\n",
              "</div>\n",
              "      <button class=\"colab-df-convert\" onclick=\"convertToInteractive('df-d8234510-7278-4a46-92aa-095e6e4fe50e')\"\n",
              "              title=\"Convert this dataframe to an interactive table.\"\n",
              "              style=\"display:none;\">\n",
              "        \n",
              "  <svg xmlns=\"http://www.w3.org/2000/svg\" height=\"24px\"viewBox=\"0 0 24 24\"\n",
              "       width=\"24px\">\n",
              "    <path d=\"M0 0h24v24H0V0z\" fill=\"none\"/>\n",
              "    <path d=\"M18.56 5.44l.94 2.06.94-2.06 2.06-.94-2.06-.94-.94-2.06-.94 2.06-2.06.94zm-11 1L8.5 8.5l.94-2.06 2.06-.94-2.06-.94L8.5 2.5l-.94 2.06-2.06.94zm10 10l.94 2.06.94-2.06 2.06-.94-2.06-.94-.94-2.06-.94 2.06-2.06.94z\"/><path d=\"M17.41 7.96l-1.37-1.37c-.4-.4-.92-.59-1.43-.59-.52 0-1.04.2-1.43.59L10.3 9.45l-7.72 7.72c-.78.78-.78 2.05 0 2.83L4 21.41c.39.39.9.59 1.41.59.51 0 1.02-.2 1.41-.59l7.78-7.78 2.81-2.81c.8-.78.8-2.07 0-2.86zM5.41 20L4 18.59l7.72-7.72 1.47 1.35L5.41 20z\"/>\n",
              "  </svg>\n",
              "      </button>\n",
              "      \n",
              "  <style>\n",
              "    .colab-df-container {\n",
              "      display:flex;\n",
              "      flex-wrap:wrap;\n",
              "      gap: 12px;\n",
              "    }\n",
              "\n",
              "    .colab-df-convert {\n",
              "      background-color: #E8F0FE;\n",
              "      border: none;\n",
              "      border-radius: 50%;\n",
              "      cursor: pointer;\n",
              "      display: none;\n",
              "      fill: #1967D2;\n",
              "      height: 32px;\n",
              "      padding: 0 0 0 0;\n",
              "      width: 32px;\n",
              "    }\n",
              "\n",
              "    .colab-df-convert:hover {\n",
              "      background-color: #E2EBFA;\n",
              "      box-shadow: 0px 1px 2px rgba(60, 64, 67, 0.3), 0px 1px 3px 1px rgba(60, 64, 67, 0.15);\n",
              "      fill: #174EA6;\n",
              "    }\n",
              "\n",
              "    [theme=dark] .colab-df-convert {\n",
              "      background-color: #3B4455;\n",
              "      fill: #D2E3FC;\n",
              "    }\n",
              "\n",
              "    [theme=dark] .colab-df-convert:hover {\n",
              "      background-color: #434B5C;\n",
              "      box-shadow: 0px 1px 3px 1px rgba(0, 0, 0, 0.15);\n",
              "      filter: drop-shadow(0px 1px 2px rgba(0, 0, 0, 0.3));\n",
              "      fill: #FFFFFF;\n",
              "    }\n",
              "  </style>\n",
              "\n",
              "      <script>\n",
              "        const buttonEl =\n",
              "          document.querySelector('#df-d8234510-7278-4a46-92aa-095e6e4fe50e button.colab-df-convert');\n",
              "        buttonEl.style.display =\n",
              "          google.colab.kernel.accessAllowed ? 'block' : 'none';\n",
              "\n",
              "        async function convertToInteractive(key) {\n",
              "          const element = document.querySelector('#df-d8234510-7278-4a46-92aa-095e6e4fe50e');\n",
              "          const dataTable =\n",
              "            await google.colab.kernel.invokeFunction('convertToInteractive',\n",
              "                                                     [key], {});\n",
              "          if (!dataTable) return;\n",
              "\n",
              "          const docLinkHtml = 'Like what you see? Visit the ' +\n",
              "            '<a target=\"_blank\" href=https://colab.research.google.com/notebooks/data_table.ipynb>data table notebook</a>'\n",
              "            + ' to learn more about interactive tables.';\n",
              "          element.innerHTML = '';\n",
              "          dataTable['output_type'] = 'display_data';\n",
              "          await google.colab.output.renderOutput(dataTable, element);\n",
              "          const docLink = document.createElement('div');\n",
              "          docLink.innerHTML = docLinkHtml;\n",
              "          element.appendChild(docLink);\n",
              "        }\n",
              "      </script>\n",
              "    </div>\n",
              "  </div>\n",
              "  "
            ]
          },
          "metadata": {},
          "execution_count": 8
        }
      ],
      "source": [
        "df.groupby('Category').describe()"
      ]
    },
    {
      "cell_type": "code",
      "execution_count": null,
      "metadata": {
        "colab": {
          "base_uri": "https://localhost:8080/"
        },
        "id": "F00ImAz7OWs_",
        "outputId": "8a3ecd2b-b339-491a-dbb8-39a3a8d601e7"
      },
      "outputs": [
        {
          "output_type": "execute_result",
          "data": {
            "text/plain": [
              "no     500\n",
              "yes    496\n",
              "Name: Category, dtype: int64"
            ]
          },
          "metadata": {},
          "execution_count": 9
        }
      ],
      "source": [
        "df['Category'].value_counts()"
      ]
    },
    {
      "cell_type": "code",
      "execution_count": null,
      "metadata": {
        "colab": {
          "base_uri": "https://localhost:8080/"
        },
        "id": "5phmTCZUlvjA",
        "outputId": "40b8663a-56c0-4e6c-bd50-f377e5dc59a6"
      },
      "outputs": [
        {
          "output_type": "execute_result",
          "data": {
            "text/plain": [
              "(500, 17)"
            ]
          },
          "metadata": {},
          "execution_count": 10
        }
      ],
      "source": [
        "df_no = df[df['Category']=='no']\n",
        "df_no.shape"
      ]
    },
    {
      "cell_type": "code",
      "execution_count": null,
      "metadata": {
        "colab": {
          "base_uri": "https://localhost:8080/"
        },
        "id": "pM7DcS36lyYQ",
        "outputId": "2ad48b33-d64b-4c3e-d5c1-1248ec5df26d"
      },
      "outputs": [
        {
          "output_type": "execute_result",
          "data": {
            "text/plain": [
              "(496, 17)"
            ]
          },
          "metadata": {},
          "execution_count": 11
        }
      ],
      "source": [
        "df_yes = df[df['Category']=='yes']\n",
        "df_yes.shape"
      ]
    },
    {
      "cell_type": "code",
      "execution_count": null,
      "metadata": {
        "colab": {
          "base_uri": "https://localhost:8080/"
        },
        "id": "CUN7yxxemETh",
        "outputId": "6b9ec5b1-9936-4a46-b751-bdfa800a1144"
      },
      "outputs": [
        {
          "output_type": "execute_result",
          "data": {
            "text/plain": [
              "(496, 17)"
            ]
          },
          "metadata": {},
          "execution_count": 12
        }
      ],
      "source": [
        "#df_yes_downsampled = df_yes.sample(df_no.shape[0])\n",
        "#df_yes_downsampled.shape\n",
        "\n",
        "df_no_downsampled = df_no.sample(df_yes.shape[0])\n",
        "df_no_downsampled.shape"
      ]
    },
    {
      "cell_type": "code",
      "execution_count": null,
      "metadata": {
        "id": "z0IjO_PSnAQH",
        "colab": {
          "base_uri": "https://localhost:8080/"
        },
        "outputId": "2ec1337c-2ec1-497b-b6f9-42cc2bebc6b9"
      },
      "outputs": [
        {
          "output_type": "execute_result",
          "data": {
            "text/plain": [
              "(992, 17)"
            ]
          },
          "metadata": {},
          "execution_count": 13
        }
      ],
      "source": [
        "#df_balanced = pd.concat([df_yes_downsampled, df_no])\n",
        "df_balanced = pd.concat([df_yes, df_no_downsampled])\n",
        "df_balanced.shape"
      ]
    },
    {
      "cell_type": "code",
      "execution_count": null,
      "metadata": {
        "id": "8x7ZEeG8nCpP",
        "colab": {
          "base_uri": "https://localhost:8080/"
        },
        "outputId": "40f10f92-9e70-4c56-ba51-71637c7ab7b7"
      },
      "outputs": [
        {
          "output_type": "execute_result",
          "data": {
            "text/plain": [
              "yes    496\n",
              "no     496\n",
              "Name: Category, dtype: int64"
            ]
          },
          "metadata": {},
          "execution_count": 14
        }
      ],
      "source": [
        "#balance data set\n",
        "df_balanced['Category'].value_counts()"
      ]
    },
    {
      "cell_type": "code",
      "execution_count": null,
      "metadata": {
        "id": "cBGe8nABnF5e",
        "colab": {
          "base_uri": "https://localhost:8080/",
          "height": 635
        },
        "outputId": "cbdb2954-564a-49ae-fa4f-b466c2768da6"
      },
      "outputs": [
        {
          "output_type": "execute_result",
          "data": {
            "text/plain": [
              "        author id                 created_at               geo            id  \\\n",
              "320  8.052182e+06  2021-12-28 18:23:54+00:00  1f36c2b60fbc98ac  1.480000e+18   \n",
              "251  8.669925e+07  2021-09-22 09:11:51+00:00  43dacd36a372f0d8  1.440000e+18   \n",
              "493  3.303350e+09  2022-02-08 10:17:25+00:00  20bc436b37c1b13a  1.490000e+18   \n",
              "754  6.259533e+07  2022-05-04 17:45:10+00:00  21a9d859b598883a  1.520000e+18   \n",
              "723  6.259533e+07  2022-05-05 11:05:07+00:00  21a9d859b598883a  1.520000e+18   \n",
              "\n",
              "    lang  like_count  quote_count  reply_count  retweet_count  \\\n",
              "320   en           0            0            1              0   \n",
              "251   en           0            0            0              0   \n",
              "493   en           0            0            0              0   \n",
              "754   en          29            1           14              0   \n",
              "723   en           0            0            1              0   \n",
              "\n",
              "                  source                                              tweet  \\\n",
              "320  Twitter for Android      What's worse is that children in the UK ar...   \n",
              "251  Twitter for Android   Feeling ya... little man has chickenpox have ...   \n",
              "493  Twitter for Android  I haven't felt this sick in years. #norovirus ...   \n",
              "754  Twitter for Android  I've been in bed all day with this flu. I doub...   \n",
              "723  Twitter for Android   Depends on how marginal. I was meant to be do...   \n",
              "\n",
              "        Disease Category           location  \\\n",
              "320         NaN       no     Swansea, Wales   \n",
              "251  Chickenpox      yes  Dewsbury, England   \n",
              "493         NaN      yes    Barking, London   \n",
              "754         NaN      yes   Southall, London   \n",
              "723         NaN      yes   Southall, London   \n",
              "\n",
              "                                              bbox  \\\n",
              "320  [-4.029331, 51.5987484, -3.8621388, 51.68983]   \n",
              "251  [-1.744655, 53.657326, -1.584689, 53.7463127]   \n",
              "493    [0.065775, 51.5114666, 0.189997, 51.596571]   \n",
              "754   [-0.419679, 51.491499, -0.302681, 51.559366]   \n",
              "723   [-0.419679, 51.491499, -0.302681, 51.559366]   \n",
              "\n",
              "                                      normalized_tweet  \\\n",
              "320  ['jhowardbrainmd', 'nrafter', 'worse', 'child'...   \n",
              "251     ['ya', 'little', 'man', 'chickenpox', 'since']   \n",
              "493  ['felt', 'sick', 'year', 'norovirus', 'least',...   \n",
              "754  ['bed', 'day', 'flu', 'doubt', 'able', 'bit', ...   \n",
              "723  ['marginal', 'meant', 'telling', 'today', 'flu...   \n",
              "\n",
              "                                    preprocessed_tweet  disease  \n",
              "320      what s worse is that children in the uk ar...        0  \n",
              "251   feeling ya    little man has chickenpox have ...        1  \n",
              "493  i haven t felt this sick in years   norovirus ...        1  \n",
              "754  i ve been in bed all day with this flu  i doub...        1  \n",
              "723   depends on how marginal  i was meant to be do...        1  "
            ],
            "text/html": [
              "\n",
              "  <div id=\"df-afd39238-e67a-4e63-b10f-a52bacc77a46\">\n",
              "    <div class=\"colab-df-container\">\n",
              "      <div>\n",
              "<style scoped>\n",
              "    .dataframe tbody tr th:only-of-type {\n",
              "        vertical-align: middle;\n",
              "    }\n",
              "\n",
              "    .dataframe tbody tr th {\n",
              "        vertical-align: top;\n",
              "    }\n",
              "\n",
              "    .dataframe thead th {\n",
              "        text-align: right;\n",
              "    }\n",
              "</style>\n",
              "<table border=\"1\" class=\"dataframe\">\n",
              "  <thead>\n",
              "    <tr style=\"text-align: right;\">\n",
              "      <th></th>\n",
              "      <th>author id</th>\n",
              "      <th>created_at</th>\n",
              "      <th>geo</th>\n",
              "      <th>id</th>\n",
              "      <th>lang</th>\n",
              "      <th>like_count</th>\n",
              "      <th>quote_count</th>\n",
              "      <th>reply_count</th>\n",
              "      <th>retweet_count</th>\n",
              "      <th>source</th>\n",
              "      <th>tweet</th>\n",
              "      <th>Disease</th>\n",
              "      <th>Category</th>\n",
              "      <th>location</th>\n",
              "      <th>bbox</th>\n",
              "      <th>normalized_tweet</th>\n",
              "      <th>preprocessed_tweet</th>\n",
              "      <th>disease</th>\n",
              "    </tr>\n",
              "  </thead>\n",
              "  <tbody>\n",
              "    <tr>\n",
              "      <th>320</th>\n",
              "      <td>8.052182e+06</td>\n",
              "      <td>2021-12-28 18:23:54+00:00</td>\n",
              "      <td>1f36c2b60fbc98ac</td>\n",
              "      <td>1.480000e+18</td>\n",
              "      <td>en</td>\n",
              "      <td>0</td>\n",
              "      <td>0</td>\n",
              "      <td>1</td>\n",
              "      <td>0</td>\n",
              "      <td>Twitter for Android</td>\n",
              "      <td>What's worse is that children in the UK ar...</td>\n",
              "      <td>NaN</td>\n",
              "      <td>no</td>\n",
              "      <td>Swansea, Wales</td>\n",
              "      <td>[-4.029331, 51.5987484, -3.8621388, 51.68983]</td>\n",
              "      <td>['jhowardbrainmd', 'nrafter', 'worse', 'child'...</td>\n",
              "      <td>what s worse is that children in the uk ar...</td>\n",
              "      <td>0</td>\n",
              "    </tr>\n",
              "    <tr>\n",
              "      <th>251</th>\n",
              "      <td>8.669925e+07</td>\n",
              "      <td>2021-09-22 09:11:51+00:00</td>\n",
              "      <td>43dacd36a372f0d8</td>\n",
              "      <td>1.440000e+18</td>\n",
              "      <td>en</td>\n",
              "      <td>0</td>\n",
              "      <td>0</td>\n",
              "      <td>0</td>\n",
              "      <td>0</td>\n",
              "      <td>Twitter for Android</td>\n",
              "      <td>Feeling ya... little man has chickenpox have ...</td>\n",
              "      <td>Chickenpox</td>\n",
              "      <td>yes</td>\n",
              "      <td>Dewsbury, England</td>\n",
              "      <td>[-1.744655, 53.657326, -1.584689, 53.7463127]</td>\n",
              "      <td>['ya', 'little', 'man', 'chickenpox', 'since']</td>\n",
              "      <td>feeling ya    little man has chickenpox have ...</td>\n",
              "      <td>1</td>\n",
              "    </tr>\n",
              "    <tr>\n",
              "      <th>493</th>\n",
              "      <td>3.303350e+09</td>\n",
              "      <td>2022-02-08 10:17:25+00:00</td>\n",
              "      <td>20bc436b37c1b13a</td>\n",
              "      <td>1.490000e+18</td>\n",
              "      <td>en</td>\n",
              "      <td>0</td>\n",
              "      <td>0</td>\n",
              "      <td>0</td>\n",
              "      <td>0</td>\n",
              "      <td>Twitter for Android</td>\n",
              "      <td>I haven't felt this sick in years. #norovirus ...</td>\n",
              "      <td>NaN</td>\n",
              "      <td>yes</td>\n",
              "      <td>Barking, London</td>\n",
              "      <td>[0.065775, 51.5114666, 0.189997, 51.596571]</td>\n",
              "      <td>['felt', 'sick', 'year', 'norovirus', 'least',...</td>\n",
              "      <td>i haven t felt this sick in years   norovirus ...</td>\n",
              "      <td>1</td>\n",
              "    </tr>\n",
              "    <tr>\n",
              "      <th>754</th>\n",
              "      <td>6.259533e+07</td>\n",
              "      <td>2022-05-04 17:45:10+00:00</td>\n",
              "      <td>21a9d859b598883a</td>\n",
              "      <td>1.520000e+18</td>\n",
              "      <td>en</td>\n",
              "      <td>29</td>\n",
              "      <td>1</td>\n",
              "      <td>14</td>\n",
              "      <td>0</td>\n",
              "      <td>Twitter for Android</td>\n",
              "      <td>I've been in bed all day with this flu. I doub...</td>\n",
              "      <td>NaN</td>\n",
              "      <td>yes</td>\n",
              "      <td>Southall, London</td>\n",
              "      <td>[-0.419679, 51.491499, -0.302681, 51.559366]</td>\n",
              "      <td>['bed', 'day', 'flu', 'doubt', 'able', 'bit', ...</td>\n",
              "      <td>i ve been in bed all day with this flu  i doub...</td>\n",
              "      <td>1</td>\n",
              "    </tr>\n",
              "    <tr>\n",
              "      <th>723</th>\n",
              "      <td>6.259533e+07</td>\n",
              "      <td>2022-05-05 11:05:07+00:00</td>\n",
              "      <td>21a9d859b598883a</td>\n",
              "      <td>1.520000e+18</td>\n",
              "      <td>en</td>\n",
              "      <td>0</td>\n",
              "      <td>0</td>\n",
              "      <td>1</td>\n",
              "      <td>0</td>\n",
              "      <td>Twitter for Android</td>\n",
              "      <td>Depends on how marginal. I was meant to be do...</td>\n",
              "      <td>NaN</td>\n",
              "      <td>yes</td>\n",
              "      <td>Southall, London</td>\n",
              "      <td>[-0.419679, 51.491499, -0.302681, 51.559366]</td>\n",
              "      <td>['marginal', 'meant', 'telling', 'today', 'flu...</td>\n",
              "      <td>depends on how marginal  i was meant to be do...</td>\n",
              "      <td>1</td>\n",
              "    </tr>\n",
              "  </tbody>\n",
              "</table>\n",
              "</div>\n",
              "      <button class=\"colab-df-convert\" onclick=\"convertToInteractive('df-afd39238-e67a-4e63-b10f-a52bacc77a46')\"\n",
              "              title=\"Convert this dataframe to an interactive table.\"\n",
              "              style=\"display:none;\">\n",
              "        \n",
              "  <svg xmlns=\"http://www.w3.org/2000/svg\" height=\"24px\"viewBox=\"0 0 24 24\"\n",
              "       width=\"24px\">\n",
              "    <path d=\"M0 0h24v24H0V0z\" fill=\"none\"/>\n",
              "    <path d=\"M18.56 5.44l.94 2.06.94-2.06 2.06-.94-2.06-.94-.94-2.06-.94 2.06-2.06.94zm-11 1L8.5 8.5l.94-2.06 2.06-.94-2.06-.94L8.5 2.5l-.94 2.06-2.06.94zm10 10l.94 2.06.94-2.06 2.06-.94-2.06-.94-.94-2.06-.94 2.06-2.06.94z\"/><path d=\"M17.41 7.96l-1.37-1.37c-.4-.4-.92-.59-1.43-.59-.52 0-1.04.2-1.43.59L10.3 9.45l-7.72 7.72c-.78.78-.78 2.05 0 2.83L4 21.41c.39.39.9.59 1.41.59.51 0 1.02-.2 1.41-.59l7.78-7.78 2.81-2.81c.8-.78.8-2.07 0-2.86zM5.41 20L4 18.59l7.72-7.72 1.47 1.35L5.41 20z\"/>\n",
              "  </svg>\n",
              "      </button>\n",
              "      \n",
              "  <style>\n",
              "    .colab-df-container {\n",
              "      display:flex;\n",
              "      flex-wrap:wrap;\n",
              "      gap: 12px;\n",
              "    }\n",
              "\n",
              "    .colab-df-convert {\n",
              "      background-color: #E8F0FE;\n",
              "      border: none;\n",
              "      border-radius: 50%;\n",
              "      cursor: pointer;\n",
              "      display: none;\n",
              "      fill: #1967D2;\n",
              "      height: 32px;\n",
              "      padding: 0 0 0 0;\n",
              "      width: 32px;\n",
              "    }\n",
              "\n",
              "    .colab-df-convert:hover {\n",
              "      background-color: #E2EBFA;\n",
              "      box-shadow: 0px 1px 2px rgba(60, 64, 67, 0.3), 0px 1px 3px 1px rgba(60, 64, 67, 0.15);\n",
              "      fill: #174EA6;\n",
              "    }\n",
              "\n",
              "    [theme=dark] .colab-df-convert {\n",
              "      background-color: #3B4455;\n",
              "      fill: #D2E3FC;\n",
              "    }\n",
              "\n",
              "    [theme=dark] .colab-df-convert:hover {\n",
              "      background-color: #434B5C;\n",
              "      box-shadow: 0px 1px 3px 1px rgba(0, 0, 0, 0.15);\n",
              "      filter: drop-shadow(0px 1px 2px rgba(0, 0, 0, 0.3));\n",
              "      fill: #FFFFFF;\n",
              "    }\n",
              "  </style>\n",
              "\n",
              "      <script>\n",
              "        const buttonEl =\n",
              "          document.querySelector('#df-afd39238-e67a-4e63-b10f-a52bacc77a46 button.colab-df-convert');\n",
              "        buttonEl.style.display =\n",
              "          google.colab.kernel.accessAllowed ? 'block' : 'none';\n",
              "\n",
              "        async function convertToInteractive(key) {\n",
              "          const element = document.querySelector('#df-afd39238-e67a-4e63-b10f-a52bacc77a46');\n",
              "          const dataTable =\n",
              "            await google.colab.kernel.invokeFunction('convertToInteractive',\n",
              "                                                     [key], {});\n",
              "          if (!dataTable) return;\n",
              "\n",
              "          const docLinkHtml = 'Like what you see? Visit the ' +\n",
              "            '<a target=\"_blank\" href=https://colab.research.google.com/notebooks/data_table.ipynb>data table notebook</a>'\n",
              "            + ' to learn more about interactive tables.';\n",
              "          element.innerHTML = '';\n",
              "          dataTable['output_type'] = 'display_data';\n",
              "          await google.colab.output.renderOutput(dataTable, element);\n",
              "          const docLink = document.createElement('div');\n",
              "          docLink.innerHTML = docLinkHtml;\n",
              "          element.appendChild(docLink);\n",
              "        }\n",
              "      </script>\n",
              "    </div>\n",
              "  </div>\n",
              "  "
            ]
          },
          "metadata": {},
          "execution_count": 15
        }
      ],
      "source": [
        "df_balanced['disease']=df_balanced['Category'].apply(lambda x: 1 if x=='yes' else 0)\n",
        "df_balanced.sample(5)"
      ]
    },
    {
      "cell_type": "code",
      "execution_count": null,
      "metadata": {
        "id": "OK4g5ZDhnKBn"
      },
      "outputs": [],
      "source": [
        "#split data set into 80%-20%\n",
        "\n",
        "from sklearn.model_selection import train_test_split\n",
        "\n",
        "X_train, X_test, y_train, y_test = train_test_split(df_balanced['preprocessed_tweet'],df_balanced['disease'], stratify=df_balanced['disease'], test_size=0.2)"
      ]
    },
    {
      "cell_type": "code",
      "execution_count": null,
      "metadata": {
        "id": "oQiSxI3jnQ13",
        "colab": {
          "base_uri": "https://localhost:8080/"
        },
        "outputId": "8b4b61d0-f855-4a0b-a44b-d5d3db93cc30"
      },
      "outputs": [
        {
          "output_type": "execute_result",
          "data": {
            "text/plain": [
              "314    at last  out after a week of hunkering down wi...\n",
              "485    i m stuck in bed with norovirus  need suggesti...\n",
              "230    watching the simpsons chickenpox ep and having...\n",
              "291     go to remedy for sunburn  chickenpox  plooks ...\n",
              "Name: preprocessed_tweet, dtype: object"
            ]
          },
          "metadata": {},
          "execution_count": 17
        }
      ],
      "source": [
        "X_train.head(4)"
      ]
    },
    {
      "cell_type": "code",
      "execution_count": null,
      "metadata": {
        "id": "PlJQsbJFnTiI",
        "colab": {
          "base_uri": "https://localhost:8080/"
        },
        "outputId": "1a02e5ca-2245-41a4-fd3e-99ff27f2731b"
      },
      "outputs": [
        {
          "output_type": "stream",
          "name": "stdout",
          "text": [
            "Looking in indexes: https://pypi.org/simple, https://us-python.pkg.dev/colab-wheels/public/simple/\n",
            "Requirement already satisfied: tensorflow-hub in /usr/local/lib/python3.7/dist-packages (0.12.0)\n",
            "Requirement already satisfied: protobuf>=3.8.0 in /usr/local/lib/python3.7/dist-packages (from tensorflow-hub) (3.17.3)\n",
            "Requirement already satisfied: numpy>=1.12.0 in /usr/local/lib/python3.7/dist-packages (from tensorflow-hub) (1.21.6)\n",
            "Requirement already satisfied: six>=1.9 in /usr/local/lib/python3.7/dist-packages (from protobuf>=3.8.0->tensorflow-hub) (1.15.0)\n"
          ]
        }
      ],
      "source": [
        "pip install tensorflow-hub"
      ]
    },
    {
      "cell_type": "code",
      "execution_count": null,
      "metadata": {
        "id": "q4xxX_FBoGfo"
      },
      "outputs": [],
      "source": [
        "#call Bert Classifier\n",
        "bert_preprocess = hub.KerasLayer(\"https://tfhub.dev/tensorflow/bert_en_uncased_preprocess/3\")\n",
        "bert_encoder = hub.KerasLayer(\"https://tfhub.dev/tensorflow/bert_en_uncased_L-12_H-768_A-12/4\")\n"
      ]
    },
    {
      "cell_type": "code",
      "execution_count": null,
      "metadata": {
        "id": "6pMmELR9zO5A"
      },
      "outputs": [],
      "source": [
        "def get_sentence_embeding(sentences):\n",
        "    preprocessed_text = bert_preprocess(sentences)\n",
        "    return bert_encoder(preprocessed_text)['pooled_output']"
      ]
    },
    {
      "cell_type": "code",
      "execution_count": null,
      "metadata": {
        "id": "GezxgRHz0eL2"
      },
      "outputs": [],
      "source": [
        "# Bert layers\n",
        "text_input = tf.keras.layers.Input(shape=(), dtype=tf.string, name='text')\n",
        "preprocessed_text = bert_preprocess(text_input)\n",
        "outputs = bert_encoder(preprocessed_text)\n",
        "\n",
        "# Neural network layers\n",
        "l = tf.keras.layers.Dropout(0.1, name=\"dropout\")(outputs['pooled_output'])\n",
        "l = tf.keras.layers.Dense(1, activation='sigmoid', name=\"output\")(l)\n",
        "\n",
        "# Use inputs and outputs to construct a final model\n",
        "model = tf.keras.Model(inputs=[text_input], outputs = [l])"
      ]
    },
    {
      "cell_type": "code",
      "execution_count": null,
      "metadata": {
        "id": "HX2T5KYO0iw9",
        "colab": {
          "base_uri": "https://localhost:8080/"
        },
        "outputId": "2661bdbc-0673-4205-a373-f5153aaf128d"
      },
      "outputs": [
        {
          "output_type": "stream",
          "name": "stdout",
          "text": [
            "Model: \"model\"\n",
            "__________________________________________________________________________________________________\n",
            " Layer (type)                   Output Shape         Param #     Connected to                     \n",
            "==================================================================================================\n",
            " text (InputLayer)              [(None,)]            0           []                               \n",
            "                                                                                                  \n",
            " keras_layer (KerasLayer)       {'input_word_ids':   0           ['text[0][0]']                   \n",
            "                                (None, 128),                                                      \n",
            "                                 'input_mask': (Non                                               \n",
            "                                e, 128),                                                          \n",
            "                                 'input_type_ids':                                                \n",
            "                                (None, 128)}                                                      \n",
            "                                                                                                  \n",
            " keras_layer_1 (KerasLayer)     {'encoder_outputs':  109482241   ['keras_layer[0][0]',            \n",
            "                                 [(None, 128, 768),               'keras_layer[0][1]',            \n",
            "                                 (None, 128, 768),                'keras_layer[0][2]']            \n",
            "                                 (None, 128, 768),                                                \n",
            "                                 (None, 128, 768),                                                \n",
            "                                 (None, 128, 768),                                                \n",
            "                                 (None, 128, 768),                                                \n",
            "                                 (None, 128, 768),                                                \n",
            "                                 (None, 128, 768),                                                \n",
            "                                 (None, 128, 768),                                                \n",
            "                                 (None, 128, 768),                                                \n",
            "                                 (None, 128, 768),                                                \n",
            "                                 (None, 128, 768)],                                               \n",
            "                                 'default': (None,                                                \n",
            "                                768),                                                             \n",
            "                                 'sequence_output':                                               \n",
            "                                 (None, 128, 768),                                                \n",
            "                                 'pooled_output': (                                               \n",
            "                                None, 768)}                                                       \n",
            "                                                                                                  \n",
            " dropout (Dropout)              (None, 768)          0           ['keras_layer_1[0][13]']         \n",
            "                                                                                                  \n",
            " output (Dense)                 (None, 1)            769         ['dropout[0][0]']                \n",
            "                                                                                                  \n",
            "==================================================================================================\n",
            "Total params: 109,483,010\n",
            "Trainable params: 769\n",
            "Non-trainable params: 109,482,241\n",
            "__________________________________________________________________________________________________\n"
          ]
        }
      ],
      "source": [
        "#get model summery\n",
        "model.summary()"
      ]
    },
    {
      "cell_type": "code",
      "execution_count": null,
      "metadata": {
        "id": "_RN6T6TQ0l8r",
        "colab": {
          "base_uri": "https://localhost:8080/"
        },
        "outputId": "dd09495b-2c34-4b18-dbf1-fb6aa4181036"
      },
      "outputs": [
        {
          "output_type": "execute_result",
          "data": {
            "text/plain": [
              "744"
            ]
          },
          "metadata": {},
          "execution_count": 23
        }
      ],
      "source": [
        "#length of the training data\n",
        "len(X_train)"
      ]
    },
    {
      "cell_type": "code",
      "execution_count": null,
      "metadata": {
        "id": "IfHh9hTD0ofw"
      },
      "outputs": [],
      "source": [
        "METRICS = [\n",
        "      tf.keras.metrics.BinaryAccuracy(name='accuracy'),\n",
        "      tf.keras.metrics.Precision(name='precision'),\n",
        "      tf.keras.metrics.Recall(name='recall')\n",
        "]\n",
        "\n",
        "model.compile(optimizer='adam',\n",
        "              loss='binary_crossentropy',\n",
        "              metrics=METRICS)"
      ]
    },
    {
      "cell_type": "code",
      "source": [
        "\n",
        "df.info()"
      ],
      "metadata": {
        "id": "UARIejYwdp8b",
        "colab": {
          "base_uri": "https://localhost:8080/"
        },
        "outputId": "26aa8f78-18be-4a4e-ca93-64ea57f39841"
      },
      "execution_count": null,
      "outputs": [
        {
          "output_type": "stream",
          "name": "stdout",
          "text": [
            "<class 'pandas.core.frame.DataFrame'>\n",
            "RangeIndex: 996 entries, 0 to 995\n",
            "Data columns (total 17 columns):\n",
            " #   Column              Non-Null Count  Dtype  \n",
            "---  ------              --------------  -----  \n",
            " 0   author id           996 non-null    float64\n",
            " 1   created_at          996 non-null    object \n",
            " 2   geo                 996 non-null    object \n",
            " 3   id                  996 non-null    float64\n",
            " 4   lang                996 non-null    object \n",
            " 5   like_count          996 non-null    int64  \n",
            " 6   quote_count         996 non-null    int64  \n",
            " 7   reply_count         996 non-null    int64  \n",
            " 8   retweet_count       996 non-null    int64  \n",
            " 9   source              996 non-null    object \n",
            " 10  tweet               995 non-null    object \n",
            " 11  Disease             276 non-null    object \n",
            " 12  Category            996 non-null    object \n",
            " 13  location            996 non-null    object \n",
            " 14  bbox                995 non-null    object \n",
            " 15  normalized_tweet    996 non-null    object \n",
            " 16  preprocessed_tweet  995 non-null    object \n",
            "dtypes: float64(2), int64(4), object(11)\n",
            "memory usage: 132.4+ KB\n"
          ]
        }
      ]
    },
    {
      "cell_type": "code",
      "source": [
        "\n",
        "import numpy as np\n",
        "X_train = np.array([np.array(val) for val in X_train])\n",
        "X_test = np.array([np.array(val) for val in X_test])"
      ],
      "metadata": {
        "id": "hAf6f0aglYHa"
      },
      "execution_count": null,
      "outputs": []
    },
    {
      "cell_type": "markdown",
      "source": [
        ""
      ],
      "metadata": {
        "id": "EWiqCHr7ACYf"
      }
    },
    {
      "cell_type": "code",
      "execution_count": null,
      "metadata": {
        "id": "5PSwBzyd0r1p",
        "colab": {
          "base_uri": "https://localhost:8080/"
        },
        "outputId": "efe11703-53b9-4267-c32a-23b3673812d3"
      },
      "outputs": [
        {
          "output_type": "stream",
          "name": "stdout",
          "text": [
            "Epoch 1/20\n",
            "24/24 [==============================] - 25s 323ms/step - loss: 0.7164 - accuracy: 0.5202 - precision: 0.5224 - recall: 0.4704\n",
            "Epoch 2/20\n",
            "24/24 [==============================] - 7s 286ms/step - loss: 0.6936 - accuracy: 0.5349 - precision: 0.5327 - recall: 0.5699\n",
            "Epoch 3/20\n",
            "24/24 [==============================] - 7s 287ms/step - loss: 0.6855 - accuracy: 0.5538 - precision: 0.5490 - recall: 0.6022\n",
            "Epoch 4/20\n",
            "24/24 [==============================] - 7s 289ms/step - loss: 0.6715 - accuracy: 0.5793 - precision: 0.5743 - recall: 0.6129\n",
            "Epoch 5/20\n",
            "24/24 [==============================] - 7s 290ms/step - loss: 0.6563 - accuracy: 0.6317 - precision: 0.6150 - recall: 0.7043\n",
            "Epoch 6/20\n",
            "24/24 [==============================] - 7s 290ms/step - loss: 0.6466 - accuracy: 0.6277 - precision: 0.6301 - recall: 0.6183\n",
            "Epoch 7/20\n",
            "24/24 [==============================] - 7s 291ms/step - loss: 0.6452 - accuracy: 0.6371 - precision: 0.6425 - recall: 0.6183\n",
            "Epoch 8/20\n",
            "24/24 [==============================] - 7s 293ms/step - loss: 0.6514 - accuracy: 0.6263 - precision: 0.6211 - recall: 0.6478\n",
            "Epoch 9/20\n",
            "24/24 [==============================] - 7s 294ms/step - loss: 0.6287 - accuracy: 0.6667 - precision: 0.6792 - recall: 0.6317\n",
            "Epoch 10/20\n",
            "24/24 [==============================] - 7s 295ms/step - loss: 0.6174 - accuracy: 0.6667 - precision: 0.6658 - recall: 0.6694\n",
            "Epoch 11/20\n",
            "24/24 [==============================] - 7s 295ms/step - loss: 0.6161 - accuracy: 0.6774 - precision: 0.6746 - recall: 0.6855\n",
            "Epoch 12/20\n",
            "24/24 [==============================] - 7s 295ms/step - loss: 0.6129 - accuracy: 0.6868 - precision: 0.7062 - recall: 0.6398\n",
            "Epoch 13/20\n",
            "24/24 [==============================] - 7s 295ms/step - loss: 0.6025 - accuracy: 0.7003 - precision: 0.7030 - recall: 0.6935\n",
            "Epoch 14/20\n",
            "24/24 [==============================] - 7s 297ms/step - loss: 0.5953 - accuracy: 0.7110 - precision: 0.6997 - recall: 0.7392\n",
            "Epoch 15/20\n",
            "24/24 [==============================] - 7s 301ms/step - loss: 0.5929 - accuracy: 0.7056 - precision: 0.6987 - recall: 0.7231\n",
            "Epoch 16/20\n",
            "24/24 [==============================] - 7s 300ms/step - loss: 0.5985 - accuracy: 0.6761 - precision: 0.6804 - recall: 0.6640\n",
            "Epoch 17/20\n",
            "24/24 [==============================] - 7s 299ms/step - loss: 0.5846 - accuracy: 0.7030 - precision: 0.6846 - recall: 0.7527\n",
            "Epoch 18/20\n",
            "24/24 [==============================] - 7s 300ms/step - loss: 0.5925 - accuracy: 0.6815 - precision: 0.6957 - recall: 0.6452\n",
            "Epoch 19/20\n",
            "24/24 [==============================] - 7s 301ms/step - loss: 0.5849 - accuracy: 0.6962 - precision: 0.7122 - recall: 0.6586\n",
            "Epoch 20/20\n",
            "24/24 [==============================] - 7s 303ms/step - loss: 0.5781 - accuracy: 0.7164 - precision: 0.7069 - recall: 0.7392\n"
          ]
        },
        {
          "output_type": "execute_result",
          "data": {
            "text/plain": [
              "<keras.callbacks.History at 0x7f50715db5d0>"
            ]
          },
          "metadata": {},
          "execution_count": 27
        }
      ],
      "source": [
        "#train the model\n",
        "\n",
        "model.fit(X_train, y_train, epochs=20)"
      ]
    },
    {
      "cell_type": "markdown",
      "source": [
        "# New Section"
      ],
      "metadata": {
        "id": "xIBM8AaVDzCS"
      }
    },
    {
      "cell_type": "code",
      "source": [
        "model.evaluate(X_test, y_test)"
      ],
      "metadata": {
        "id": "kD3xVVIoKbBs",
        "colab": {
          "base_uri": "https://localhost:8080/"
        },
        "outputId": "5c012cc5-73f6-48dd-a891-202bb8b268be"
      },
      "execution_count": null,
      "outputs": [
        {
          "output_type": "stream",
          "name": "stdout",
          "text": [
            "8/8 [==============================] - 3s 303ms/step - loss: 0.5895 - accuracy: 0.7258 - precision: 0.6818 - recall: 0.8468\n"
          ]
        },
        {
          "output_type": "execute_result",
          "data": {
            "text/plain": [
              "[0.5894502401351929, 0.725806474685669, 0.6818181872367859, 0.8467742204666138]"
            ]
          },
          "metadata": {},
          "execution_count": 28
        }
      ]
    },
    {
      "cell_type": "code",
      "source": [
        "y_predicted = model.predict(X_test)\n",
        "y_predicted = y_predicted.flatten()"
      ],
      "metadata": {
        "id": "24p7wFEAL_XF",
        "colab": {
          "base_uri": "https://localhost:8080/"
        },
        "outputId": "040d965d-2007-4b08-f075-f1cdaa98c28f"
      },
      "execution_count": null,
      "outputs": [
        {
          "output_type": "stream",
          "name": "stdout",
          "text": [
            "8/8 [==============================] - 3s 308ms/step\n"
          ]
        }
      ]
    },
    {
      "cell_type": "code",
      "source": [
        "import numpy as np\n",
        "\n",
        "y_predicted = np.where(y_predicted > 0.5, 1, 0)\n",
        "y_predicted"
      ],
      "metadata": {
        "id": "gFftXSnqMJv7",
        "colab": {
          "base_uri": "https://localhost:8080/"
        },
        "outputId": "9973d904-19a0-4d0b-909f-68e44587bd19"
      },
      "execution_count": null,
      "outputs": [
        {
          "output_type": "execute_result",
          "data": {
            "text/plain": [
              "array([1, 1, 0, 0, 1, 0, 1, 0, 0, 0, 0, 0, 0, 0, 1, 1, 1, 0, 0, 0, 1, 0,\n",
              "       1, 1, 0, 0, 1, 1, 1, 1, 1, 0, 0, 0, 1, 1, 1, 1, 0, 0, 0, 1, 0, 1,\n",
              "       0, 1, 0, 1, 0, 1, 1, 1, 1, 1, 1, 1, 1, 1, 1, 1, 1, 0, 0, 0, 1, 0,\n",
              "       1, 1, 0, 1, 1, 1, 1, 1, 1, 1, 1, 1, 0, 1, 1, 1, 0, 0, 1, 1, 0, 1,\n",
              "       1, 1, 1, 1, 1, 0, 1, 1, 0, 1, 0, 0, 1, 1, 1, 1, 1, 1, 1, 1, 0, 1,\n",
              "       1, 0, 1, 1, 0, 0, 1, 1, 1, 1, 1, 1, 1, 1, 1, 1, 1, 0, 0, 0, 1, 0,\n",
              "       1, 1, 0, 1, 1, 1, 0, 1, 1, 1, 0, 1, 0, 0, 0, 1, 1, 1, 0, 0, 1, 1,\n",
              "       1, 1, 0, 0, 1, 1, 0, 1, 1, 1, 0, 0, 1, 0, 0, 1, 1, 0, 1, 0, 0, 1,\n",
              "       1, 0, 0, 0, 1, 1, 1, 1, 1, 1, 0, 1, 1, 1, 1, 0, 1, 1, 1, 0, 0, 0,\n",
              "       1, 1, 1, 1, 0, 0, 0, 1, 0, 1, 1, 1, 0, 0, 1, 1, 1, 1, 0, 0, 0, 0,\n",
              "       1, 0, 1, 1, 1, 0, 1, 1, 1, 0, 0, 1, 0, 1, 1, 0, 0, 1, 0, 1, 1, 1,\n",
              "       1, 0, 0, 1, 1, 0])"
            ]
          },
          "metadata": {},
          "execution_count": 30
        }
      ]
    },
    {
      "cell_type": "code",
      "source": [
        "from sklearn.metrics import confusion_matrix, classification_report\n",
        "\n",
        "conf_matrix = confusion_matrix(y_test, y_predicted)\n",
        "conf_matrix"
      ],
      "metadata": {
        "id": "id9WfNWZMe16",
        "colab": {
          "base_uri": "https://localhost:8080/"
        },
        "outputId": "45652ddf-af29-48c0-f8fb-304d7937175a"
      },
      "execution_count": null,
      "outputs": [
        {
          "output_type": "execute_result",
          "data": {
            "text/plain": [
              "array([[ 75,  49],\n",
              "       [ 19, 105]])"
            ]
          },
          "metadata": {},
          "execution_count": 31
        }
      ]
    },
    {
      "cell_type": "code",
      "source": [
        "print(classification_report(y_test, y_predicted))"
      ],
      "metadata": {
        "id": "94rxIyerM3Qd",
        "colab": {
          "base_uri": "https://localhost:8080/"
        },
        "outputId": "b35eb4a8-2070-437f-ab65-3972c8fa2329"
      },
      "execution_count": null,
      "outputs": [
        {
          "output_type": "stream",
          "name": "stdout",
          "text": [
            "              precision    recall  f1-score   support\n",
            "\n",
            "           0       0.80      0.60      0.69       124\n",
            "           1       0.68      0.85      0.76       124\n",
            "\n",
            "    accuracy                           0.73       248\n",
            "   macro avg       0.74      0.73      0.72       248\n",
            "weighted avg       0.74      0.73      0.72       248\n",
            "\n"
          ]
        }
      ]
    },
    {
      "cell_type": "code",
      "source": [
        "from sklearn.metrics import accuracy_score, precision_score, recall_score, f1_score\n",
        "\n",
        "print(\"Accuracy - \", accuracy_score(y_test, y_predicted))\n",
        "print(\"Precision - \", precision_score(y_test, y_predicted))\n",
        "print(\"Recall - \", recall_score(y_test, y_predicted))\n",
        "print(\"F1-Score - \", f1_score(y_test, y_predicted))"
      ],
      "metadata": {
        "id": "G90--2VKNWrT",
        "colab": {
          "base_uri": "https://localhost:8080/"
        },
        "outputId": "3b4f190e-f306-4b53-b807-4e415d6d431d"
      },
      "execution_count": null,
      "outputs": [
        {
          "output_type": "stream",
          "name": "stdout",
          "text": [
            "Accuracy -  0.7258064516129032\n",
            "Precision -  0.6818181818181818\n",
            "Recall -  0.8467741935483871\n",
            "F1-Score -  0.7553956834532374\n"
          ]
        }
      ]
    },
    {
      "cell_type": "code",
      "source": [
        "df.sample(2)"
      ],
      "metadata": {
        "id": "Hy9lZwX1OCPt",
        "colab": {
          "base_uri": "https://localhost:8080/",
          "height": 350
        },
        "outputId": "feefb92b-5113-4b17-c956-d7e71568f2d2"
      },
      "execution_count": null,
      "outputs": [
        {
          "output_type": "execute_result",
          "data": {
            "text/plain": [
              "        author id                 created_at               geo            id  \\\n",
              "525  1.170000e+18  2022-03-18 01:16:02+00:00  457b4814b4240d87  1.500000e+18   \n",
              "43   1.636584e+09  2021-01-18 20:13:36+00:00  2083f7d174edb764  1.350000e+18   \n",
              "\n",
              "    lang  like_count  quote_count  reply_count  retweet_count  \\\n",
              "525   en           0            0            1              0   \n",
              "43    en           1            1            0              0   \n",
              "\n",
              "                 source                                              tweet  \\\n",
              "525  Twitter for iPhone  Anaiyah Ã¢â‚¬Â¢ 2 Years Ã¢â‚¬Â¢ Trinidadian, S...   \n",
              "43   Twitter for iPhone   phonics &amp; writing with Ruth &amp; Sara + ...   \n",
              "\n",
              "    Disease Category            location  \\\n",
              "525     NaN       no     London, England   \n",
              "43      NaN       no  Armthorpe, England   \n",
              "\n",
              "                                               bbox  \\\n",
              "525   [-0.187894, 51.483718, -0.109978, 51.5164655]   \n",
              "43   [-1.075775, 53.5266563, -1.039822, 53.5449803]   \n",
              "\n",
              "                                      normalized_tweet  \\\n",
              "525  ['trinidadian', 'saint', 'lucian', 'amp', 'ben...   \n",
              "43   ['phonics', 'amp', 'writing', 'ruth', 'amp', '...   \n",
              "\n",
              "                                    preprocessed_tweet  \n",
              "525  anaiyah           years         trinidadian  s...  \n",
              "43    phonics  amp  writing with ruth  amp  sara   ...  "
            ],
            "text/html": [
              "\n",
              "  <div id=\"df-1fc8c945-f0f2-42b0-8c87-9b8abf93ca7e\">\n",
              "    <div class=\"colab-df-container\">\n",
              "      <div>\n",
              "<style scoped>\n",
              "    .dataframe tbody tr th:only-of-type {\n",
              "        vertical-align: middle;\n",
              "    }\n",
              "\n",
              "    .dataframe tbody tr th {\n",
              "        vertical-align: top;\n",
              "    }\n",
              "\n",
              "    .dataframe thead th {\n",
              "        text-align: right;\n",
              "    }\n",
              "</style>\n",
              "<table border=\"1\" class=\"dataframe\">\n",
              "  <thead>\n",
              "    <tr style=\"text-align: right;\">\n",
              "      <th></th>\n",
              "      <th>author id</th>\n",
              "      <th>created_at</th>\n",
              "      <th>geo</th>\n",
              "      <th>id</th>\n",
              "      <th>lang</th>\n",
              "      <th>like_count</th>\n",
              "      <th>quote_count</th>\n",
              "      <th>reply_count</th>\n",
              "      <th>retweet_count</th>\n",
              "      <th>source</th>\n",
              "      <th>tweet</th>\n",
              "      <th>Disease</th>\n",
              "      <th>Category</th>\n",
              "      <th>location</th>\n",
              "      <th>bbox</th>\n",
              "      <th>normalized_tweet</th>\n",
              "      <th>preprocessed_tweet</th>\n",
              "    </tr>\n",
              "  </thead>\n",
              "  <tbody>\n",
              "    <tr>\n",
              "      <th>525</th>\n",
              "      <td>1.170000e+18</td>\n",
              "      <td>2022-03-18 01:16:02+00:00</td>\n",
              "      <td>457b4814b4240d87</td>\n",
              "      <td>1.500000e+18</td>\n",
              "      <td>en</td>\n",
              "      <td>0</td>\n",
              "      <td>0</td>\n",
              "      <td>1</td>\n",
              "      <td>0</td>\n",
              "      <td>Twitter for iPhone</td>\n",
              "      <td>Anaiyah Ã¢â‚¬Â¢ 2 Years Ã¢â‚¬Â¢ Trinidadian, S...</td>\n",
              "      <td>NaN</td>\n",
              "      <td>no</td>\n",
              "      <td>London, England</td>\n",
              "      <td>[-0.187894, 51.483718, -0.109978, 51.5164655]</td>\n",
              "      <td>['trinidadian', 'saint', 'lucian', 'amp', 'ben...</td>\n",
              "      <td>anaiyah           years         trinidadian  s...</td>\n",
              "    </tr>\n",
              "    <tr>\n",
              "      <th>43</th>\n",
              "      <td>1.636584e+09</td>\n",
              "      <td>2021-01-18 20:13:36+00:00</td>\n",
              "      <td>2083f7d174edb764</td>\n",
              "      <td>1.350000e+18</td>\n",
              "      <td>en</td>\n",
              "      <td>1</td>\n",
              "      <td>1</td>\n",
              "      <td>0</td>\n",
              "      <td>0</td>\n",
              "      <td>Twitter for iPhone</td>\n",
              "      <td>phonics &amp;amp; writing with Ruth &amp;amp; Sara + ...</td>\n",
              "      <td>NaN</td>\n",
              "      <td>no</td>\n",
              "      <td>Armthorpe, England</td>\n",
              "      <td>[-1.075775, 53.5266563, -1.039822, 53.5449803]</td>\n",
              "      <td>['phonics', 'amp', 'writing', 'ruth', 'amp', '...</td>\n",
              "      <td>phonics  amp  writing with ruth  amp  sara   ...</td>\n",
              "    </tr>\n",
              "  </tbody>\n",
              "</table>\n",
              "</div>\n",
              "      <button class=\"colab-df-convert\" onclick=\"convertToInteractive('df-1fc8c945-f0f2-42b0-8c87-9b8abf93ca7e')\"\n",
              "              title=\"Convert this dataframe to an interactive table.\"\n",
              "              style=\"display:none;\">\n",
              "        \n",
              "  <svg xmlns=\"http://www.w3.org/2000/svg\" height=\"24px\"viewBox=\"0 0 24 24\"\n",
              "       width=\"24px\">\n",
              "    <path d=\"M0 0h24v24H0V0z\" fill=\"none\"/>\n",
              "    <path d=\"M18.56 5.44l.94 2.06.94-2.06 2.06-.94-2.06-.94-.94-2.06-.94 2.06-2.06.94zm-11 1L8.5 8.5l.94-2.06 2.06-.94-2.06-.94L8.5 2.5l-.94 2.06-2.06.94zm10 10l.94 2.06.94-2.06 2.06-.94-2.06-.94-.94-2.06-.94 2.06-2.06.94z\"/><path d=\"M17.41 7.96l-1.37-1.37c-.4-.4-.92-.59-1.43-.59-.52 0-1.04.2-1.43.59L10.3 9.45l-7.72 7.72c-.78.78-.78 2.05 0 2.83L4 21.41c.39.39.9.59 1.41.59.51 0 1.02-.2 1.41-.59l7.78-7.78 2.81-2.81c.8-.78.8-2.07 0-2.86zM5.41 20L4 18.59l7.72-7.72 1.47 1.35L5.41 20z\"/>\n",
              "  </svg>\n",
              "      </button>\n",
              "      \n",
              "  <style>\n",
              "    .colab-df-container {\n",
              "      display:flex;\n",
              "      flex-wrap:wrap;\n",
              "      gap: 12px;\n",
              "    }\n",
              "\n",
              "    .colab-df-convert {\n",
              "      background-color: #E8F0FE;\n",
              "      border: none;\n",
              "      border-radius: 50%;\n",
              "      cursor: pointer;\n",
              "      display: none;\n",
              "      fill: #1967D2;\n",
              "      height: 32px;\n",
              "      padding: 0 0 0 0;\n",
              "      width: 32px;\n",
              "    }\n",
              "\n",
              "    .colab-df-convert:hover {\n",
              "      background-color: #E2EBFA;\n",
              "      box-shadow: 0px 1px 2px rgba(60, 64, 67, 0.3), 0px 1px 3px 1px rgba(60, 64, 67, 0.15);\n",
              "      fill: #174EA6;\n",
              "    }\n",
              "\n",
              "    [theme=dark] .colab-df-convert {\n",
              "      background-color: #3B4455;\n",
              "      fill: #D2E3FC;\n",
              "    }\n",
              "\n",
              "    [theme=dark] .colab-df-convert:hover {\n",
              "      background-color: #434B5C;\n",
              "      box-shadow: 0px 1px 3px 1px rgba(0, 0, 0, 0.15);\n",
              "      filter: drop-shadow(0px 1px 2px rgba(0, 0, 0, 0.3));\n",
              "      fill: #FFFFFF;\n",
              "    }\n",
              "  </style>\n",
              "\n",
              "      <script>\n",
              "        const buttonEl =\n",
              "          document.querySelector('#df-1fc8c945-f0f2-42b0-8c87-9b8abf93ca7e button.colab-df-convert');\n",
              "        buttonEl.style.display =\n",
              "          google.colab.kernel.accessAllowed ? 'block' : 'none';\n",
              "\n",
              "        async function convertToInteractive(key) {\n",
              "          const element = document.querySelector('#df-1fc8c945-f0f2-42b0-8c87-9b8abf93ca7e');\n",
              "          const dataTable =\n",
              "            await google.colab.kernel.invokeFunction('convertToInteractive',\n",
              "                                                     [key], {});\n",
              "          if (!dataTable) return;\n",
              "\n",
              "          const docLinkHtml = 'Like what you see? Visit the ' +\n",
              "            '<a target=\"_blank\" href=https://colab.research.google.com/notebooks/data_table.ipynb>data table notebook</a>'\n",
              "            + ' to learn more about interactive tables.';\n",
              "          element.innerHTML = '';\n",
              "          dataTable['output_type'] = 'display_data';\n",
              "          await google.colab.output.renderOutput(dataTable, element);\n",
              "          const docLink = document.createElement('div');\n",
              "          docLink.innerHTML = docLinkHtml;\n",
              "          element.appendChild(docLink);\n",
              "        }\n",
              "      </script>\n",
              "    </div>\n",
              "  </div>\n",
              "  "
            ]
          },
          "metadata": {},
          "execution_count": 34
        }
      ]
    },
    {
      "cell_type": "code",
      "source": [
        "#Applying entire dataset to bert model\n",
        "\n",
        "b_tweet = df['normalized_tweet']\n",
        "pred_tweet = model.predict(b_tweet)\n",
        "\n",
        "df['Bert_Score'] = pred_tweet\n",
        "df['Bert_Label'] = df['Bert_Score'].apply(lambda x: 1 if x >= 0.5 else 0)\n",
        "df.tail(5)"
      ],
      "metadata": {
        "id": "tz92U6hCOqVU",
        "colab": {
          "base_uri": "https://localhost:8080/",
          "height": 496
        },
        "outputId": "f5cdda63-e0ee-4be0-b751-ee05e22a0d7a"
      },
      "execution_count": null,
      "outputs": [
        {
          "output_type": "stream",
          "name": "stdout",
          "text": [
            "32/32 [==============================] - 10s 311ms/step\n"
          ]
        },
        {
          "output_type": "execute_result",
          "data": {
            "text/plain": [
              "       author id                 created_at               geo            id  \\\n",
              "991  296916169.0  2020-01-24 18:10:53+00:00  6a779d5cb7e570e8  1.220000e+18   \n",
              "992  296916169.0  2020-01-24 18:09:44+00:00  6a779d5cb7e570e8  1.220000e+18   \n",
              "993  151036239.0  2020-01-24 18:03:37+00:00  50f2d0272381533f  1.220000e+18   \n",
              "994  258124561.0  2020-01-24 16:48:57+00:00  457b4814b4240d87  1.220000e+18   \n",
              "995  434456355.0  2020-01-24 13:03:54+00:00  315b740b108481f6  1.220000e+18   \n",
              "\n",
              "    lang  like_count  quote_count  reply_count  retweet_count  \\\n",
              "991   en           0            0            0              0   \n",
              "992   en           0            0            1              0   \n",
              "993   en           0            0            0              0   \n",
              "994   en           1            0            0              0   \n",
              "995   en           0            0            0              0   \n",
              "\n",
              "                  source                                              tweet  \\\n",
              "991  Twitter for Android  Odd that this has gone viral but I really like...   \n",
              "992  Twitter for Android   Because it's awesome!\\n\\nAnd it's gone viral ...   \n",
              "993   Twitter for iPhone  Canâ€™t believe how viral this has gone ðŸ˜‚ðŸ...   \n",
              "994            Instagram  It had to be done. ðŸ˜‚ â€œGet you a woman who...   \n",
              "995  Twitter for Android           ...should I do this and go viral? ðŸ˜‚     \n",
              "\n",
              "    Disease Category                location  \\\n",
              "991     NaN       no        Chelmsford, East   \n",
              "992     NaN       no        Chelmsford, East   \n",
              "993     NaN       no  East Midlands, England   \n",
              "994     NaN       no         London, England   \n",
              "995     NaN       no     Manchester, England   \n",
              "\n",
              "                                                  bbox  \\\n",
              "991          [0.435659, 51.698636, 0.521299, 51.78115]   \n",
              "992          [0.435659, 51.698636, 0.521299, 51.78115]   \n",
              "993  [-2.03410488116464, 51.9772264213839, 0.357994...   \n",
              "994      [-0.187894, 51.483718, -0.109978, 51.5164655]   \n",
              "995      [-2.319934, 53.343623, -2.147026, 53.5702824]   \n",
              "\n",
              "                                      normalized_tweet  \\\n",
              "991  ['gone', 'viral', 'really', 'like', 'song', 'g...   \n",
              "992             ['awesome', 'gone', 'viral', 'tiktok']   \n",
              "993  ['believe', 'viral', 'gone', 'http', 'co', 'kj...   \n",
              "994  ['done', 'get', 'woman', 'dollyparton', 'ignit...   \n",
              "995  ['go', 'viral', 'sandymoore', 'x', 'http', 'co...   \n",
              "\n",
              "                                    preprocessed_tweet  Bert_Score  Bert_Label  \n",
              "991  odd that this has gone viral but i really like...    0.359455           0  \n",
              "992   because it s awesome   and it s gone viral on...    0.317185           0  \n",
              "993  can   t believe how viral this has gone       ...    0.325015           0  \n",
              "994  it had to be done          get you a woman who...    0.329398           0  \n",
              "995              should i do this and go viral            0.485284           0  "
            ],
            "text/html": [
              "\n",
              "  <div id=\"df-f3025ec2-100b-49ec-b446-dadf066b328d\">\n",
              "    <div class=\"colab-df-container\">\n",
              "      <div>\n",
              "<style scoped>\n",
              "    .dataframe tbody tr th:only-of-type {\n",
              "        vertical-align: middle;\n",
              "    }\n",
              "\n",
              "    .dataframe tbody tr th {\n",
              "        vertical-align: top;\n",
              "    }\n",
              "\n",
              "    .dataframe thead th {\n",
              "        text-align: right;\n",
              "    }\n",
              "</style>\n",
              "<table border=\"1\" class=\"dataframe\">\n",
              "  <thead>\n",
              "    <tr style=\"text-align: right;\">\n",
              "      <th></th>\n",
              "      <th>author id</th>\n",
              "      <th>created_at</th>\n",
              "      <th>geo</th>\n",
              "      <th>id</th>\n",
              "      <th>lang</th>\n",
              "      <th>like_count</th>\n",
              "      <th>quote_count</th>\n",
              "      <th>reply_count</th>\n",
              "      <th>retweet_count</th>\n",
              "      <th>source</th>\n",
              "      <th>tweet</th>\n",
              "      <th>Disease</th>\n",
              "      <th>Category</th>\n",
              "      <th>location</th>\n",
              "      <th>bbox</th>\n",
              "      <th>normalized_tweet</th>\n",
              "      <th>preprocessed_tweet</th>\n",
              "      <th>Bert_Score</th>\n",
              "      <th>Bert_Label</th>\n",
              "    </tr>\n",
              "  </thead>\n",
              "  <tbody>\n",
              "    <tr>\n",
              "      <th>991</th>\n",
              "      <td>296916169.0</td>\n",
              "      <td>2020-01-24 18:10:53+00:00</td>\n",
              "      <td>6a779d5cb7e570e8</td>\n",
              "      <td>1.220000e+18</td>\n",
              "      <td>en</td>\n",
              "      <td>0</td>\n",
              "      <td>0</td>\n",
              "      <td>0</td>\n",
              "      <td>0</td>\n",
              "      <td>Twitter for Android</td>\n",
              "      <td>Odd that this has gone viral but I really like...</td>\n",
              "      <td>NaN</td>\n",
              "      <td>no</td>\n",
              "      <td>Chelmsford, East</td>\n",
              "      <td>[0.435659, 51.698636, 0.521299, 51.78115]</td>\n",
              "      <td>['gone', 'viral', 'really', 'like', 'song', 'g...</td>\n",
              "      <td>odd that this has gone viral but i really like...</td>\n",
              "      <td>0.359455</td>\n",
              "      <td>0</td>\n",
              "    </tr>\n",
              "    <tr>\n",
              "      <th>992</th>\n",
              "      <td>296916169.0</td>\n",
              "      <td>2020-01-24 18:09:44+00:00</td>\n",
              "      <td>6a779d5cb7e570e8</td>\n",
              "      <td>1.220000e+18</td>\n",
              "      <td>en</td>\n",
              "      <td>0</td>\n",
              "      <td>0</td>\n",
              "      <td>1</td>\n",
              "      <td>0</td>\n",
              "      <td>Twitter for Android</td>\n",
              "      <td>Because it's awesome!\\n\\nAnd it's gone viral ...</td>\n",
              "      <td>NaN</td>\n",
              "      <td>no</td>\n",
              "      <td>Chelmsford, East</td>\n",
              "      <td>[0.435659, 51.698636, 0.521299, 51.78115]</td>\n",
              "      <td>['awesome', 'gone', 'viral', 'tiktok']</td>\n",
              "      <td>because it s awesome   and it s gone viral on...</td>\n",
              "      <td>0.317185</td>\n",
              "      <td>0</td>\n",
              "    </tr>\n",
              "    <tr>\n",
              "      <th>993</th>\n",
              "      <td>151036239.0</td>\n",
              "      <td>2020-01-24 18:03:37+00:00</td>\n",
              "      <td>50f2d0272381533f</td>\n",
              "      <td>1.220000e+18</td>\n",
              "      <td>en</td>\n",
              "      <td>0</td>\n",
              "      <td>0</td>\n",
              "      <td>0</td>\n",
              "      <td>0</td>\n",
              "      <td>Twitter for iPhone</td>\n",
              "      <td>Canâ€™t believe how viral this has gone ðŸ˜‚ðŸ...</td>\n",
              "      <td>NaN</td>\n",
              "      <td>no</td>\n",
              "      <td>East Midlands, England</td>\n",
              "      <td>[-2.03410488116464, 51.9772264213839, 0.357994...</td>\n",
              "      <td>['believe', 'viral', 'gone', 'http', 'co', 'kj...</td>\n",
              "      <td>can   t believe how viral this has gone       ...</td>\n",
              "      <td>0.325015</td>\n",
              "      <td>0</td>\n",
              "    </tr>\n",
              "    <tr>\n",
              "      <th>994</th>\n",
              "      <td>258124561.0</td>\n",
              "      <td>2020-01-24 16:48:57+00:00</td>\n",
              "      <td>457b4814b4240d87</td>\n",
              "      <td>1.220000e+18</td>\n",
              "      <td>en</td>\n",
              "      <td>1</td>\n",
              "      <td>0</td>\n",
              "      <td>0</td>\n",
              "      <td>0</td>\n",
              "      <td>Instagram</td>\n",
              "      <td>It had to be done. ðŸ˜‚ â€œGet you a woman who...</td>\n",
              "      <td>NaN</td>\n",
              "      <td>no</td>\n",
              "      <td>London, England</td>\n",
              "      <td>[-0.187894, 51.483718, -0.109978, 51.5164655]</td>\n",
              "      <td>['done', 'get', 'woman', 'dollyparton', 'ignit...</td>\n",
              "      <td>it had to be done          get you a woman who...</td>\n",
              "      <td>0.329398</td>\n",
              "      <td>0</td>\n",
              "    </tr>\n",
              "    <tr>\n",
              "      <th>995</th>\n",
              "      <td>434456355.0</td>\n",
              "      <td>2020-01-24 13:03:54+00:00</td>\n",
              "      <td>315b740b108481f6</td>\n",
              "      <td>1.220000e+18</td>\n",
              "      <td>en</td>\n",
              "      <td>0</td>\n",
              "      <td>0</td>\n",
              "      <td>0</td>\n",
              "      <td>0</td>\n",
              "      <td>Twitter for Android</td>\n",
              "      <td>...should I do this and go viral? ðŸ˜‚</td>\n",
              "      <td>NaN</td>\n",
              "      <td>no</td>\n",
              "      <td>Manchester, England</td>\n",
              "      <td>[-2.319934, 53.343623, -2.147026, 53.5702824]</td>\n",
              "      <td>['go', 'viral', 'sandymoore', 'x', 'http', 'co...</td>\n",
              "      <td>should i do this and go viral</td>\n",
              "      <td>0.485284</td>\n",
              "      <td>0</td>\n",
              "    </tr>\n",
              "  </tbody>\n",
              "</table>\n",
              "</div>\n",
              "      <button class=\"colab-df-convert\" onclick=\"convertToInteractive('df-f3025ec2-100b-49ec-b446-dadf066b328d')\"\n",
              "              title=\"Convert this dataframe to an interactive table.\"\n",
              "              style=\"display:none;\">\n",
              "        \n",
              "  <svg xmlns=\"http://www.w3.org/2000/svg\" height=\"24px\"viewBox=\"0 0 24 24\"\n",
              "       width=\"24px\">\n",
              "    <path d=\"M0 0h24v24H0V0z\" fill=\"none\"/>\n",
              "    <path d=\"M18.56 5.44l.94 2.06.94-2.06 2.06-.94-2.06-.94-.94-2.06-.94 2.06-2.06.94zm-11 1L8.5 8.5l.94-2.06 2.06-.94-2.06-.94L8.5 2.5l-.94 2.06-2.06.94zm10 10l.94 2.06.94-2.06 2.06-.94-2.06-.94-.94-2.06-.94 2.06-2.06.94z\"/><path d=\"M17.41 7.96l-1.37-1.37c-.4-.4-.92-.59-1.43-.59-.52 0-1.04.2-1.43.59L10.3 9.45l-7.72 7.72c-.78.78-.78 2.05 0 2.83L4 21.41c.39.39.9.59 1.41.59.51 0 1.02-.2 1.41-.59l7.78-7.78 2.81-2.81c.8-.78.8-2.07 0-2.86zM5.41 20L4 18.59l7.72-7.72 1.47 1.35L5.41 20z\"/>\n",
              "  </svg>\n",
              "      </button>\n",
              "      \n",
              "  <style>\n",
              "    .colab-df-container {\n",
              "      display:flex;\n",
              "      flex-wrap:wrap;\n",
              "      gap: 12px;\n",
              "    }\n",
              "\n",
              "    .colab-df-convert {\n",
              "      background-color: #E8F0FE;\n",
              "      border: none;\n",
              "      border-radius: 50%;\n",
              "      cursor: pointer;\n",
              "      display: none;\n",
              "      fill: #1967D2;\n",
              "      height: 32px;\n",
              "      padding: 0 0 0 0;\n",
              "      width: 32px;\n",
              "    }\n",
              "\n",
              "    .colab-df-convert:hover {\n",
              "      background-color: #E2EBFA;\n",
              "      box-shadow: 0px 1px 2px rgba(60, 64, 67, 0.3), 0px 1px 3px 1px rgba(60, 64, 67, 0.15);\n",
              "      fill: #174EA6;\n",
              "    }\n",
              "\n",
              "    [theme=dark] .colab-df-convert {\n",
              "      background-color: #3B4455;\n",
              "      fill: #D2E3FC;\n",
              "    }\n",
              "\n",
              "    [theme=dark] .colab-df-convert:hover {\n",
              "      background-color: #434B5C;\n",
              "      box-shadow: 0px 1px 3px 1px rgba(0, 0, 0, 0.15);\n",
              "      filter: drop-shadow(0px 1px 2px rgba(0, 0, 0, 0.3));\n",
              "      fill: #FFFFFF;\n",
              "    }\n",
              "  </style>\n",
              "\n",
              "      <script>\n",
              "        const buttonEl =\n",
              "          document.querySelector('#df-f3025ec2-100b-49ec-b446-dadf066b328d button.colab-df-convert');\n",
              "        buttonEl.style.display =\n",
              "          google.colab.kernel.accessAllowed ? 'block' : 'none';\n",
              "\n",
              "        async function convertToInteractive(key) {\n",
              "          const element = document.querySelector('#df-f3025ec2-100b-49ec-b446-dadf066b328d');\n",
              "          const dataTable =\n",
              "            await google.colab.kernel.invokeFunction('convertToInteractive',\n",
              "                                                     [key], {});\n",
              "          if (!dataTable) return;\n",
              "\n",
              "          const docLinkHtml = 'Like what you see? Visit the ' +\n",
              "            '<a target=\"_blank\" href=https://colab.research.google.com/notebooks/data_table.ipynb>data table notebook</a>'\n",
              "            + ' to learn more about interactive tables.';\n",
              "          element.innerHTML = '';\n",
              "          dataTable['output_type'] = 'display_data';\n",
              "          await google.colab.output.renderOutput(dataTable, element);\n",
              "          const docLink = document.createElement('div');\n",
              "          docLink.innerHTML = docLinkHtml;\n",
              "          element.appendChild(docLink);\n",
              "        }\n",
              "      </script>\n",
              "    </div>\n",
              "  </div>\n",
              "  "
            ]
          },
          "metadata": {},
          "execution_count": 35
        }
      ]
    },
    {
      "cell_type": "code",
      "source": [
        "df.to_csv('sample_data/Bert_Prediction_Data.csv', index = False)"
      ],
      "metadata": {
        "id": "o2mJZN6PPfZf"
      },
      "execution_count": null,
      "outputs": []
    }
  ],
  "metadata": {
    "colab": {
      "name": "BERT_ReserachProject.ipynb",
      "provenance": []
    },
    "gpuClass": "standard",
    "kernelspec": {
      "display_name": "Python 3",
      "name": "python3"
    },
    "language_info": {
      "name": "python"
    },
    "accelerator": "GPU"
  },
  "nbformat": 4,
  "nbformat_minor": 0
}