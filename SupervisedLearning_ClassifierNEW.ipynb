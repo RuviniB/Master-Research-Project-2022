{
  "nbformat": 4,
  "nbformat_minor": 0,
  "metadata": {
    "colab": {
      "name": "SupervisedLearning_ClassifierNEW",
      "provenance": []
    },
    "kernelspec": {
      "name": "python3",
      "display_name": "Python 3"
    },
    "language_info": {
      "name": "python"
    }
  },
  "cells": [
    {
      "cell_type": "code",
      "execution_count": null,
      "metadata": {
        "id": "E5pvE19ahaEh"
      },
      "outputs": [],
      "source": [
        "import numpy as np \n",
        "import pandas as pd \n",
        "from sklearn import model_selection\n",
        "\n",
        "from sklearn.metrics import f1_score, accuracy_score, precision_score, recall_score"
      ]
    },
    {
      "cell_type": "code",
      "source": [
        "URL = \"https://raw.githubusercontent.com/RuviniB/Master_Project/main/Processed_Training8.csv\""
      ],
      "metadata": {
        "id": "eQHrQiOsi3pb"
      },
      "execution_count": null,
      "outputs": []
    },
    {
      "cell_type": "code",
      "source": [
        "tweets = pd.read_csv(URL)"
      ],
      "metadata": {
        "id": "VpQCD3AQi8NJ"
      },
      "execution_count": null,
      "outputs": []
    },
    {
      "cell_type": "code",
      "source": [
        "tweets['encode_label']=tweets['Category'].apply(lambda x: 1 if x=='yes' else 0)\n",
        "tweets.sample(5)"
      ],
      "metadata": {
        "colab": {
          "base_uri": "https://localhost:8080/",
          "height": 583
        },
        "id": "2kZ8Ph4wpR3S",
        "outputId": "dfac286a-f6f8-4c51-feca-df35ba8aa594"
      },
      "execution_count": null,
      "outputs": [
        {
          "output_type": "execute_result",
          "data": {
            "text/plain": [
              "        author id                 created_at               geo            id  \\\n",
              "322  8.052182e+06  2021-12-28 11:20:49+00:00  1f36c2b60fbc98ac  1.480000e+18   \n",
              "102  4.149481e+09  2021-04-18 20:44:40+00:00  60160252aeb7e3e5  1.380000e+18   \n",
              "289  1.131228e+09  2021-10-17 09:40:12+00:00  477b54bb4fc386a8  1.450000e+18   \n",
              "295  1.160000e+18  2021-11-29 13:56:28+00:00  071b7c1bd7a4d674  1.470000e+18   \n",
              "198  1.286797e+08  2021-07-17 00:59:26+00:00  55274794874e883d  1.420000e+18   \n",
              "\n",
              "    lang  like_count  quote_count  reply_count  retweet_count  \\\n",
              "322   en           4            0            1              0   \n",
              "102   en           1            0            0              0   \n",
              "289   en           1            0            1              0   \n",
              "295   en           1            0            0              0   \n",
              "198   en           0            0            0              0   \n",
              "\n",
              "                  source                                              tweet  \\\n",
              "322  Twitter for Android     I've just suffered my fourth bout of Shingl...   \n",
              "102  Twitter for Android    Long covid the real name is post viral traum...   \n",
              "289   Twitter for iPhone   SheÃ¢â‚¬â„¢s had them since diagnosis has too...   \n",
              "295   Twitter for iPhone         Thx for always asking my sweetheart! Go...   \n",
              "198  Twitter for Android  Norovirus warning as bug spreads in England af...   \n",
              "\n",
              "       Disease Category                location  \\\n",
              "322   Shingles      yes          Swansea, Wales   \n",
              "102        NaN       no  West Midlands, England   \n",
              "289        NaN       no         Dudley, England   \n",
              "295        flu      yes   Saint Margarets, East   \n",
              "198  Norovirus      yes      Stockport, England   \n",
              "\n",
              "                                                  bbox  \\\n",
              "322      [-4.029331, 51.5987484, -3.8621388, 51.68983]   \n",
              "102  [-3.23560072135158, 51.8259029271059, -1.17213...   \n",
              "289       [-2.191695, 52.429765, -2.057189, 52.557702]   \n",
              "295       [-0.020854, 51.779096, 0.019293, 51.7963833]   \n",
              "198       [-2.215529, 53.374446, -2.095752, 53.454771]   \n",
              "\n",
              "                                      normalized_tweet  \\\n",
              "322  ['suffered', 'fourth', 'bout', 'shingle', 'yea...   \n",
              "102  ['real', 'name', 'post', 'viral', 'trauma', 'p...   \n",
              "289  ['since', 'diagnosis', 'near', 'chickenpox', '...   \n",
              "295  ['always', 'asking', 'sweetheart', 'good', 'ok...   \n",
              "198  ['bug', 'spread', 'england', 'lockdown', 'eased']   \n",
              "\n",
              "                                    preprocessed_tweet  encode_label  \n",
              "322  suffered fourth bout shingles years chickenpox...             1  \n",
              "102  long covid real name post viral trauma part n ...             0  \n",
              "289  since diagnosis near chickenpox shingles live ...             0  \n",
              "295  thx always asking sweetheart good ok flu mild ...             1  \n",
              "198  norovirus warning bug spreads england lockdown...             1  "
            ],
            "text/html": [
              "\n",
              "  <div id=\"df-94f11441-1b92-4ccf-990d-d6df9766cabb\">\n",
              "    <div class=\"colab-df-container\">\n",
              "      <div>\n",
              "<style scoped>\n",
              "    .dataframe tbody tr th:only-of-type {\n",
              "        vertical-align: middle;\n",
              "    }\n",
              "\n",
              "    .dataframe tbody tr th {\n",
              "        vertical-align: top;\n",
              "    }\n",
              "\n",
              "    .dataframe thead th {\n",
              "        text-align: right;\n",
              "    }\n",
              "</style>\n",
              "<table border=\"1\" class=\"dataframe\">\n",
              "  <thead>\n",
              "    <tr style=\"text-align: right;\">\n",
              "      <th></th>\n",
              "      <th>author id</th>\n",
              "      <th>created_at</th>\n",
              "      <th>geo</th>\n",
              "      <th>id</th>\n",
              "      <th>lang</th>\n",
              "      <th>like_count</th>\n",
              "      <th>quote_count</th>\n",
              "      <th>reply_count</th>\n",
              "      <th>retweet_count</th>\n",
              "      <th>source</th>\n",
              "      <th>tweet</th>\n",
              "      <th>Disease</th>\n",
              "      <th>Category</th>\n",
              "      <th>location</th>\n",
              "      <th>bbox</th>\n",
              "      <th>normalized_tweet</th>\n",
              "      <th>preprocessed_tweet</th>\n",
              "      <th>encode_label</th>\n",
              "    </tr>\n",
              "  </thead>\n",
              "  <tbody>\n",
              "    <tr>\n",
              "      <th>322</th>\n",
              "      <td>8.052182e+06</td>\n",
              "      <td>2021-12-28 11:20:49+00:00</td>\n",
              "      <td>1f36c2b60fbc98ac</td>\n",
              "      <td>1.480000e+18</td>\n",
              "      <td>en</td>\n",
              "      <td>4</td>\n",
              "      <td>0</td>\n",
              "      <td>1</td>\n",
              "      <td>0</td>\n",
              "      <td>Twitter for Android</td>\n",
              "      <td>I've just suffered my fourth bout of Shingl...</td>\n",
              "      <td>Shingles</td>\n",
              "      <td>yes</td>\n",
              "      <td>Swansea, Wales</td>\n",
              "      <td>[-4.029331, 51.5987484, -3.8621388, 51.68983]</td>\n",
              "      <td>['suffered', 'fourth', 'bout', 'shingle', 'yea...</td>\n",
              "      <td>suffered fourth bout shingles years chickenpox...</td>\n",
              "      <td>1</td>\n",
              "    </tr>\n",
              "    <tr>\n",
              "      <th>102</th>\n",
              "      <td>4.149481e+09</td>\n",
              "      <td>2021-04-18 20:44:40+00:00</td>\n",
              "      <td>60160252aeb7e3e5</td>\n",
              "      <td>1.380000e+18</td>\n",
              "      <td>en</td>\n",
              "      <td>1</td>\n",
              "      <td>0</td>\n",
              "      <td>0</td>\n",
              "      <td>0</td>\n",
              "      <td>Twitter for Android</td>\n",
              "      <td>Long covid the real name is post viral traum...</td>\n",
              "      <td>NaN</td>\n",
              "      <td>no</td>\n",
              "      <td>West Midlands, England</td>\n",
              "      <td>[-3.23560072135158, 51.8259029271059, -1.17213...</td>\n",
              "      <td>['real', 'name', 'post', 'viral', 'trauma', 'p...</td>\n",
              "      <td>long covid real name post viral trauma part n ...</td>\n",
              "      <td>0</td>\n",
              "    </tr>\n",
              "    <tr>\n",
              "      <th>289</th>\n",
              "      <td>1.131228e+09</td>\n",
              "      <td>2021-10-17 09:40:12+00:00</td>\n",
              "      <td>477b54bb4fc386a8</td>\n",
              "      <td>1.450000e+18</td>\n",
              "      <td>en</td>\n",
              "      <td>1</td>\n",
              "      <td>0</td>\n",
              "      <td>1</td>\n",
              "      <td>0</td>\n",
              "      <td>Twitter for iPhone</td>\n",
              "      <td>SheÃ¢â‚¬â„¢s had them since diagnosis has too...</td>\n",
              "      <td>NaN</td>\n",
              "      <td>no</td>\n",
              "      <td>Dudley, England</td>\n",
              "      <td>[-2.191695, 52.429765, -2.057189, 52.557702]</td>\n",
              "      <td>['since', 'diagnosis', 'near', 'chickenpox', '...</td>\n",
              "      <td>since diagnosis near chickenpox shingles live ...</td>\n",
              "      <td>0</td>\n",
              "    </tr>\n",
              "    <tr>\n",
              "      <th>295</th>\n",
              "      <td>1.160000e+18</td>\n",
              "      <td>2021-11-29 13:56:28+00:00</td>\n",
              "      <td>071b7c1bd7a4d674</td>\n",
              "      <td>1.470000e+18</td>\n",
              "      <td>en</td>\n",
              "      <td>1</td>\n",
              "      <td>0</td>\n",
              "      <td>0</td>\n",
              "      <td>0</td>\n",
              "      <td>Twitter for iPhone</td>\n",
              "      <td>Thx for always asking my sweetheart! Go...</td>\n",
              "      <td>flu</td>\n",
              "      <td>yes</td>\n",
              "      <td>Saint Margarets, East</td>\n",
              "      <td>[-0.020854, 51.779096, 0.019293, 51.7963833]</td>\n",
              "      <td>['always', 'asking', 'sweetheart', 'good', 'ok...</td>\n",
              "      <td>thx always asking sweetheart good ok flu mild ...</td>\n",
              "      <td>1</td>\n",
              "    </tr>\n",
              "    <tr>\n",
              "      <th>198</th>\n",
              "      <td>1.286797e+08</td>\n",
              "      <td>2021-07-17 00:59:26+00:00</td>\n",
              "      <td>55274794874e883d</td>\n",
              "      <td>1.420000e+18</td>\n",
              "      <td>en</td>\n",
              "      <td>0</td>\n",
              "      <td>0</td>\n",
              "      <td>0</td>\n",
              "      <td>0</td>\n",
              "      <td>Twitter for Android</td>\n",
              "      <td>Norovirus warning as bug spreads in England af...</td>\n",
              "      <td>Norovirus</td>\n",
              "      <td>yes</td>\n",
              "      <td>Stockport, England</td>\n",
              "      <td>[-2.215529, 53.374446, -2.095752, 53.454771]</td>\n",
              "      <td>['bug', 'spread', 'england', 'lockdown', 'eased']</td>\n",
              "      <td>norovirus warning bug spreads england lockdown...</td>\n",
              "      <td>1</td>\n",
              "    </tr>\n",
              "  </tbody>\n",
              "</table>\n",
              "</div>\n",
              "      <button class=\"colab-df-convert\" onclick=\"convertToInteractive('df-94f11441-1b92-4ccf-990d-d6df9766cabb')\"\n",
              "              title=\"Convert this dataframe to an interactive table.\"\n",
              "              style=\"display:none;\">\n",
              "        \n",
              "  <svg xmlns=\"http://www.w3.org/2000/svg\" height=\"24px\"viewBox=\"0 0 24 24\"\n",
              "       width=\"24px\">\n",
              "    <path d=\"M0 0h24v24H0V0z\" fill=\"none\"/>\n",
              "    <path d=\"M18.56 5.44l.94 2.06.94-2.06 2.06-.94-2.06-.94-.94-2.06-.94 2.06-2.06.94zm-11 1L8.5 8.5l.94-2.06 2.06-.94-2.06-.94L8.5 2.5l-.94 2.06-2.06.94zm10 10l.94 2.06.94-2.06 2.06-.94-2.06-.94-.94-2.06-.94 2.06-2.06.94z\"/><path d=\"M17.41 7.96l-1.37-1.37c-.4-.4-.92-.59-1.43-.59-.52 0-1.04.2-1.43.59L10.3 9.45l-7.72 7.72c-.78.78-.78 2.05 0 2.83L4 21.41c.39.39.9.59 1.41.59.51 0 1.02-.2 1.41-.59l7.78-7.78 2.81-2.81c.8-.78.8-2.07 0-2.86zM5.41 20L4 18.59l7.72-7.72 1.47 1.35L5.41 20z\"/>\n",
              "  </svg>\n",
              "      </button>\n",
              "      \n",
              "  <style>\n",
              "    .colab-df-container {\n",
              "      display:flex;\n",
              "      flex-wrap:wrap;\n",
              "      gap: 12px;\n",
              "    }\n",
              "\n",
              "    .colab-df-convert {\n",
              "      background-color: #E8F0FE;\n",
              "      border: none;\n",
              "      border-radius: 50%;\n",
              "      cursor: pointer;\n",
              "      display: none;\n",
              "      fill: #1967D2;\n",
              "      height: 32px;\n",
              "      padding: 0 0 0 0;\n",
              "      width: 32px;\n",
              "    }\n",
              "\n",
              "    .colab-df-convert:hover {\n",
              "      background-color: #E2EBFA;\n",
              "      box-shadow: 0px 1px 2px rgba(60, 64, 67, 0.3), 0px 1px 3px 1px rgba(60, 64, 67, 0.15);\n",
              "      fill: #174EA6;\n",
              "    }\n",
              "\n",
              "    [theme=dark] .colab-df-convert {\n",
              "      background-color: #3B4455;\n",
              "      fill: #D2E3FC;\n",
              "    }\n",
              "\n",
              "    [theme=dark] .colab-df-convert:hover {\n",
              "      background-color: #434B5C;\n",
              "      box-shadow: 0px 1px 3px 1px rgba(0, 0, 0, 0.15);\n",
              "      filter: drop-shadow(0px 1px 2px rgba(0, 0, 0, 0.3));\n",
              "      fill: #FFFFFF;\n",
              "    }\n",
              "  </style>\n",
              "\n",
              "      <script>\n",
              "        const buttonEl =\n",
              "          document.querySelector('#df-94f11441-1b92-4ccf-990d-d6df9766cabb button.colab-df-convert');\n",
              "        buttonEl.style.display =\n",
              "          google.colab.kernel.accessAllowed ? 'block' : 'none';\n",
              "\n",
              "        async function convertToInteractive(key) {\n",
              "          const element = document.querySelector('#df-94f11441-1b92-4ccf-990d-d6df9766cabb');\n",
              "          const dataTable =\n",
              "            await google.colab.kernel.invokeFunction('convertToInteractive',\n",
              "                                                     [key], {});\n",
              "          if (!dataTable) return;\n",
              "\n",
              "          const docLinkHtml = 'Like what you see? Visit the ' +\n",
              "            '<a target=\"_blank\" href=https://colab.research.google.com/notebooks/data_table.ipynb>data table notebook</a>'\n",
              "            + ' to learn more about interactive tables.';\n",
              "          element.innerHTML = '';\n",
              "          dataTable['output_type'] = 'display_data';\n",
              "          await google.colab.output.renderOutput(dataTable, element);\n",
              "          const docLink = document.createElement('div');\n",
              "          docLink.innerHTML = docLinkHtml;\n",
              "          element.appendChild(docLink);\n",
              "        }\n",
              "      </script>\n",
              "    </div>\n",
              "  </div>\n",
              "  "
            ]
          },
          "metadata": {},
          "execution_count": 4
        }
      ]
    },
    {
      "cell_type": "code",
      "source": [
        "import pandas as pd\n",
        "\n",
        "df = pd.read_csv(URL)\n",
        "df.head(5)"
      ],
      "metadata": {
        "colab": {
          "base_uri": "https://localhost:8080/",
          "height": 530
        },
        "id": "gKXgXVcWpWDK",
        "outputId": "e2b5e982-f19a-47d1-e8f8-ad9ea914ad87"
      },
      "execution_count": null,
      "outputs": [
        {
          "output_type": "execute_result",
          "data": {
            "text/plain": [
              "      author id                 created_at               geo            id  \\\n",
              "0  8.847627e+07  2021-01-30 23:27:51+00:00  0af014accd6f6e99  1.360000e+18   \n",
              "1  2.212480e+09  2021-01-30 23:22:42+00:00  544762ebf7fda780  1.360000e+18   \n",
              "2  2.180468e+07  2021-01-30 23:21:37+00:00  0282e03e23c71cd9  1.360000e+18   \n",
              "3  3.368075e+09  2021-01-30 23:17:59+00:00  6950c01e141ecebc  1.360000e+18   \n",
              "4  1.170000e+18  2021-01-30 23:11:52+00:00  3e20eaf0dc70acfe  1.360000e+18   \n",
              "\n",
              "  lang  like_count  quote_count  reply_count  retweet_count  \\\n",
              "0   en           2            0            0              0   \n",
              "1   en           0            0            1              0   \n",
              "2   en           0            0            0              0   \n",
              "3   en           2            0            0              0   \n",
              "4   en           0            0            0              0   \n",
              "\n",
              "                source                                              tweet  \\\n",
              "0   Twitter for iPhone   Also, spoongate and highlightergate took me p...   \n",
              "1  Twitter for Android      But spreading the vaccine more thinly acro...   \n",
              "2   Twitter for iPhone                                  You read my mind!   \n",
              "3   Twitter for iPhone  The fact sea shanties are viral on tiktok has ...   \n",
              "4  Twitter for Android      good evening guys Ã¢ÂÂ¤Ã¯Â¸Â I miss you....   \n",
              "\n",
              "  Disease Category                   location  \\\n",
              "0     NaN       no   Scotland, United Kingdom   \n",
              "1     NaN       no          Islington, London   \n",
              "2     NaN       no         Walberton, England   \n",
              "3     NaN       no           Pendeen, England   \n",
              "4     NaN       no  Stockton-on-Tees, England   \n",
              "\n",
              "                                                bbox  \\\n",
              "0  [-7.66085699743185, 54.6336309570711, -0.74002...   \n",
              "1     [-0.1420579, 51.5185518, -0.076305, 51.575301]   \n",
              "2       [-0.649321, 50.842058, -0.613803, 50.857136]   \n",
              "3       [-5.672772, 50.147916, -5.650931, 50.155494]   \n",
              "4      [-1.372296, 54.538762, -1.2717038, 54.600693]   \n",
              "\n",
              "                                    normalized_tweet  \\\n",
              "0  ['highlightergate', 'took', 'perilously', 'clo...   \n",
              "1  ['vaccine', 'thinly', 'across', 'country', 'op...   \n",
              "2                                           ['mind']   \n",
              "3  ['sea', 'shanty', 'viral', 'tiktok', 'made', '...   \n",
              "4  ['guy', 'miss', 'virus', 'never', 'get', 'u', ...   \n",
              "\n",
              "                                  preprocessed_tweet  \n",
              "0  also spoongate highlightergate took perilously...  \n",
              "1  spreading vaccine thinly across countries oppo...  \n",
              "2                                          read mind  \n",
              "3  fact sea shanties viral tiktok made heart happ...  \n",
              "4  good evening guys miss virus never get us back...  "
            ],
            "text/html": [
              "\n",
              "  <div id=\"df-5200edb8-6b35-46a4-a01b-e806a2622bdd\">\n",
              "    <div class=\"colab-df-container\">\n",
              "      <div>\n",
              "<style scoped>\n",
              "    .dataframe tbody tr th:only-of-type {\n",
              "        vertical-align: middle;\n",
              "    }\n",
              "\n",
              "    .dataframe tbody tr th {\n",
              "        vertical-align: top;\n",
              "    }\n",
              "\n",
              "    .dataframe thead th {\n",
              "        text-align: right;\n",
              "    }\n",
              "</style>\n",
              "<table border=\"1\" class=\"dataframe\">\n",
              "  <thead>\n",
              "    <tr style=\"text-align: right;\">\n",
              "      <th></th>\n",
              "      <th>author id</th>\n",
              "      <th>created_at</th>\n",
              "      <th>geo</th>\n",
              "      <th>id</th>\n",
              "      <th>lang</th>\n",
              "      <th>like_count</th>\n",
              "      <th>quote_count</th>\n",
              "      <th>reply_count</th>\n",
              "      <th>retweet_count</th>\n",
              "      <th>source</th>\n",
              "      <th>tweet</th>\n",
              "      <th>Disease</th>\n",
              "      <th>Category</th>\n",
              "      <th>location</th>\n",
              "      <th>bbox</th>\n",
              "      <th>normalized_tweet</th>\n",
              "      <th>preprocessed_tweet</th>\n",
              "    </tr>\n",
              "  </thead>\n",
              "  <tbody>\n",
              "    <tr>\n",
              "      <th>0</th>\n",
              "      <td>8.847627e+07</td>\n",
              "      <td>2021-01-30 23:27:51+00:00</td>\n",
              "      <td>0af014accd6f6e99</td>\n",
              "      <td>1.360000e+18</td>\n",
              "      <td>en</td>\n",
              "      <td>2</td>\n",
              "      <td>0</td>\n",
              "      <td>0</td>\n",
              "      <td>0</td>\n",
              "      <td>Twitter for iPhone</td>\n",
              "      <td>Also, spoongate and highlightergate took me p...</td>\n",
              "      <td>NaN</td>\n",
              "      <td>no</td>\n",
              "      <td>Scotland, United Kingdom</td>\n",
              "      <td>[-7.66085699743185, 54.6336309570711, -0.74002...</td>\n",
              "      <td>['highlightergate', 'took', 'perilously', 'clo...</td>\n",
              "      <td>also spoongate highlightergate took perilously...</td>\n",
              "    </tr>\n",
              "    <tr>\n",
              "      <th>1</th>\n",
              "      <td>2.212480e+09</td>\n",
              "      <td>2021-01-30 23:22:42+00:00</td>\n",
              "      <td>544762ebf7fda780</td>\n",
              "      <td>1.360000e+18</td>\n",
              "      <td>en</td>\n",
              "      <td>0</td>\n",
              "      <td>0</td>\n",
              "      <td>1</td>\n",
              "      <td>0</td>\n",
              "      <td>Twitter for Android</td>\n",
              "      <td>But spreading the vaccine more thinly acro...</td>\n",
              "      <td>NaN</td>\n",
              "      <td>no</td>\n",
              "      <td>Islington, London</td>\n",
              "      <td>[-0.1420579, 51.5185518, -0.076305, 51.575301]</td>\n",
              "      <td>['vaccine', 'thinly', 'across', 'country', 'op...</td>\n",
              "      <td>spreading vaccine thinly across countries oppo...</td>\n",
              "    </tr>\n",
              "    <tr>\n",
              "      <th>2</th>\n",
              "      <td>2.180468e+07</td>\n",
              "      <td>2021-01-30 23:21:37+00:00</td>\n",
              "      <td>0282e03e23c71cd9</td>\n",
              "      <td>1.360000e+18</td>\n",
              "      <td>en</td>\n",
              "      <td>0</td>\n",
              "      <td>0</td>\n",
              "      <td>0</td>\n",
              "      <td>0</td>\n",
              "      <td>Twitter for iPhone</td>\n",
              "      <td>You read my mind!</td>\n",
              "      <td>NaN</td>\n",
              "      <td>no</td>\n",
              "      <td>Walberton, England</td>\n",
              "      <td>[-0.649321, 50.842058, -0.613803, 50.857136]</td>\n",
              "      <td>['mind']</td>\n",
              "      <td>read mind</td>\n",
              "    </tr>\n",
              "    <tr>\n",
              "      <th>3</th>\n",
              "      <td>3.368075e+09</td>\n",
              "      <td>2021-01-30 23:17:59+00:00</td>\n",
              "      <td>6950c01e141ecebc</td>\n",
              "      <td>1.360000e+18</td>\n",
              "      <td>en</td>\n",
              "      <td>2</td>\n",
              "      <td>0</td>\n",
              "      <td>0</td>\n",
              "      <td>0</td>\n",
              "      <td>Twitter for iPhone</td>\n",
              "      <td>The fact sea shanties are viral on tiktok has ...</td>\n",
              "      <td>NaN</td>\n",
              "      <td>no</td>\n",
              "      <td>Pendeen, England</td>\n",
              "      <td>[-5.672772, 50.147916, -5.650931, 50.155494]</td>\n",
              "      <td>['sea', 'shanty', 'viral', 'tiktok', 'made', '...</td>\n",
              "      <td>fact sea shanties viral tiktok made heart happ...</td>\n",
              "    </tr>\n",
              "    <tr>\n",
              "      <th>4</th>\n",
              "      <td>1.170000e+18</td>\n",
              "      <td>2021-01-30 23:11:52+00:00</td>\n",
              "      <td>3e20eaf0dc70acfe</td>\n",
              "      <td>1.360000e+18</td>\n",
              "      <td>en</td>\n",
              "      <td>0</td>\n",
              "      <td>0</td>\n",
              "      <td>0</td>\n",
              "      <td>0</td>\n",
              "      <td>Twitter for Android</td>\n",
              "      <td>good evening guys Ã¢ÂÂ¤Ã¯Â¸Â I miss you....</td>\n",
              "      <td>NaN</td>\n",
              "      <td>no</td>\n",
              "      <td>Stockton-on-Tees, England</td>\n",
              "      <td>[-1.372296, 54.538762, -1.2717038, 54.600693]</td>\n",
              "      <td>['guy', 'miss', 'virus', 'never', 'get', 'u', ...</td>\n",
              "      <td>good evening guys miss virus never get us back...</td>\n",
              "    </tr>\n",
              "  </tbody>\n",
              "</table>\n",
              "</div>\n",
              "      <button class=\"colab-df-convert\" onclick=\"convertToInteractive('df-5200edb8-6b35-46a4-a01b-e806a2622bdd')\"\n",
              "              title=\"Convert this dataframe to an interactive table.\"\n",
              "              style=\"display:none;\">\n",
              "        \n",
              "  <svg xmlns=\"http://www.w3.org/2000/svg\" height=\"24px\"viewBox=\"0 0 24 24\"\n",
              "       width=\"24px\">\n",
              "    <path d=\"M0 0h24v24H0V0z\" fill=\"none\"/>\n",
              "    <path d=\"M18.56 5.44l.94 2.06.94-2.06 2.06-.94-2.06-.94-.94-2.06-.94 2.06-2.06.94zm-11 1L8.5 8.5l.94-2.06 2.06-.94-2.06-.94L8.5 2.5l-.94 2.06-2.06.94zm10 10l.94 2.06.94-2.06 2.06-.94-2.06-.94-.94-2.06-.94 2.06-2.06.94z\"/><path d=\"M17.41 7.96l-1.37-1.37c-.4-.4-.92-.59-1.43-.59-.52 0-1.04.2-1.43.59L10.3 9.45l-7.72 7.72c-.78.78-.78 2.05 0 2.83L4 21.41c.39.39.9.59 1.41.59.51 0 1.02-.2 1.41-.59l7.78-7.78 2.81-2.81c.8-.78.8-2.07 0-2.86zM5.41 20L4 18.59l7.72-7.72 1.47 1.35L5.41 20z\"/>\n",
              "  </svg>\n",
              "      </button>\n",
              "      \n",
              "  <style>\n",
              "    .colab-df-container {\n",
              "      display:flex;\n",
              "      flex-wrap:wrap;\n",
              "      gap: 12px;\n",
              "    }\n",
              "\n",
              "    .colab-df-convert {\n",
              "      background-color: #E8F0FE;\n",
              "      border: none;\n",
              "      border-radius: 50%;\n",
              "      cursor: pointer;\n",
              "      display: none;\n",
              "      fill: #1967D2;\n",
              "      height: 32px;\n",
              "      padding: 0 0 0 0;\n",
              "      width: 32px;\n",
              "    }\n",
              "\n",
              "    .colab-df-convert:hover {\n",
              "      background-color: #E2EBFA;\n",
              "      box-shadow: 0px 1px 2px rgba(60, 64, 67, 0.3), 0px 1px 3px 1px rgba(60, 64, 67, 0.15);\n",
              "      fill: #174EA6;\n",
              "    }\n",
              "\n",
              "    [theme=dark] .colab-df-convert {\n",
              "      background-color: #3B4455;\n",
              "      fill: #D2E3FC;\n",
              "    }\n",
              "\n",
              "    [theme=dark] .colab-df-convert:hover {\n",
              "      background-color: #434B5C;\n",
              "      box-shadow: 0px 1px 3px 1px rgba(0, 0, 0, 0.15);\n",
              "      filter: drop-shadow(0px 1px 2px rgba(0, 0, 0, 0.3));\n",
              "      fill: #FFFFFF;\n",
              "    }\n",
              "  </style>\n",
              "\n",
              "      <script>\n",
              "        const buttonEl =\n",
              "          document.querySelector('#df-5200edb8-6b35-46a4-a01b-e806a2622bdd button.colab-df-convert');\n",
              "        buttonEl.style.display =\n",
              "          google.colab.kernel.accessAllowed ? 'block' : 'none';\n",
              "\n",
              "        async function convertToInteractive(key) {\n",
              "          const element = document.querySelector('#df-5200edb8-6b35-46a4-a01b-e806a2622bdd');\n",
              "          const dataTable =\n",
              "            await google.colab.kernel.invokeFunction('convertToInteractive',\n",
              "                                                     [key], {});\n",
              "          if (!dataTable) return;\n",
              "\n",
              "          const docLinkHtml = 'Like what you see? Visit the ' +\n",
              "            '<a target=\"_blank\" href=https://colab.research.google.com/notebooks/data_table.ipynb>data table notebook</a>'\n",
              "            + ' to learn more about interactive tables.';\n",
              "          element.innerHTML = '';\n",
              "          dataTable['output_type'] = 'display_data';\n",
              "          await google.colab.output.renderOutput(dataTable, element);\n",
              "          const docLink = document.createElement('div');\n",
              "          docLink.innerHTML = docLinkHtml;\n",
              "          element.appendChild(docLink);\n",
              "        }\n",
              "      </script>\n",
              "    </div>\n",
              "  </div>\n",
              "  "
            ]
          },
          "metadata": {},
          "execution_count": 5
        }
      ]
    },
    {
      "cell_type": "code",
      "source": [
        "X_train, X_test, y_train, y_test = model_selection.train_test_split(tweets[\"normalized_tweet\"], tweets[\"encode_label\"], stratify=None, test_size=0.2)"
      ],
      "metadata": {
        "id": "XAYtj-xOpkI8"
      },
      "execution_count": null,
      "outputs": []
    },
    {
      "cell_type": "code",
      "source": [
        "X_train.head()"
      ],
      "metadata": {
        "colab": {
          "base_uri": "https://localhost:8080/"
        },
        "id": "tjuTt3Ezpmqk",
        "outputId": "204d2409-3f06-4f06-b3fc-efab6c4a8a20"
      },
      "execution_count": null,
      "outputs": [
        {
          "output_type": "execute_result",
          "data": {
            "text/plain": [
              "742    ['hell', 'virus', 'crazy', 'bill', 'plan', 'lo...\n",
              "531    ['much', 'difference', 'got', 'many', 'friend'...\n",
              "599    ['public', 'health', 'consensus', 'statement',...\n",
              "242    ['good', 'bad', 'gut', 'leg', 'aching', 'sort'...\n",
              "279    ['husband', 'mum', 'gp', 'got', 'chickenpox', ...\n",
              "Name: normalized_tweet, dtype: object"
            ]
          },
          "metadata": {},
          "execution_count": 7
        }
      ]
    },
    {
      "cell_type": "code",
      "source": [
        "from sklearn.feature_extraction.text import TfidfVectorizer  \n",
        "\n",
        "tfidfconverter = TfidfVectorizer(max_features=2000, min_df=5, max_df=0.7)  \n",
        "tfidfconverter.fit(tweets[\"normalized_tweet\"])\n",
        "X_train = tfidfconverter.transform(X_train)\n",
        "X_test = tfidfconverter.transform(X_test)"
      ],
      "metadata": {
        "id": "CDZZFGeHpqyM"
      },
      "execution_count": null,
      "outputs": []
    },
    {
      "cell_type": "code",
      "source": [
        "### Random Forest"
      ],
      "metadata": {
        "id": "BKaJV-LFpsQN"
      },
      "execution_count": null,
      "outputs": []
    },
    {
      "cell_type": "code",
      "source": [
        "#Random Forest\n",
        "from sklearn.ensemble import RandomForestClassifier\n",
        "\n",
        "rf_classifier = RandomForestClassifier(n_estimators=100, random_state=0)  \n",
        "rf_classifier.fit(X_train, y_train)\n",
        " \n",
        "rf_predictions = rf_classifier.predict(X_test)"
      ],
      "metadata": {
        "id": "Dpdxwk8Fp15k"
      },
      "execution_count": null,
      "outputs": []
    },
    {
      "cell_type": "code",
      "source": [
        "from sklearn.metrics import classification_report, confusion_matrix, accuracy_score\n",
        " \n",
        "print(confusion_matrix(y_test,rf_predictions))  \n",
        "print(classification_report(y_test,rf_predictions))  \n",
        "print(\"Random Forest Accuracy --> \", accuracy_score(y_test, rf_predictions)*100)"
      ],
      "metadata": {
        "colab": {
          "base_uri": "https://localhost:8080/"
        },
        "id": "rmeTC01bp468",
        "outputId": "53e1676f-2855-468a-8a32-f18abbae9826"
      },
      "execution_count": null,
      "outputs": [
        {
          "output_type": "stream",
          "name": "stdout",
          "text": [
            "[[99 10]\n",
            " [12 79]]\n",
            "              precision    recall  f1-score   support\n",
            "\n",
            "           0       0.89      0.91      0.90       109\n",
            "           1       0.89      0.87      0.88        91\n",
            "\n",
            "    accuracy                           0.89       200\n",
            "   macro avg       0.89      0.89      0.89       200\n",
            "weighted avg       0.89      0.89      0.89       200\n",
            "\n",
            "Random Forest Accuracy -->  89.0\n"
          ]
        }
      ]
    },
    {
      "cell_type": "code",
      "source": [
        "print(\"Random Forest f1-score -->\",f1_score(y_test, rf_predictions)*100)\n",
        "print(\"Random Forest precission_score -->\",precision_score(y_test, rf_predictions)*100)\n",
        "print(\"Random Forest recall_score -->\",recall_score(y_test, rf_predictions)*100)"
      ],
      "metadata": {
        "colab": {
          "base_uri": "https://localhost:8080/"
        },
        "id": "lL5nJWvEp8TE",
        "outputId": "1b3df18e-16ac-475a-fde6-4dad341c4496"
      },
      "execution_count": null,
      "outputs": [
        {
          "output_type": "stream",
          "name": "stdout",
          "text": [
            "Random Forest f1-score --> 87.77777777777777\n",
            "Random Forest precission_score --> 88.76404494382022\n",
            "Random Forest recall_score --> 86.81318681318682\n"
          ]
        }
      ]
    },
    {
      "cell_type": "code",
      "source": [
        " import matplotlib.pyplot as plt"
      ],
      "metadata": {
        "id": "rTZsCetr42wm"
      },
      "execution_count": null,
      "outputs": []
    },
    {
      "cell_type": "code",
      "source": [
        "from sklearn.metrics import plot_confusion_matrix"
      ],
      "metadata": {
        "id": "zI_YZ8VC43i-"
      },
      "execution_count": null,
      "outputs": []
    },
    {
      "cell_type": "code",
      "source": [
        "clf3 = RandomForestClassifier(random_state=0)\n",
        "clf3.fit(X_train, y_train)\n",
        "RandomForestClassifier(random_state=0)\n",
        "plot_confusion_matrix(clf3, X_test, y_test)  \n",
        "plt.show()"
      ],
      "metadata": {
        "colab": {
          "base_uri": "https://localhost:8080/",
          "height": 334
        },
        "id": "W_VUcoOK4fmX",
        "outputId": "e972192e-ade3-4079-e984-333d07b50c60"
      },
      "execution_count": null,
      "outputs": [
        {
          "output_type": "stream",
          "name": "stderr",
          "text": [
            "/usr/local/lib/python3.7/dist-packages/sklearn/utils/deprecation.py:87: FutureWarning: Function plot_confusion_matrix is deprecated; Function `plot_confusion_matrix` is deprecated in 1.0 and will be removed in 1.2. Use one of the class methods: ConfusionMatrixDisplay.from_predictions or ConfusionMatrixDisplay.from_estimator.\n",
            "  warnings.warn(msg, category=FutureWarning)\n"
          ]
        },
        {
          "output_type": "display_data",
          "data": {
            "text/plain": [
              "<Figure size 432x288 with 2 Axes>"
            ],
            "image/png": "[encoded data removed]"
          },
          "metadata": {
            "needs_background": "light"
          }
        }
      ]
    },
    {
      "cell_type": "code",
      "source": [
        "### SVM"
      ],
      "metadata": {
        "id": "ZgCiVJqjqASE"
      },
      "execution_count": null,
      "outputs": []
    },
    {
      "cell_type": "code",
      "source": [
        "#SVM\n",
        "from sklearn.svm import SVC\n",
        "\n",
        "svm_classifier = SVC(kernel=\"linear\")\n",
        "svm_classifier.fit(X_train, y_train)\n",
        "\n",
        "svm_predictions = svm_classifier.predict(X_test)"
      ],
      "metadata": {
        "id": "iePDon3FqAfr"
      },
      "execution_count": null,
      "outputs": []
    },
    {
      "cell_type": "code",
      "source": [
        "print(confusion_matrix(y_test,svm_predictions))  \n",
        "print(classification_report(y_test,svm_predictions))  \n",
        "\n",
        "print(\"SVM Accuracy -->\",accuracy_score(y_test, svm_predictions)*100)"
      ],
      "metadata": {
        "colab": {
          "base_uri": "https://localhost:8080/"
        },
        "id": "TrX6PbSzqIBy",
        "outputId": "83237a5a-aa82-48ef-858d-9f35ec94e9b2"
      },
      "execution_count": null,
      "outputs": [
        {
          "output_type": "stream",
          "name": "stdout",
          "text": [
            "[[96 13]\n",
            " [ 8 83]]\n",
            "              precision    recall  f1-score   support\n",
            "\n",
            "           0       0.92      0.88      0.90       109\n",
            "           1       0.86      0.91      0.89        91\n",
            "\n",
            "    accuracy                           0.90       200\n",
            "   macro avg       0.89      0.90      0.89       200\n",
            "weighted avg       0.90      0.90      0.90       200\n",
            "\n",
            "SVM Accuracy --> 89.5\n"
          ]
        }
      ]
    },
    {
      "cell_type": "code",
      "source": [
        "print(\"SVM f1-score -->\",f1_score(y_test, svm_predictions)*100)\n",
        "print(\"SVM precision_score -->\",precision_score(y_test, svm_predictions)*100)\n",
        "print(\"SVM recall_score -->\",recall_score(y_test, svm_predictions)*100)"
      ],
      "metadata": {
        "colab": {
          "base_uri": "https://localhost:8080/"
        },
        "id": "xecm6e9LqPUc",
        "outputId": "33aa5547-8b62-4fbb-b13c-f284cc8ff132"
      },
      "execution_count": null,
      "outputs": [
        {
          "output_type": "stream",
          "name": "stdout",
          "text": [
            "SVM f1-score --> 88.77005347593582\n",
            "SVM precision_score --> 86.45833333333334\n",
            "SVM recall_score --> 91.20879120879121\n"
          ]
        }
      ]
    },
    {
      "cell_type": "code",
      "source": [
        "X_trial = tfidfconverter.transform(tweets[\"normalized_tweet\"])\n",
        "\n",
        "trial_predict = svm_classifier.predict(X_trial)\n",
        "\n",
        "tweets[\"Predict_label\"] = trial_predict"
      ],
      "metadata": {
        "id": "aTO0A84gqWG1"
      },
      "execution_count": null,
      "outputs": []
    },
    {
      "cell_type": "code",
      "source": [
        "clf = SVC(random_state=0)\n",
        "clf.fit(X_train, y_train)\n",
        "SVC(random_state=0)\n",
        "plot_confusion_matrix(clf, X_test, y_test)  \n",
        "plt.show()"
      ],
      "metadata": {
        "colab": {
          "base_uri": "https://localhost:8080/",
          "height": 334
        },
        "id": "WjCgqtff2qSI",
        "outputId": "8969680c-0edd-477f-924a-b5694b5e82ec"
      },
      "execution_count": null,
      "outputs": [
        {
          "output_type": "stream",
          "name": "stderr",
          "text": [
            "/usr/local/lib/python3.7/dist-packages/sklearn/utils/deprecation.py:87: FutureWarning: Function plot_confusion_matrix is deprecated; Function `plot_confusion_matrix` is deprecated in 1.0 and will be removed in 1.2. Use one of the class methods: ConfusionMatrixDisplay.from_predictions or ConfusionMatrixDisplay.from_estimator.\n",
            "  warnings.warn(msg, category=FutureWarning)\n"
          ]
        },
        {
          "output_type": "display_data",
          "data": {
            "text/plain": [
              "<Figure size 432x288 with 2 Axes>"
            ],
            "image/png": "[encoded data removed]"
          },
          "metadata": {
            "needs_background": "light"
          }
        }
      ]
    },
    {
      "cell_type": "code",
      "source": [
        "### Naive Bayes"
      ],
      "metadata": {
        "id": "g5RBm2arqckk"
      },
      "execution_count": null,
      "outputs": []
    },
    {
      "cell_type": "code",
      "source": [
        "#Naive Bayes\n",
        "from sklearn.naive_bayes import MultinomialNB\n",
        "\n",
        "NB_classifier = MultinomialNB()\n",
        "NB_classifier.fit(X_train, y_train)\n",
        "\n",
        "NB_predictions = NB_classifier.predict(X_test)"
      ],
      "metadata": {
        "id": "jdH9CKr5qdwg"
      },
      "execution_count": null,
      "outputs": []
    },
    {
      "cell_type": "code",
      "source": [
        "print(confusion_matrix(y_test,NB_predictions))  \n",
        "print(classification_report(y_test,NB_predictions))  \n",
        "print(\"NB Accuracy -->\",accuracy_score(y_test, NB_predictions)*100)"
      ],
      "metadata": {
        "colab": {
          "base_uri": "https://localhost:8080/"
        },
        "id": "J7_Qqkelqd8e",
        "outputId": "78ba9463-8610-41c8-a38b-1314f183f87b"
      },
      "execution_count": null,
      "outputs": [
        {
          "output_type": "stream",
          "name": "stdout",
          "text": [
            "[[85 24]\n",
            " [ 9 82]]\n",
            "              precision    recall  f1-score   support\n",
            "\n",
            "           0       0.90      0.78      0.84       109\n",
            "           1       0.77      0.90      0.83        91\n",
            "\n",
            "    accuracy                           0.83       200\n",
            "   macro avg       0.84      0.84      0.83       200\n",
            "weighted avg       0.84      0.83      0.84       200\n",
            "\n",
            "NB Accuracy --> 83.5\n"
          ]
        }
      ]
    },
    {
      "cell_type": "code",
      "source": [
        "print(\"NB f1-score -->\",f1_score(y_test, NB_predictions)*100)\n",
        "print(\"NB precision_score -->\",precision_score(y_test, NB_predictions)*100)\n",
        "print(\"NB recall_score -->\",recall_score(y_test, NB_predictions)*100)"
      ],
      "metadata": {
        "colab": {
          "base_uri": "https://localhost:8080/"
        },
        "id": "p-PW10JRqeIN",
        "outputId": "ef062afe-2275-4d69-d4de-e851bcdcd263"
      },
      "execution_count": null,
      "outputs": [
        {
          "output_type": "stream",
          "name": "stdout",
          "text": [
            "NB f1-score --> 83.24873096446701\n",
            "NB precision_score --> 77.35849056603774\n",
            "NB recall_score --> 90.10989010989012\n"
          ]
        }
      ]
    },
    {
      "cell_type": "code",
      "source": [
        "clf2 = MultinomialNB()\n",
        "clf2.fit(X_train, y_train)\n",
        "MultinomialNB()\n",
        "plot_confusion_matrix(clf2, X_test, y_test)  \n",
        "plt.show()"
      ],
      "metadata": {
        "colab": {
          "base_uri": "https://localhost:8080/",
          "height": 334
        },
        "id": "EYikYg743IGY",
        "outputId": "559eb1e9-2947-4971-f30f-a691075f544c"
      },
      "execution_count": null,
      "outputs": [
        {
          "output_type": "stream",
          "name": "stderr",
          "text": [
            "/usr/local/lib/python3.7/dist-packages/sklearn/utils/deprecation.py:87: FutureWarning: Function plot_confusion_matrix is deprecated; Function `plot_confusion_matrix` is deprecated in 1.0 and will be removed in 1.2. Use one of the class methods: ConfusionMatrixDisplay.from_predictions or ConfusionMatrixDisplay.from_estimator.\n",
            "  warnings.warn(msg, category=FutureWarning)\n"
          ]
        },
        {
          "output_type": "display_data",
          "data": {
            "text/plain": [
              "<Figure size 432x288 with 2 Axes>"
            ],
            "image/png": "[encoded data removed]"
          },
          "metadata": {
            "needs_background": "light"
          }
        }
      ]
    }
  ]
}