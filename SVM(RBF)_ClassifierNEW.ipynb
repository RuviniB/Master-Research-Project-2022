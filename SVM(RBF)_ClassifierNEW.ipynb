{
  "nbformat": 4,
  "nbformat_minor": 0,
  "metadata": {
    "colab": {
      "name": "SVM(RBF)_ClassifierNEW",
      "provenance": []
    },
    "kernelspec": {
      "name": "python3",
      "display_name": "Python 3"
    },
    "language_info": {
      "name": "python"
    }
  },
  "cells": [
    {
      "cell_type": "code",
      "execution_count": null,
      "metadata": {
        "id": "E5pvE19ahaEh"
      },
      "outputs": [],
      "source": [
        "import numpy as np \n",
        "import pandas as pd \n",
        "from sklearn import model_selection\n",
        "\n",
        "from sklearn.metrics import f1_score, accuracy_score, precision_score, recall_score"
      ]
    },
    {
      "cell_type": "code",
      "source": [
        "URL = \"DATASET_URL\""
      ],
      "metadata": {
        "id": "eQHrQiOsi3pb"
      },
      "execution_count": null,
      "outputs": []
    },
    {
      "cell_type": "code",
      "source": [
        "#READ FILE\n",
        "tweets = pd.read_csv(URL)"
      ],
      "metadata": {
        "id": "VpQCD3AQi8NJ"
      },
      "execution_count": null,
      "outputs": []
    },
    {
      "cell_type": "code",
      "source": [
        "#Label encoding\n",
        "tweets['encode_label']=tweets['Category'].apply(lambda x: 1 if x=='yes' else 0)\n",
        "tweets.sample(5)"
      ],
      "metadata": {
        "colab": {
          "base_uri": "https://localhost:8080/",
          "height": 530
        },
        "id": "2kZ8Ph4wpR3S",
        "outputId": "d9c67e4e-cd9f-4b49-aa34-7fe4ff27784b"
      },
      "execution_count": null,
      "outputs": [
        {
          "output_type": "execute_result",
          "data": {
            "text/plain": [
              "        author id                 created_at               geo            id  \\\n",
              "638  1.545577e+09  2022-05-27 19:57:38+00:00  1c00cf44f69d95d3  1.530000e+18   \n",
              "811  3.254836e+08  2022-05-02 17:01:04+00:00  00fd3b1ffb89eb31  1.520000e+18   \n",
              "647  2.424065e+07  2022-05-26 22:13:02+00:00  7f15dd80ac78ef40  1.530000e+18   \n",
              "496  1.130000e+18  2022-02-06 13:15:58+00:00  616ba1df27270916  1.490000e+18   \n",
              "50   3.964340e+08  2021-02-27 22:14:34+00:00  4caac408027bf2e3  1.370000e+18   \n",
              "\n",
              "    lang  like_count  quote_count  reply_count  retweet_count  \\\n",
              "638   en           2            0            1              3   \n",
              "811   en           1            0            0              2   \n",
              "647   en           0            0            0              0   \n",
              "496   en           1            0            2              0   \n",
              "50    en           0            0            1              0   \n",
              "\n",
              "                  source                                              tweet  \\\n",
              "638  Twitter for Android   The WHO's guide to monkeypox...\\n'wear a mask...   \n",
              "811  Twitter for Android  #PintofScience is a festival held worldwide sh...   \n",
              "647   Twitter for iPhone   IÃ¢â‚¬â„¢ve just remembered, I have Covid, an...   \n",
              "496   Twitter for iPhone  CN, periods/body horror/sickness\\n.\\n.\\n.\\n.\\n...   \n",
              "50    Twitter for iPhone     Sorry not buying that all 7 people were 75+...   \n",
              "\n",
              "        Disease Category             location  \\\n",
              "638   Monkeypox      yes  Ilfracombe, England   \n",
              "811         NaN       no   Salisbury, England   \n",
              "647       COVID      yes     Bristol, England   \n",
              "496         NaN       no      Oxford, England   \n",
              "50   Winter flu      yes     Lincoln, England   \n",
              "\n",
              "                                               bbox  \\\n",
              "638  [-4.1405462, 51.1872567, -4.096538, 51.211164]   \n",
              "811    [-1.838006, 51.050942, -1.765956, 51.093695]   \n",
              "647    [-2.659936, 51.399367, -2.510844, 51.516387]   \n",
              "496  [-1.289608, 51.7122668, -1.1772587, 51.796305]   \n",
              "50    [-0.5993999, 53.186267, -0.49538, 53.2551753]   \n",
              "\n",
              "                                      normalized_tweet  \\\n",
              "638  ['guide', 'monkeypox', 'wear', 'mask', 'handli...   \n",
              "811  ['festival', 'held', 'worldwide', 'sharing', '...   \n",
              "647  ['remembered', 'covid', 'another', 'bbq', 'acc...   \n",
              "496  ['body', 'horror', 'sickness', 'cycle', 'like'...   \n",
              "50   ['buying', 'people', 'normal', 'winter', 'flu'...   \n",
              "\n",
              "                                    preprocessed_tweet  encode_label  \n",
              "638  guide monkeypox wear mask handling clothes bed...             1  \n",
              "811  pintofscience festival held worldwide sharing ...             0  \n",
              "647  remembered covid another bbq accident arm infe...             1  \n",
              "496  cn periods body horror sickness cycles like ma...             0  \n",
              "50   sorry buying people normal winter flu virus wo...             1  "
            ],
            "text/html": [
              "\n",
              "  <div id=\"df-2338fcc4-fedc-47fb-9176-95e94d26689d\">\n",
              "    <div class=\"colab-df-container\">\n",
              "      <div>\n",
              "<style scoped>\n",
              "    .dataframe tbody tr th:only-of-type {\n",
              "        vertical-align: middle;\n",
              "    }\n",
              "\n",
              "    .dataframe tbody tr th {\n",
              "        vertical-align: top;\n",
              "    }\n",
              "\n",
              "    .dataframe thead th {\n",
              "        text-align: right;\n",
              "    }\n",
              "</style>\n",
              "<table border=\"1\" class=\"dataframe\">\n",
              "  <thead>\n",
              "    <tr style=\"text-align: right;\">\n",
              "      <th></th>\n",
              "      <th>author id</th>\n",
              "      <th>created_at</th>\n",
              "      <th>geo</th>\n",
              "      <th>id</th>\n",
              "      <th>lang</th>\n",
              "      <th>like_count</th>\n",
              "      <th>quote_count</th>\n",
              "      <th>reply_count</th>\n",
              "      <th>retweet_count</th>\n",
              "      <th>source</th>\n",
              "      <th>tweet</th>\n",
              "      <th>Disease</th>\n",
              "      <th>Category</th>\n",
              "      <th>location</th>\n",
              "      <th>bbox</th>\n",
              "      <th>normalized_tweet</th>\n",
              "      <th>preprocessed_tweet</th>\n",
              "      <th>encode_label</th>\n",
              "    </tr>\n",
              "  </thead>\n",
              "  <tbody>\n",
              "    <tr>\n",
              "      <th>638</th>\n",
              "      <td>1.545577e+09</td>\n",
              "      <td>2022-05-27 19:57:38+00:00</td>\n",
              "      <td>1c00cf44f69d95d3</td>\n",
              "      <td>1.530000e+18</td>\n",
              "      <td>en</td>\n",
              "      <td>2</td>\n",
              "      <td>0</td>\n",
              "      <td>1</td>\n",
              "      <td>3</td>\n",
              "      <td>Twitter for Android</td>\n",
              "      <td>The WHO's guide to monkeypox...\\n'wear a mask...</td>\n",
              "      <td>Monkeypox</td>\n",
              "      <td>yes</td>\n",
              "      <td>Ilfracombe, England</td>\n",
              "      <td>[-4.1405462, 51.1872567, -4.096538, 51.211164]</td>\n",
              "      <td>['guide', 'monkeypox', 'wear', 'mask', 'handli...</td>\n",
              "      <td>guide monkeypox wear mask handling clothes bed...</td>\n",
              "      <td>1</td>\n",
              "    </tr>\n",
              "    <tr>\n",
              "      <th>811</th>\n",
              "      <td>3.254836e+08</td>\n",
              "      <td>2022-05-02 17:01:04+00:00</td>\n",
              "      <td>00fd3b1ffb89eb31</td>\n",
              "      <td>1.520000e+18</td>\n",
              "      <td>en</td>\n",
              "      <td>1</td>\n",
              "      <td>0</td>\n",
              "      <td>0</td>\n",
              "      <td>2</td>\n",
              "      <td>Twitter for Android</td>\n",
              "      <td>#PintofScience is a festival held worldwide sh...</td>\n",
              "      <td>NaN</td>\n",
              "      <td>no</td>\n",
              "      <td>Salisbury, England</td>\n",
              "      <td>[-1.838006, 51.050942, -1.765956, 51.093695]</td>\n",
              "      <td>['festival', 'held', 'worldwide', 'sharing', '...</td>\n",
              "      <td>pintofscience festival held worldwide sharing ...</td>\n",
              "      <td>0</td>\n",
              "    </tr>\n",
              "    <tr>\n",
              "      <th>647</th>\n",
              "      <td>2.424065e+07</td>\n",
              "      <td>2022-05-26 22:13:02+00:00</td>\n",
              "      <td>7f15dd80ac78ef40</td>\n",
              "      <td>1.530000e+18</td>\n",
              "      <td>en</td>\n",
              "      <td>0</td>\n",
              "      <td>0</td>\n",
              "      <td>0</td>\n",
              "      <td>0</td>\n",
              "      <td>Twitter for iPhone</td>\n",
              "      <td>IÃ¢â‚¬â„¢ve just remembered, I have Covid, an...</td>\n",
              "      <td>COVID</td>\n",
              "      <td>yes</td>\n",
              "      <td>Bristol, England</td>\n",
              "      <td>[-2.659936, 51.399367, -2.510844, 51.516387]</td>\n",
              "      <td>['remembered', 'covid', 'another', 'bbq', 'acc...</td>\n",
              "      <td>remembered covid another bbq accident arm infe...</td>\n",
              "      <td>1</td>\n",
              "    </tr>\n",
              "    <tr>\n",
              "      <th>496</th>\n",
              "      <td>1.130000e+18</td>\n",
              "      <td>2022-02-06 13:15:58+00:00</td>\n",
              "      <td>616ba1df27270916</td>\n",
              "      <td>1.490000e+18</td>\n",
              "      <td>en</td>\n",
              "      <td>1</td>\n",
              "      <td>0</td>\n",
              "      <td>2</td>\n",
              "      <td>0</td>\n",
              "      <td>Twitter for iPhone</td>\n",
              "      <td>CN, periods/body horror/sickness\\n.\\n.\\n.\\n.\\n...</td>\n",
              "      <td>NaN</td>\n",
              "      <td>no</td>\n",
              "      <td>Oxford, England</td>\n",
              "      <td>[-1.289608, 51.7122668, -1.1772587, 51.796305]</td>\n",
              "      <td>['body', 'horror', 'sickness', 'cycle', 'like'...</td>\n",
              "      <td>cn periods body horror sickness cycles like ma...</td>\n",
              "      <td>0</td>\n",
              "    </tr>\n",
              "    <tr>\n",
              "      <th>50</th>\n",
              "      <td>3.964340e+08</td>\n",
              "      <td>2021-02-27 22:14:34+00:00</td>\n",
              "      <td>4caac408027bf2e3</td>\n",
              "      <td>1.370000e+18</td>\n",
              "      <td>en</td>\n",
              "      <td>0</td>\n",
              "      <td>0</td>\n",
              "      <td>1</td>\n",
              "      <td>0</td>\n",
              "      <td>Twitter for iPhone</td>\n",
              "      <td>Sorry not buying that all 7 people were 75+...</td>\n",
              "      <td>Winter flu</td>\n",
              "      <td>yes</td>\n",
              "      <td>Lincoln, England</td>\n",
              "      <td>[-0.5993999, 53.186267, -0.49538, 53.2551753]</td>\n",
              "      <td>['buying', 'people', 'normal', 'winter', 'flu'...</td>\n",
              "      <td>sorry buying people normal winter flu virus wo...</td>\n",
              "      <td>1</td>\n",
              "    </tr>\n",
              "  </tbody>\n",
              "</table>\n",
              "</div>\n",
              "      <button class=\"colab-df-convert\" onclick=\"convertToInteractive('df-2338fcc4-fedc-47fb-9176-95e94d26689d')\"\n",
              "              title=\"Convert this dataframe to an interactive table.\"\n",
              "              style=\"display:none;\">\n",
              "        \n",
              "  <svg xmlns=\"http://www.w3.org/2000/svg\" height=\"24px\"viewBox=\"0 0 24 24\"\n",
              "       width=\"24px\">\n",
              "    <path d=\"M0 0h24v24H0V0z\" fill=\"none\"/>\n",
              "    <path d=\"M18.56 5.44l.94 2.06.94-2.06 2.06-.94-2.06-.94-.94-2.06-.94 2.06-2.06.94zm-11 1L8.5 8.5l.94-2.06 2.06-.94-2.06-.94L8.5 2.5l-.94 2.06-2.06.94zm10 10l.94 2.06.94-2.06 2.06-.94-2.06-.94-.94-2.06-.94 2.06-2.06.94z\"/><path d=\"M17.41 7.96l-1.37-1.37c-.4-.4-.92-.59-1.43-.59-.52 0-1.04.2-1.43.59L10.3 9.45l-7.72 7.72c-.78.78-.78 2.05 0 2.83L4 21.41c.39.39.9.59 1.41.59.51 0 1.02-.2 1.41-.59l7.78-7.78 2.81-2.81c.8-.78.8-2.07 0-2.86zM5.41 20L4 18.59l7.72-7.72 1.47 1.35L5.41 20z\"/>\n",
              "  </svg>\n",
              "      </button>\n",
              "      \n",
              "  <style>\n",
              "    .colab-df-container {\n",
              "      display:flex;\n",
              "      flex-wrap:wrap;\n",
              "      gap: 12px;\n",
              "    }\n",
              "\n",
              "    .colab-df-convert {\n",
              "      background-color: #E8F0FE;\n",
              "      border: none;\n",
              "      border-radius: 50%;\n",
              "      cursor: pointer;\n",
              "      display: none;\n",
              "      fill: #1967D2;\n",
              "      height: 32px;\n",
              "      padding: 0 0 0 0;\n",
              "      width: 32px;\n",
              "    }\n",
              "\n",
              "    .colab-df-convert:hover {\n",
              "      background-color: #E2EBFA;\n",
              "      box-shadow: 0px 1px 2px rgba(60, 64, 67, 0.3), 0px 1px 3px 1px rgba(60, 64, 67, 0.15);\n",
              "      fill: #174EA6;\n",
              "    }\n",
              "\n",
              "    [theme=dark] .colab-df-convert {\n",
              "      background-color: #3B4455;\n",
              "      fill: #D2E3FC;\n",
              "    }\n",
              "\n",
              "    [theme=dark] .colab-df-convert:hover {\n",
              "      background-color: #434B5C;\n",
              "      box-shadow: 0px 1px 3px 1px rgba(0, 0, 0, 0.15);\n",
              "      filter: drop-shadow(0px 1px 2px rgba(0, 0, 0, 0.3));\n",
              "      fill: #FFFFFF;\n",
              "    }\n",
              "  </style>\n",
              "\n",
              "      <script>\n",
              "        const buttonEl =\n",
              "          document.querySelector('#df-2338fcc4-fedc-47fb-9176-95e94d26689d button.colab-df-convert');\n",
              "        buttonEl.style.display =\n",
              "          google.colab.kernel.accessAllowed ? 'block' : 'none';\n",
              "\n",
              "        async function convertToInteractive(key) {\n",
              "          const element = document.querySelector('#df-2338fcc4-fedc-47fb-9176-95e94d26689d');\n",
              "          const dataTable =\n",
              "            await google.colab.kernel.invokeFunction('convertToInteractive',\n",
              "                                                     [key], {});\n",
              "          if (!dataTable) return;\n",
              "\n",
              "          const docLinkHtml = 'Like what you see? Visit the ' +\n",
              "            '<a target=\"_blank\" href=https://colab.research.google.com/notebooks/data_table.ipynb>data table notebook</a>'\n",
              "            + ' to learn more about interactive tables.';\n",
              "          element.innerHTML = '';\n",
              "          dataTable['output_type'] = 'display_data';\n",
              "          await google.colab.output.renderOutput(dataTable, element);\n",
              "          const docLink = document.createElement('div');\n",
              "          docLink.innerHTML = docLinkHtml;\n",
              "          element.appendChild(docLink);\n",
              "        }\n",
              "      </script>\n",
              "    </div>\n",
              "  </div>\n",
              "  "
            ]
          },
          "metadata": {},
          "execution_count": 4
        }
      ]
    },
    {
      "cell_type": "code",
      "source": [
        "import pandas as pd\n",
        "\n",
        "df = pd.read_csv(URL)\n",
        "df.head(5)"
      ],
      "metadata": {
        "colab": {
          "base_uri": "https://localhost:8080/",
          "height": 530
        },
        "id": "gKXgXVcWpWDK",
        "outputId": "40967d6d-9494-4cce-ac2b-1f2015a0fc2a"
      },
      "execution_count": null,
      "outputs": [
        {
          "output_type": "execute_result",
          "data": {
            "text/plain": [
              "      author id                 created_at               geo            id  \\\n",
              "0  8.847627e+07  2021-01-30 23:27:51+00:00  0af014accd6f6e99  1.360000e+18   \n",
              "1  2.212480e+09  2021-01-30 23:22:42+00:00  544762ebf7fda780  1.360000e+18   \n",
              "2  2.180468e+07  2021-01-30 23:21:37+00:00  0282e03e23c71cd9  1.360000e+18   \n",
              "3  3.368075e+09  2021-01-30 23:17:59+00:00  6950c01e141ecebc  1.360000e+18   \n",
              "4  1.170000e+18  2021-01-30 23:11:52+00:00  3e20eaf0dc70acfe  1.360000e+18   \n",
              "\n",
              "  lang  like_count  quote_count  reply_count  retweet_count  \\\n",
              "0   en           2            0            0              0   \n",
              "1   en           0            0            1              0   \n",
              "2   en           0            0            0              0   \n",
              "3   en           2            0            0              0   \n",
              "4   en           0            0            0              0   \n",
              "\n",
              "                source                                              tweet  \\\n",
              "0   Twitter for iPhone   Also, spoongate and highlightergate took me p...   \n",
              "1  Twitter for Android      But spreading the vaccine more thinly acro...   \n",
              "2   Twitter for iPhone                                  You read my mind!   \n",
              "3   Twitter for iPhone  The fact sea shanties are viral on tiktok has ...   \n",
              "4  Twitter for Android      good evening guys Ã¢ÂÂ¤Ã¯Â¸Â I miss you....   \n",
              "\n",
              "  Disease Category                   location  \\\n",
              "0     NaN       no   Scotland, United Kingdom   \n",
              "1     NaN       no          Islington, London   \n",
              "2     NaN       no         Walberton, England   \n",
              "3     NaN       no           Pendeen, England   \n",
              "4     NaN       no  Stockton-on-Tees, England   \n",
              "\n",
              "                                                bbox  \\\n",
              "0  [-7.66085699743185, 54.6336309570711, -0.74002...   \n",
              "1     [-0.1420579, 51.5185518, -0.076305, 51.575301]   \n",
              "2       [-0.649321, 50.842058, -0.613803, 50.857136]   \n",
              "3       [-5.672772, 50.147916, -5.650931, 50.155494]   \n",
              "4      [-1.372296, 54.538762, -1.2717038, 54.600693]   \n",
              "\n",
              "                                    normalized_tweet  \\\n",
              "0  ['highlightergate', 'took', 'perilously', 'clo...   \n",
              "1  ['vaccine', 'thinly', 'across', 'country', 'op...   \n",
              "2                                           ['mind']   \n",
              "3  ['sea', 'shanty', 'viral', 'tiktok', 'made', '...   \n",
              "4  ['guy', 'miss', 'virus', 'never', 'get', 'u', ...   \n",
              "\n",
              "                                  preprocessed_tweet  \n",
              "0  also spoongate highlightergate took perilously...  \n",
              "1  spreading vaccine thinly across countries oppo...  \n",
              "2                                          read mind  \n",
              "3  fact sea shanties viral tiktok made heart happ...  \n",
              "4  good evening guys miss virus never get us back...  "
            ],
            "text/html": [
              "\n",
              "  <div id=\"df-f085084e-2743-47b0-aa5d-a833733c7b5d\">\n",
              "    <div class=\"colab-df-container\">\n",
              "      <div>\n",
              "<style scoped>\n",
              "    .dataframe tbody tr th:only-of-type {\n",
              "        vertical-align: middle;\n",
              "    }\n",
              "\n",
              "    .dataframe tbody tr th {\n",
              "        vertical-align: top;\n",
              "    }\n",
              "\n",
              "    .dataframe thead th {\n",
              "        text-align: right;\n",
              "    }\n",
              "</style>\n",
              "<table border=\"1\" class=\"dataframe\">\n",
              "  <thead>\n",
              "    <tr style=\"text-align: right;\">\n",
              "      <th></th>\n",
              "      <th>author id</th>\n",
              "      <th>created_at</th>\n",
              "      <th>geo</th>\n",
              "      <th>id</th>\n",
              "      <th>lang</th>\n",
              "      <th>like_count</th>\n",
              "      <th>quote_count</th>\n",
              "      <th>reply_count</th>\n",
              "      <th>retweet_count</th>\n",
              "      <th>source</th>\n",
              "      <th>tweet</th>\n",
              "      <th>Disease</th>\n",
              "      <th>Category</th>\n",
              "      <th>location</th>\n",
              "      <th>bbox</th>\n",
              "      <th>normalized_tweet</th>\n",
              "      <th>preprocessed_tweet</th>\n",
              "    </tr>\n",
              "  </thead>\n",
              "  <tbody>\n",
              "    <tr>\n",
              "      <th>0</th>\n",
              "      <td>8.847627e+07</td>\n",
              "      <td>2021-01-30 23:27:51+00:00</td>\n",
              "      <td>0af014accd6f6e99</td>\n",
              "      <td>1.360000e+18</td>\n",
              "      <td>en</td>\n",
              "      <td>2</td>\n",
              "      <td>0</td>\n",
              "      <td>0</td>\n",
              "      <td>0</td>\n",
              "      <td>Twitter for iPhone</td>\n",
              "      <td>Also, spoongate and highlightergate took me p...</td>\n",
              "      <td>NaN</td>\n",
              "      <td>no</td>\n",
              "      <td>Scotland, United Kingdom</td>\n",
              "      <td>[-7.66085699743185, 54.6336309570711, -0.74002...</td>\n",
              "      <td>['highlightergate', 'took', 'perilously', 'clo...</td>\n",
              "      <td>also spoongate highlightergate took perilously...</td>\n",
              "    </tr>\n",
              "    <tr>\n",
              "      <th>1</th>\n",
              "      <td>2.212480e+09</td>\n",
              "      <td>2021-01-30 23:22:42+00:00</td>\n",
              "      <td>544762ebf7fda780</td>\n",
              "      <td>1.360000e+18</td>\n",
              "      <td>en</td>\n",
              "      <td>0</td>\n",
              "      <td>0</td>\n",
              "      <td>1</td>\n",
              "      <td>0</td>\n",
              "      <td>Twitter for Android</td>\n",
              "      <td>But spreading the vaccine more thinly acro...</td>\n",
              "      <td>NaN</td>\n",
              "      <td>no</td>\n",
              "      <td>Islington, London</td>\n",
              "      <td>[-0.1420579, 51.5185518, -0.076305, 51.575301]</td>\n",
              "      <td>['vaccine', 'thinly', 'across', 'country', 'op...</td>\n",
              "      <td>spreading vaccine thinly across countries oppo...</td>\n",
              "    </tr>\n",
              "    <tr>\n",
              "      <th>2</th>\n",
              "      <td>2.180468e+07</td>\n",
              "      <td>2021-01-30 23:21:37+00:00</td>\n",
              "      <td>0282e03e23c71cd9</td>\n",
              "      <td>1.360000e+18</td>\n",
              "      <td>en</td>\n",
              "      <td>0</td>\n",
              "      <td>0</td>\n",
              "      <td>0</td>\n",
              "      <td>0</td>\n",
              "      <td>Twitter for iPhone</td>\n",
              "      <td>You read my mind!</td>\n",
              "      <td>NaN</td>\n",
              "      <td>no</td>\n",
              "      <td>Walberton, England</td>\n",
              "      <td>[-0.649321, 50.842058, -0.613803, 50.857136]</td>\n",
              "      <td>['mind']</td>\n",
              "      <td>read mind</td>\n",
              "    </tr>\n",
              "    <tr>\n",
              "      <th>3</th>\n",
              "      <td>3.368075e+09</td>\n",
              "      <td>2021-01-30 23:17:59+00:00</td>\n",
              "      <td>6950c01e141ecebc</td>\n",
              "      <td>1.360000e+18</td>\n",
              "      <td>en</td>\n",
              "      <td>2</td>\n",
              "      <td>0</td>\n",
              "      <td>0</td>\n",
              "      <td>0</td>\n",
              "      <td>Twitter for iPhone</td>\n",
              "      <td>The fact sea shanties are viral on tiktok has ...</td>\n",
              "      <td>NaN</td>\n",
              "      <td>no</td>\n",
              "      <td>Pendeen, England</td>\n",
              "      <td>[-5.672772, 50.147916, -5.650931, 50.155494]</td>\n",
              "      <td>['sea', 'shanty', 'viral', 'tiktok', 'made', '...</td>\n",
              "      <td>fact sea shanties viral tiktok made heart happ...</td>\n",
              "    </tr>\n",
              "    <tr>\n",
              "      <th>4</th>\n",
              "      <td>1.170000e+18</td>\n",
              "      <td>2021-01-30 23:11:52+00:00</td>\n",
              "      <td>3e20eaf0dc70acfe</td>\n",
              "      <td>1.360000e+18</td>\n",
              "      <td>en</td>\n",
              "      <td>0</td>\n",
              "      <td>0</td>\n",
              "      <td>0</td>\n",
              "      <td>0</td>\n",
              "      <td>Twitter for Android</td>\n",
              "      <td>good evening guys Ã¢ÂÂ¤Ã¯Â¸Â I miss you....</td>\n",
              "      <td>NaN</td>\n",
              "      <td>no</td>\n",
              "      <td>Stockton-on-Tees, England</td>\n",
              "      <td>[-1.372296, 54.538762, -1.2717038, 54.600693]</td>\n",
              "      <td>['guy', 'miss', 'virus', 'never', 'get', 'u', ...</td>\n",
              "      <td>good evening guys miss virus never get us back...</td>\n",
              "    </tr>\n",
              "  </tbody>\n",
              "</table>\n",
              "</div>\n",
              "      <button class=\"colab-df-convert\" onclick=\"convertToInteractive('df-f085084e-2743-47b0-aa5d-a833733c7b5d')\"\n",
              "              title=\"Convert this dataframe to an interactive table.\"\n",
              "              style=\"display:none;\">\n",
              "        \n",
              "  <svg xmlns=\"http://www.w3.org/2000/svg\" height=\"24px\"viewBox=\"0 0 24 24\"\n",
              "       width=\"24px\">\n",
              "    <path d=\"M0 0h24v24H0V0z\" fill=\"none\"/>\n",
              "    <path d=\"M18.56 5.44l.94 2.06.94-2.06 2.06-.94-2.06-.94-.94-2.06-.94 2.06-2.06.94zm-11 1L8.5 8.5l.94-2.06 2.06-.94-2.06-.94L8.5 2.5l-.94 2.06-2.06.94zm10 10l.94 2.06.94-2.06 2.06-.94-2.06-.94-.94-2.06-.94 2.06-2.06.94z\"/><path d=\"M17.41 7.96l-1.37-1.37c-.4-.4-.92-.59-1.43-.59-.52 0-1.04.2-1.43.59L10.3 9.45l-7.72 7.72c-.78.78-.78 2.05 0 2.83L4 21.41c.39.39.9.59 1.41.59.51 0 1.02-.2 1.41-.59l7.78-7.78 2.81-2.81c.8-.78.8-2.07 0-2.86zM5.41 20L4 18.59l7.72-7.72 1.47 1.35L5.41 20z\"/>\n",
              "  </svg>\n",
              "      </button>\n",
              "      \n",
              "  <style>\n",
              "    .colab-df-container {\n",
              "      display:flex;\n",
              "      flex-wrap:wrap;\n",
              "      gap: 12px;\n",
              "    }\n",
              "\n",
              "    .colab-df-convert {\n",
              "      background-color: #E8F0FE;\n",
              "      border: none;\n",
              "      border-radius: 50%;\n",
              "      cursor: pointer;\n",
              "      display: none;\n",
              "      fill: #1967D2;\n",
              "      height: 32px;\n",
              "      padding: 0 0 0 0;\n",
              "      width: 32px;\n",
              "    }\n",
              "\n",
              "    .colab-df-convert:hover {\n",
              "      background-color: #E2EBFA;\n",
              "      box-shadow: 0px 1px 2px rgba(60, 64, 67, 0.3), 0px 1px 3px 1px rgba(60, 64, 67, 0.15);\n",
              "      fill: #174EA6;\n",
              "    }\n",
              "\n",
              "    [theme=dark] .colab-df-convert {\n",
              "      background-color: #3B4455;\n",
              "      fill: #D2E3FC;\n",
              "    }\n",
              "\n",
              "    [theme=dark] .colab-df-convert:hover {\n",
              "      background-color: #434B5C;\n",
              "      box-shadow: 0px 1px 3px 1px rgba(0, 0, 0, 0.15);\n",
              "      filter: drop-shadow(0px 1px 2px rgba(0, 0, 0, 0.3));\n",
              "      fill: #FFFFFF;\n",
              "    }\n",
              "  </style>\n",
              "\n",
              "      <script>\n",
              "        const buttonEl =\n",
              "          document.querySelector('#df-f085084e-2743-47b0-aa5d-a833733c7b5d button.colab-df-convert');\n",
              "        buttonEl.style.display =\n",
              "          google.colab.kernel.accessAllowed ? 'block' : 'none';\n",
              "\n",
              "        async function convertToInteractive(key) {\n",
              "          const element = document.querySelector('#df-f085084e-2743-47b0-aa5d-a833733c7b5d');\n",
              "          const dataTable =\n",
              "            await google.colab.kernel.invokeFunction('convertToInteractive',\n",
              "                                                     [key], {});\n",
              "          if (!dataTable) return;\n",
              "\n",
              "          const docLinkHtml = 'Like what you see? Visit the ' +\n",
              "            '<a target=\"_blank\" href=https://colab.research.google.com/notebooks/data_table.ipynb>data table notebook</a>'\n",
              "            + ' to learn more about interactive tables.';\n",
              "          element.innerHTML = '';\n",
              "          dataTable['output_type'] = 'display_data';\n",
              "          await google.colab.output.renderOutput(dataTable, element);\n",
              "          const docLink = document.createElement('div');\n",
              "          docLink.innerHTML = docLinkHtml;\n",
              "          element.appendChild(docLink);\n",
              "        }\n",
              "      </script>\n",
              "    </div>\n",
              "  </div>\n",
              "  "
            ]
          },
          "metadata": {},
          "execution_count": 5
        }
      ]
    },
    {
      "cell_type": "code",
      "source": [
        "#split training data\n",
        "X_train, X_test, y_train, y_test = model_selection.train_test_split(tweets[\"normalized_tweet\"], tweets[\"encode_label\"], stratify=None, test_size=0.2)"
      ],
      "metadata": {
        "id": "XAYtj-xOpkI8"
      },
      "execution_count": null,
      "outputs": []
    },
    {
      "cell_type": "code",
      "source": [
        "X_train.head()"
      ],
      "metadata": {
        "colab": {
          "base_uri": "https://localhost:8080/"
        },
        "id": "tjuTt3Ezpmqk",
        "outputId": "2e002a69-564e-4f88-b9a6-08271aef6307"
      },
      "execution_count": null,
      "outputs": [
        {
          "output_type": "execute_result",
          "data": {
            "text/plain": [
              "713    ['say', 'suffering', 'nasty', 'bout', 'shingle...\n",
              "866    ['basic', 'viral', 'tweet', 'link', 'space', '...\n",
              "818    ['getting', 'message', 'saying', 'gone', 'vira...\n",
              "34     ['invited', 'book', 'covid', 'test', 'went', '...\n",
              "203    ['enough', 'fun', 'hell', 'norovirus', 'return...\n",
              "Name: normalized_tweet, dtype: object"
            ]
          },
          "metadata": {},
          "execution_count": 7
        }
      ]
    },
    {
      "cell_type": "code",
      "source": [
        "#tfidf vectorizer\n",
        "from sklearn.feature_extraction.text import TfidfVectorizer  \n",
        "\n",
        "tfidfconverter = TfidfVectorizer(max_features=2000, min_df=5, max_df=0.7)  \n",
        "tfidfconverter.fit(tweets[\"normalized_tweet\"])\n",
        "X_train = tfidfconverter.transform(X_train)\n",
        "X_test = tfidfconverter.transform(X_test)"
      ],
      "metadata": {
        "id": "CDZZFGeHpqyM"
      },
      "execution_count": null,
      "outputs": []
    },
    {
      "cell_type": "code",
      "source": [
        "from sklearn.metrics import classification_report, confusion_matrix, accuracy_score\n",
        " \n"
      ],
      "metadata": {
        "id": "rmeTC01bp468"
      },
      "execution_count": null,
      "outputs": []
    },
    {
      "cell_type": "code",
      "source": [
        " import matplotlib.pyplot as plt"
      ],
      "metadata": {
        "id": "rTZsCetr42wm"
      },
      "execution_count": null,
      "outputs": []
    },
    {
      "cell_type": "code",
      "source": [
        "from sklearn.metrics import plot_confusion_matrix"
      ],
      "metadata": {
        "id": "zI_YZ8VC43i-"
      },
      "execution_count": null,
      "outputs": []
    },
    {
      "cell_type": "code",
      "source": [
        "### SVM"
      ],
      "metadata": {
        "id": "ZgCiVJqjqASE"
      },
      "execution_count": null,
      "outputs": []
    },
    {
      "cell_type": "code",
      "source": [
        "#SVM (RBF)\n",
        "from sklearn.svm import SVC\n",
        "\n",
        "svm_classifier = SVC(kernel=\"rbf\")\n",
        "svm_classifier.fit(X_train, y_train)\n",
        "\n",
        "svm_predictions = svm_classifier.predict(X_test)"
      ],
      "metadata": {
        "id": "iePDon3FqAfr"
      },
      "execution_count": null,
      "outputs": []
    },
    {
      "cell_type": "code",
      "source": [
        "# print Accuracy and confusion matrix of SVM(RBF)\n",
        "print(confusion_matrix(y_test,svm_predictions))  \n",
        "print(classification_report(y_test,svm_predictions))  \n",
        "print(\"SVM Accuracy -->\",accuracy_score(y_test, svm_predictions)*100)"
      ],
      "metadata": {
        "colab": {
          "base_uri": "https://localhost:8080/"
        },
        "id": "TrX6PbSzqIBy",
        "outputId": "9f696934-2d9f-4a4d-d5ad-9b8387ac9818"
      },
      "execution_count": null,
      "outputs": [
        {
          "output_type": "stream",
          "name": "stdout",
          "text": [
            "[[74 19]\n",
            " [13 94]]\n",
            "              precision    recall  f1-score   support\n",
            "\n",
            "           0       0.85      0.80      0.82        93\n",
            "           1       0.83      0.88      0.85       107\n",
            "\n",
            "    accuracy                           0.84       200\n",
            "   macro avg       0.84      0.84      0.84       200\n",
            "weighted avg       0.84      0.84      0.84       200\n",
            "\n",
            "SVM Accuracy --> 84.0\n"
          ]
        }
      ]
    },
    {
      "cell_type": "code",
      "source": [
        "#print Accuracy, precision, recall, f1-score\n",
        "\n",
        "print(\"SVM f1-score -->\",f1_score(y_test, svm_predictions)*100)\n",
        "print(\"SVM precision_score -->\",precision_score(y_test, svm_predictions)*100)\n",
        "print(\"SVM recall_score -->\",recall_score(y_test, svm_predictions)*100)"
      ],
      "metadata": {
        "colab": {
          "base_uri": "https://localhost:8080/"
        },
        "id": "xecm6e9LqPUc",
        "outputId": "d59b3c99-a022-4632-80c9-cd2dcd047154"
      },
      "execution_count": null,
      "outputs": [
        {
          "output_type": "stream",
          "name": "stdout",
          "text": [
            "SVM f1-score --> 85.45454545454547\n",
            "SVM precision_score --> 83.1858407079646\n",
            "SVM recall_score --> 87.85046728971963\n"
          ]
        }
      ]
    },
    {
      "cell_type": "code",
      "source": [
        " import matplotlib.pyplot as plt"
      ],
      "metadata": {
        "id": "aTO0A84gqWG1"
      },
      "execution_count": null,
      "outputs": []
    },
    {
      "cell_type": "code",
      "source": [
        "from sklearn.metrics import plot_confusion_matrix"
      ],
      "metadata": {
        "id": "WjCgqtff2qSI"
      },
      "execution_count": null,
      "outputs": []
    },
    {
      "cell_type": "code",
      "source": [
        "#print confusion matrix\n",
        "print(confusion_matrix(y_test,svm_predictions))  \n",
        "print(classification_report(y_test,svm_predictions))  \n",
        "\n",
        "print(\"SVM Accuracy -->\",accuracy_score(y_test, svm_predictions)*100)"
      ],
      "metadata": {
        "id": "g5RBm2arqckk",
        "colab": {
          "base_uri": "https://localhost:8080/"
        },
        "outputId": "deb2bfb7-d293-4025-d150-7c5353630cb8"
      },
      "execution_count": null,
      "outputs": [
        {
          "output_type": "stream",
          "name": "stdout",
          "text": [
            "[[74 19]\n",
            " [13 94]]\n",
            "              precision    recall  f1-score   support\n",
            "\n",
            "           0       0.85      0.80      0.82        93\n",
            "           1       0.83      0.88      0.85       107\n",
            "\n",
            "    accuracy                           0.84       200\n",
            "   macro avg       0.84      0.84      0.84       200\n",
            "weighted avg       0.84      0.84      0.84       200\n",
            "\n",
            "SVM Accuracy --> 84.0\n"
          ]
        }
      ]
    },
    {
      "cell_type": "code",
      "source": [
        "#visualize confution matrix\n",
        "clf4 = SVC(random_state=0)\n",
        "clf4.fit(X_train, y_train)\n",
        "SVC(random_state=0)\n",
        "plot_confusion_matrix(clf4, X_test, y_test)  \n",
        "plt.show()"
      ],
      "metadata": {
        "id": "jdH9CKr5qdwg",
        "colab": {
          "base_uri": "https://localhost:8080/",
          "height": 334
        },
        "outputId": "8ce2ac00-57bc-41ae-833d-95fe3096e780"
      },
      "execution_count": null,
      "outputs": [
        {
          "output_type": "stream",
          "name": "stderr",
          "text": [
            "/usr/local/lib/python3.7/dist-packages/sklearn/utils/deprecation.py:87: FutureWarning: Function plot_confusion_matrix is deprecated; Function `plot_confusion_matrix` is deprecated in 1.0 and will be removed in 1.2. Use one of the class methods: ConfusionMatrixDisplay.from_predictions or ConfusionMatrixDisplay.from_estimator.\n",
            "  warnings.warn(msg, category=FutureWarning)\n"
          ]
        },
        {
          "output_type": "display_data",
          "data": {
            "text/plain": [
              "<Figure size 432x288 with 2 Axes>"
            ],
            "image/png": "[encoded data removed]"
          },
          "metadata": {
            "needs_background": "light"
          }
        }
      ]
    },
    {
      "cell_type": "code",
      "source": [
        ""
      ],
      "metadata": {
        "id": "J7_Qqkelqd8e"
      },
      "execution_count": null,
      "outputs": []
    },
    {
      "cell_type": "code",
      "source": [
        ""
      ],
      "metadata": {
        "id": "p-PW10JRqeIN"
      },
      "execution_count": null,
      "outputs": []
    },
    {
      "cell_type": "code",
      "source": [
        ""
      ],
      "metadata": {
        "id": "EYikYg743IGY"
      },
      "execution_count": null,
      "outputs": []
    }
  ]
}